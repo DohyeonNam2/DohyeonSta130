{
 "cells": [
  {
   "cell_type": "code",
   "execution_count": null,
   "id": "3b256096",
   "metadata": {},
   "outputs": [],
   "source": [
    "# 1.\n",
    "\n",
    "'''\n",
    "Count: The number of non-missing (non-NA/null) values in the column.\n",
    "Mean: The arithmetic average of the values in the column.\n",
    "Std (Standard Deviation): A measure of the dispersion or spread of the values in the column. It quantifies how much the values deviate from the mean.\n",
    "Min: The minimum value in the column.\n",
    "25% (First Quartile): The value below which 25% of the data fall. This is the first quartile (Q1).\n",
    "50% (Median or Second Quartile): The value below which 50% of the data fall. This is the median (Q2).\n",
    "75% (Third Quartile): The value below which 75% of the data fall. This is the third quartile (Q3).\n",
    "Max: The maximum value in the column.\n",
    "'''\n"
   ]
  },
  {
   "cell_type": "code",
   "execution_count": 11,
   "id": "1e84b47b",
   "metadata": {},
   "outputs": [
    {
     "name": "stdout",
     "output_type": "stream",
     "text": [
      "         survived      pclass         age       sibsp       parch        fare\n",
      "count  891.000000  891.000000  714.000000  891.000000  891.000000  891.000000\n",
      "mean     0.383838    2.308642   29.699118    0.523008    0.381594   32.204208\n",
      "std      0.486592    0.836071   14.526497    1.102743    0.806057   49.693429\n",
      "min      0.000000    1.000000    0.420000    0.000000    0.000000    0.000000\n",
      "25%      0.000000    2.000000   20.125000    0.000000    0.000000    7.910400\n",
      "50%      0.000000    3.000000   28.000000    0.000000    0.000000   14.454200\n",
      "75%      1.000000    3.000000   38.000000    1.000000    0.000000   31.000000\n",
      "max      1.000000    3.000000   80.000000    8.000000    6.000000  512.329200\n"
     ]
    }
   ],
   "source": [
    "\n",
    "url = \"https://raw.githubusercontent.com/mwaskom/seaborn-data/master/titanic.csv\"\n",
    "df = pd.read_csv(url)\n",
    "print(df.describe())"
   ]
  },
  {
   "cell_type": "code",
   "execution_count": 5,
   "id": "ae40a11f",
   "metadata": {},
   "outputs": [
    {
     "name": "stdout",
     "output_type": "stream",
     "text": [
      "     survived  pclass     sex   age  sibsp  parch     fare embarked   class  \\\n",
      "0           0       3    male  22.0      1      0   7.2500        S   Third   \n",
      "1           1       1  female  38.0      1      0  71.2833        C   First   \n",
      "2           1       3  female  26.0      0      0   7.9250        S   Third   \n",
      "3           1       1  female  35.0      1      0  53.1000        S   First   \n",
      "4           0       3    male  35.0      0      0   8.0500        S   Third   \n",
      "..        ...     ...     ...   ...    ...    ...      ...      ...     ...   \n",
      "885         0       3  female  39.0      0      5  29.1250        Q   Third   \n",
      "886         0       2    male  27.0      0      0  13.0000        S  Second   \n",
      "887         1       1  female  19.0      0      0  30.0000        S   First   \n",
      "889         1       1    male  26.0      0      0  30.0000        C   First   \n",
      "890         0       3    male  32.0      0      0   7.7500        Q   Third   \n",
      "\n",
      "       who  adult_male  embark_town alive  alone  \n",
      "0      man        True  Southampton    no  False  \n",
      "1    woman       False    Cherbourg   yes  False  \n",
      "2    woman       False  Southampton   yes   True  \n",
      "3    woman       False  Southampton   yes  False  \n",
      "4      man        True  Southampton    no   True  \n",
      "..     ...         ...          ...   ...    ...  \n",
      "885  woman       False   Queenstown    no  False  \n",
      "886    man        True  Southampton    no   True  \n",
      "887  woman       False  Southampton   yes   True  \n",
      "889    man        True    Cherbourg   yes   True  \n",
      "890    man        True   Queenstown    no   True  \n",
      "\n",
      "[712 rows x 14 columns]\n"
     ]
    }
   ],
   "source": [
    "#7\n",
    "\n",
    "#1\n",
    "'''\n",
    "Removing Rows with Missing Values Across the DataFrame\n",
    "When you want to remove rows that contain any missing (NaN) values in any column,df.dropna() is useful.\n",
    "'''\n",
    "\n",
    "#2\n",
    "'''\n",
    "Deleting a Column That is Irrelevant to Analysis:\n",
    "If there is a specific column in your DataFrame that is irrelevant or unneeded for your analysis,\n",
    "and you want to delete it entirely, del df['col'] is the way to go.\n",
    "'''\n",
    "\n",
    "#3\n",
    "'''\n",
    "df.dropna() cleans rows based on missing values across columns\n",
    "del df['col'] is used to delete specific columns that are unnecessary or filled with NaNs.\n",
    "\n",
    "Using del df['col'] is important since a row could have a missing value on the columns that will be deleted using del df['col'],\n",
    "but it can be deleated by df.dropna() if we use df.dropna() first.\n",
    "If we use del df['col'] and then df.dropna(), that row will not be deleated since it doesn't have any missing values.\n",
    "'''\n",
    "\n",
    "#4\n",
    "# Step 1: Delete an irrelevant or unnecessary column, e.g., 'deck' (which has many NaNs)\n",
    "del df['deck']\n",
    "\n",
    "# Step 2: Drop rows with any remaining missing values\n",
    "df_cleaned = df.dropna()\n",
    "\n",
    "# View the cleaned dataset\n",
    "print(df_cleaned)"
   ]
  },
  {
   "cell_type": "code",
   "execution_count": 10,
   "id": "4518d491",
   "metadata": {},
   "outputs": [
    {
     "name": "stdout",
     "output_type": "stream",
     "text": [
      "          count  mean       std   min   25%   50%   75%   max\n",
      "category                                                     \n",
      "A           2.0  15.0  7.071068  10.0  12.5  15.0  17.5  20.0\n",
      "B           2.0  35.0  7.071068  30.0  32.5  35.0  37.5  40.0\n",
      "C           2.0  55.0  7.071068  50.0  52.5  55.0  57.5  60.0\n"
     ]
    }
   ],
   "source": [
    "#8\n",
    "\n",
    "#1\n",
    "'''\n",
    "Group By \"col1\": It groups the DataFrame by the unique values in \"col1\".\n",
    "Aggregate \"col2\": Within each group, it calculates descriptive statistics (like count, mean, std, min, 25%, 50%, 75%, and max) for \"col2\".\n",
    "'''\n",
    "\n",
    "\n",
    "data = {'category': ['A', 'A', 'B', 'B', 'C', 'C'],\n",
    "        'value': [10, 20, 30, 40, 50, 60]}\n",
    "df = pd.DataFrame(data)\n",
    "\n",
    "# Group by 'category' and describe 'value'\n",
    "result = df.groupby(\"category\")[\"value\"].describe()\n",
    "print(result)"
   ]
  },
  {
   "cell_type": "code",
   "execution_count": null,
   "id": "3919643f",
   "metadata": {},
   "outputs": [],
   "source": [
    "# 8.2\n",
    "'''\n",
    "The key difference is that df.describe() looks at the whole DataFrame,\n",
    "while groupby().describe() looks at grouped subsets of the data.\n",
    "'''\n",
    "\n"
   ]
  },
  {
   "cell_type": "code",
   "execution_count": null,
   "id": "8f460ac9",
   "metadata": {},
   "outputs": [],
   "source": [
    "#8.3\n",
    "#Chatgpt fixes most of the error quickly"
   ]
  },
  {
   "cell_type": "code",
   "execution_count": null,
   "id": "b642866c",
   "metadata": {},
   "outputs": [],
   "source": [
    "#Summary\n",
    "'''\n",
    "Certainly! Here’s a summary of our interactions:\n",
    "\n",
    "Difference Between df.describe() and df.groupby(\"col1\")[\"col2\"].describe():\n",
    "\n",
    "df.describe() provides summary statistics (such as count, mean, std, etc.) for each column across the entire DataFrame, with the count showing the number of non-missing values per column.\n",
    "df.groupby(\"col1\")[\"col2\"].describe() provides summary statistics for col2 within each group defined by col1, with the count showing the number of non-missing col2 values for each group.\n",
    "Fixing Code Error:\n",
    "\n",
    "Error Encountered: NameError: name 'pd' is not defined\n",
    "Solution: Import the pandas library using import pandas as pd before using pd.read_csv().\n",
    "'''\n",
    "\n",
    "#https://chatgpt.com/share/66e3b7c1-163c-8012-98bc-9fb67de48ecb"
   ]
  }
 ],
 "metadata": {
  "kernelspec": {
   "display_name": "Python 3 (ipykernel)",
   "language": "python",
   "name": "python3"
  },
  "language_info": {
   "codemirror_mode": {
    "name": "ipython",
    "version": 3
   },
   "file_extension": ".py",
   "mimetype": "text/x-python",
   "name": "python",
   "nbconvert_exporter": "python",
   "pygments_lexer": "ipython3",
   "version": "3.11.6"
  }
 },
 "nbformat": 4,
 "nbformat_minor": 5
}
