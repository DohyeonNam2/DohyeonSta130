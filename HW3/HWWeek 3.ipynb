{
 "cells": [
  {
   "cell_type": "code",
   "execution_count": null,
   "id": "6b443b8b",
   "metadata": {},
   "outputs": [],
   "source": [
    "#1"
   ]
  },
  {
   "cell_type": "code",
   "execution_count": 2,
   "id": "933e5bbd",
   "metadata": {},
   "outputs": [
    {
     "data": {
      "application/vnd.plotly.v1+json": {
       "config": {
        "plotlyServerURL": "https://plot.ly"
       },
       "data": [
        {
         "name": "Adelie Flipper Lengths",
         "nbinsx": 20,
         "type": "histogram",
         "x": [
          181,
          186,
          195,
          193,
          190,
          181,
          195,
          193,
          190,
          186,
          180,
          182,
          191,
          198,
          185,
          195,
          197,
          184,
          194,
          174,
          180,
          189,
          185,
          180,
          187,
          183,
          187,
          172,
          180,
          178,
          178,
          188,
          184,
          195,
          196,
          190,
          180,
          181,
          184,
          182,
          195,
          186,
          196,
          185,
          190,
          182,
          179,
          190,
          191,
          186,
          188,
          190,
          200,
          187,
          191,
          186,
          193,
          181,
          194,
          185,
          195,
          185,
          192,
          184,
          192,
          195,
          188,
          190,
          198,
          190,
          190,
          196,
          197,
          190,
          195,
          191,
          184,
          187,
          195,
          189,
          196,
          187,
          193,
          191,
          194,
          190,
          189,
          189,
          190,
          202,
          205,
          185,
          186,
          187,
          208,
          190,
          196,
          178,
          192,
          192,
          203,
          183,
          190,
          193,
          184,
          199,
          190,
          181,
          197,
          198,
          191,
          193,
          197,
          191,
          196,
          188,
          199,
          189,
          189,
          187,
          198,
          176,
          202,
          186,
          199,
          191,
          195,
          191,
          210,
          190,
          197,
          193,
          199,
          187,
          190,
          191,
          200,
          185,
          193,
          193,
          187,
          188,
          190,
          192,
          185,
          190,
          184,
          195,
          193,
          187,
          201
         ],
         "xaxis": "x",
         "yaxis": "y"
        },
        {
         "name": "Chinstrap Flipper Lengths",
         "nbinsx": 20,
         "type": "histogram",
         "x": [
          192,
          196,
          193,
          188,
          197,
          198,
          178,
          197,
          195,
          198,
          193,
          194,
          185,
          201,
          190,
          201,
          197,
          181,
          190,
          195,
          181,
          191,
          187,
          193,
          195,
          197,
          200,
          200,
          191,
          205,
          187,
          201,
          187,
          203,
          195,
          199,
          195,
          210,
          192,
          205,
          210,
          187,
          196,
          196,
          196,
          201,
          190,
          212,
          187,
          198,
          199,
          201,
          193,
          203,
          187,
          197,
          191,
          203,
          202,
          194,
          206,
          189,
          195,
          207,
          202,
          193,
          210,
          198
         ],
         "xaxis": "x2",
         "yaxis": "y2"
        },
        {
         "name": "Gentoo Flipper Lengths",
         "nbinsx": 20,
         "type": "histogram",
         "x": [
          211,
          230,
          210,
          218,
          215,
          210,
          211,
          219,
          209,
          215,
          214,
          216,
          214,
          213,
          210,
          217,
          210,
          221,
          209,
          222,
          218,
          215,
          213,
          215,
          215,
          215,
          216,
          215,
          210,
          220,
          222,
          209,
          207,
          230,
          220,
          220,
          213,
          219,
          208,
          208,
          208,
          225,
          210,
          216,
          222,
          217,
          210,
          225,
          213,
          215,
          210,
          220,
          210,
          225,
          217,
          220,
          208,
          220,
          208,
          224,
          208,
          221,
          214,
          231,
          219,
          230,
          214,
          229,
          220,
          223,
          216,
          221,
          221,
          217,
          216,
          230,
          209,
          220,
          215,
          223,
          212,
          221,
          212,
          224,
          212,
          228,
          218,
          218,
          212,
          230,
          218,
          228,
          212,
          224,
          214,
          226,
          216,
          222,
          203,
          225,
          219,
          228,
          215,
          228,
          216,
          215,
          210,
          219,
          208,
          209,
          216,
          229,
          213,
          230,
          217,
          230,
          217,
          222,
          214,
          215,
          222,
          212,
          213
         ],
         "xaxis": "x3",
         "yaxis": "y3"
        }
       ],
       "layout": {
        "annotations": [
         {
          "font": {
           "size": 16
          },
          "showarrow": false,
          "text": "Adelie",
          "x": 0.5,
          "xanchor": "center",
          "xref": "paper",
          "y": 1,
          "yanchor": "bottom",
          "yref": "paper"
         },
         {
          "font": {
           "size": 16
          },
          "showarrow": false,
          "text": "Chinstrap",
          "x": 0.5,
          "xanchor": "center",
          "xref": "paper",
          "y": 0.6111111111111112,
          "yanchor": "bottom",
          "yref": "paper"
         },
         {
          "font": {
           "size": 16
          },
          "showarrow": false,
          "text": "Gentoo",
          "x": 0.5,
          "xanchor": "center",
          "xref": "paper",
          "y": 0.22222222222222224,
          "yanchor": "bottom",
          "yref": "paper"
         },
         {
          "showarrow": false,
          "text": "Mean",
          "x": 189.95364238410596,
          "xanchor": "center",
          "xref": "x",
          "y": 1,
          "yanchor": "bottom",
          "yref": "y domain"
         },
         {
          "showarrow": false,
          "text": "Median",
          "x": 190,
          "xanchor": "center",
          "xref": "x",
          "y": 1,
          "yanchor": "bottom",
          "yref": "y domain"
         },
         {
          "showarrow": false,
          "text": "Range",
          "x": 210,
          "xanchor": "right",
          "xref": "x",
          "y": 1,
          "yanchor": "top",
          "yref": "y domain"
         },
         {
          "showarrow": false,
          "text": "IQR",
          "x": 195,
          "xanchor": "right",
          "xref": "x",
          "y": 1,
          "yanchor": "top",
          "yref": "y domain"
         },
         {
          "showarrow": false,
          "text": "2*Std Dev",
          "x": 203.03255721848856,
          "xanchor": "right",
          "xref": "x",
          "y": 1,
          "yanchor": "top",
          "yref": "y domain"
         },
         {
          "showarrow": false,
          "text": "Mean",
          "x": 195.8235294117647,
          "xanchor": "center",
          "xref": "x2",
          "y": 1,
          "yanchor": "bottom",
          "yref": "y2 domain"
         },
         {
          "showarrow": false,
          "text": "Median",
          "x": 196,
          "xanchor": "center",
          "xref": "x2",
          "y": 1,
          "yanchor": "bottom",
          "yref": "y2 domain"
         },
         {
          "showarrow": false,
          "text": "Range",
          "x": 212,
          "xanchor": "right",
          "xref": "x2",
          "y": 1,
          "yanchor": "top",
          "yref": "y2 domain"
         },
         {
          "showarrow": false,
          "text": "IQR",
          "x": 201,
          "xanchor": "right",
          "xref": "x2",
          "y": 1,
          "yanchor": "top",
          "yref": "y2 domain"
         },
         {
          "showarrow": false,
          "text": "2*Std Dev",
          "x": 210.08731792892098,
          "xanchor": "right",
          "xref": "x2",
          "y": 1,
          "yanchor": "top",
          "yref": "y2 domain"
         },
         {
          "showarrow": false,
          "text": "Mean",
          "x": 217.1869918699187,
          "xanchor": "center",
          "xref": "x3",
          "y": 1,
          "yanchor": "bottom",
          "yref": "y3 domain"
         },
         {
          "showarrow": false,
          "text": "Median",
          "x": 216,
          "xanchor": "center",
          "xref": "x3",
          "y": 1,
          "yanchor": "bottom",
          "yref": "y3 domain"
         },
         {
          "showarrow": false,
          "text": "Range",
          "x": 231,
          "xanchor": "right",
          "xref": "x3",
          "y": 1,
          "yanchor": "top",
          "yref": "y3 domain"
         },
         {
          "showarrow": false,
          "text": "IQR",
          "x": 221,
          "xanchor": "right",
          "xref": "x3",
          "y": 1,
          "yanchor": "top",
          "yref": "y3 domain"
         },
         {
          "showarrow": false,
          "text": "2*Std Dev",
          "x": 230.1569435072666,
          "xanchor": "right",
          "xref": "x3",
          "y": 1,
          "yanchor": "top",
          "yref": "y3 domain"
         }
        ],
        "height": 1000,
        "shapes": [
         {
          "line": {
           "color": "blue",
           "dash": "dash"
          },
          "type": "line",
          "x0": 189.95364238410596,
          "x1": 189.95364238410596,
          "xref": "x",
          "y0": 0,
          "y1": 1,
          "yref": "y domain"
         },
         {
          "line": {
           "color": "green",
           "dash": "dot"
          },
          "type": "line",
          "x0": 190,
          "x1": 190,
          "xref": "x",
          "y0": 0,
          "y1": 1,
          "yref": "y domain"
         },
         {
          "fillcolor": "LightSalmon",
          "line": {
           "width": 0
          },
          "opacity": 0.3,
          "type": "rect",
          "x0": 172,
          "x1": 210,
          "xref": "x",
          "y0": 0,
          "y1": 1,
          "yref": "y domain"
         },
         {
          "fillcolor": "LightGreen",
          "line": {
           "width": 0
          },
          "opacity": 0.3,
          "type": "rect",
          "x0": 186,
          "x1": 195,
          "xref": "x",
          "y0": 0,
          "y1": 1,
          "yref": "y domain"
         },
         {
          "fillcolor": "LightBlue",
          "line": {
           "width": 0
          },
          "opacity": 0.3,
          "type": "rect",
          "x0": 176.87472754972336,
          "x1": 203.03255721848856,
          "xref": "x",
          "y0": 0,
          "y1": 1,
          "yref": "y domain"
         },
         {
          "line": {
           "color": "blue",
           "dash": "dash"
          },
          "type": "line",
          "x0": 195.8235294117647,
          "x1": 195.8235294117647,
          "xref": "x2",
          "y0": 0,
          "y1": 1,
          "yref": "y2 domain"
         },
         {
          "line": {
           "color": "green",
           "dash": "dot"
          },
          "type": "line",
          "x0": 196,
          "x1": 196,
          "xref": "x2",
          "y0": 0,
          "y1": 1,
          "yref": "y2 domain"
         },
         {
          "fillcolor": "LightSalmon",
          "line": {
           "width": 0
          },
          "opacity": 0.3,
          "type": "rect",
          "x0": 178,
          "x1": 212,
          "xref": "x2",
          "y0": 0,
          "y1": 1,
          "yref": "y2 domain"
         },
         {
          "fillcolor": "LightGreen",
          "line": {
           "width": 0
          },
          "opacity": 0.3,
          "type": "rect",
          "x0": 191,
          "x1": 201,
          "xref": "x2",
          "y0": 0,
          "y1": 1,
          "yref": "y2 domain"
         },
         {
          "fillcolor": "LightBlue",
          "line": {
           "width": 0
          },
          "opacity": 0.3,
          "type": "rect",
          "x0": 181.5597408946084,
          "x1": 210.08731792892098,
          "xref": "x2",
          "y0": 0,
          "y1": 1,
          "yref": "y2 domain"
         },
         {
          "line": {
           "color": "blue",
           "dash": "dash"
          },
          "type": "line",
          "x0": 217.1869918699187,
          "x1": 217.1869918699187,
          "xref": "x3",
          "y0": 0,
          "y1": 1,
          "yref": "y3 domain"
         },
         {
          "line": {
           "color": "green",
           "dash": "dot"
          },
          "type": "line",
          "x0": 216,
          "x1": 216,
          "xref": "x3",
          "y0": 0,
          "y1": 1,
          "yref": "y3 domain"
         },
         {
          "fillcolor": "LightSalmon",
          "line": {
           "width": 0
          },
          "opacity": 0.3,
          "type": "rect",
          "x0": 203,
          "x1": 231,
          "xref": "x3",
          "y0": 0,
          "y1": 1,
          "yref": "y3 domain"
         },
         {
          "fillcolor": "LightGreen",
          "line": {
           "width": 0
          },
          "opacity": 0.3,
          "type": "rect",
          "x0": 212,
          "x1": 221,
          "xref": "x3",
          "y0": 0,
          "y1": 1,
          "yref": "y3 domain"
         },
         {
          "fillcolor": "LightBlue",
          "line": {
           "width": 0
          },
          "opacity": 0.3,
          "type": "rect",
          "x0": 204.2170402325708,
          "x1": 230.1569435072666,
          "xref": "x3",
          "y0": 0,
          "y1": 1,
          "yref": "y3 domain"
         }
        ],
        "showlegend": false,
        "template": {
         "data": {
          "bar": [
           {
            "error_x": {
             "color": "#2a3f5f"
            },
            "error_y": {
             "color": "#2a3f5f"
            },
            "marker": {
             "line": {
              "color": "#E5ECF6",
              "width": 0.5
             },
             "pattern": {
              "fillmode": "overlay",
              "size": 10,
              "solidity": 0.2
             }
            },
            "type": "bar"
           }
          ],
          "barpolar": [
           {
            "marker": {
             "line": {
              "color": "#E5ECF6",
              "width": 0.5
             },
             "pattern": {
              "fillmode": "overlay",
              "size": 10,
              "solidity": 0.2
             }
            },
            "type": "barpolar"
           }
          ],
          "carpet": [
           {
            "aaxis": {
             "endlinecolor": "#2a3f5f",
             "gridcolor": "white",
             "linecolor": "white",
             "minorgridcolor": "white",
             "startlinecolor": "#2a3f5f"
            },
            "baxis": {
             "endlinecolor": "#2a3f5f",
             "gridcolor": "white",
             "linecolor": "white",
             "minorgridcolor": "white",
             "startlinecolor": "#2a3f5f"
            },
            "type": "carpet"
           }
          ],
          "choropleth": [
           {
            "colorbar": {
             "outlinewidth": 0,
             "ticks": ""
            },
            "type": "choropleth"
           }
          ],
          "contour": [
           {
            "colorbar": {
             "outlinewidth": 0,
             "ticks": ""
            },
            "colorscale": [
             [
              0,
              "#0d0887"
             ],
             [
              0.1111111111111111,
              "#46039f"
             ],
             [
              0.2222222222222222,
              "#7201a8"
             ],
             [
              0.3333333333333333,
              "#9c179e"
             ],
             [
              0.4444444444444444,
              "#bd3786"
             ],
             [
              0.5555555555555556,
              "#d8576b"
             ],
             [
              0.6666666666666666,
              "#ed7953"
             ],
             [
              0.7777777777777778,
              "#fb9f3a"
             ],
             [
              0.8888888888888888,
              "#fdca26"
             ],
             [
              1,
              "#f0f921"
             ]
            ],
            "type": "contour"
           }
          ],
          "contourcarpet": [
           {
            "colorbar": {
             "outlinewidth": 0,
             "ticks": ""
            },
            "type": "contourcarpet"
           }
          ],
          "heatmap": [
           {
            "colorbar": {
             "outlinewidth": 0,
             "ticks": ""
            },
            "colorscale": [
             [
              0,
              "#0d0887"
             ],
             [
              0.1111111111111111,
              "#46039f"
             ],
             [
              0.2222222222222222,
              "#7201a8"
             ],
             [
              0.3333333333333333,
              "#9c179e"
             ],
             [
              0.4444444444444444,
              "#bd3786"
             ],
             [
              0.5555555555555556,
              "#d8576b"
             ],
             [
              0.6666666666666666,
              "#ed7953"
             ],
             [
              0.7777777777777778,
              "#fb9f3a"
             ],
             [
              0.8888888888888888,
              "#fdca26"
             ],
             [
              1,
              "#f0f921"
             ]
            ],
            "type": "heatmap"
           }
          ],
          "heatmapgl": [
           {
            "colorbar": {
             "outlinewidth": 0,
             "ticks": ""
            },
            "colorscale": [
             [
              0,
              "#0d0887"
             ],
             [
              0.1111111111111111,
              "#46039f"
             ],
             [
              0.2222222222222222,
              "#7201a8"
             ],
             [
              0.3333333333333333,
              "#9c179e"
             ],
             [
              0.4444444444444444,
              "#bd3786"
             ],
             [
              0.5555555555555556,
              "#d8576b"
             ],
             [
              0.6666666666666666,
              "#ed7953"
             ],
             [
              0.7777777777777778,
              "#fb9f3a"
             ],
             [
              0.8888888888888888,
              "#fdca26"
             ],
             [
              1,
              "#f0f921"
             ]
            ],
            "type": "heatmapgl"
           }
          ],
          "histogram": [
           {
            "marker": {
             "pattern": {
              "fillmode": "overlay",
              "size": 10,
              "solidity": 0.2
             }
            },
            "type": "histogram"
           }
          ],
          "histogram2d": [
           {
            "colorbar": {
             "outlinewidth": 0,
             "ticks": ""
            },
            "colorscale": [
             [
              0,
              "#0d0887"
             ],
             [
              0.1111111111111111,
              "#46039f"
             ],
             [
              0.2222222222222222,
              "#7201a8"
             ],
             [
              0.3333333333333333,
              "#9c179e"
             ],
             [
              0.4444444444444444,
              "#bd3786"
             ],
             [
              0.5555555555555556,
              "#d8576b"
             ],
             [
              0.6666666666666666,
              "#ed7953"
             ],
             [
              0.7777777777777778,
              "#fb9f3a"
             ],
             [
              0.8888888888888888,
              "#fdca26"
             ],
             [
              1,
              "#f0f921"
             ]
            ],
            "type": "histogram2d"
           }
          ],
          "histogram2dcontour": [
           {
            "colorbar": {
             "outlinewidth": 0,
             "ticks": ""
            },
            "colorscale": [
             [
              0,
              "#0d0887"
             ],
             [
              0.1111111111111111,
              "#46039f"
             ],
             [
              0.2222222222222222,
              "#7201a8"
             ],
             [
              0.3333333333333333,
              "#9c179e"
             ],
             [
              0.4444444444444444,
              "#bd3786"
             ],
             [
              0.5555555555555556,
              "#d8576b"
             ],
             [
              0.6666666666666666,
              "#ed7953"
             ],
             [
              0.7777777777777778,
              "#fb9f3a"
             ],
             [
              0.8888888888888888,
              "#fdca26"
             ],
             [
              1,
              "#f0f921"
             ]
            ],
            "type": "histogram2dcontour"
           }
          ],
          "mesh3d": [
           {
            "colorbar": {
             "outlinewidth": 0,
             "ticks": ""
            },
            "type": "mesh3d"
           }
          ],
          "parcoords": [
           {
            "line": {
             "colorbar": {
              "outlinewidth": 0,
              "ticks": ""
             }
            },
            "type": "parcoords"
           }
          ],
          "pie": [
           {
            "automargin": true,
            "type": "pie"
           }
          ],
          "scatter": [
           {
            "fillpattern": {
             "fillmode": "overlay",
             "size": 10,
             "solidity": 0.2
            },
            "type": "scatter"
           }
          ],
          "scatter3d": [
           {
            "line": {
             "colorbar": {
              "outlinewidth": 0,
              "ticks": ""
             }
            },
            "marker": {
             "colorbar": {
              "outlinewidth": 0,
              "ticks": ""
             }
            },
            "type": "scatter3d"
           }
          ],
          "scattercarpet": [
           {
            "marker": {
             "colorbar": {
              "outlinewidth": 0,
              "ticks": ""
             }
            },
            "type": "scattercarpet"
           }
          ],
          "scattergeo": [
           {
            "marker": {
             "colorbar": {
              "outlinewidth": 0,
              "ticks": ""
             }
            },
            "type": "scattergeo"
           }
          ],
          "scattergl": [
           {
            "marker": {
             "colorbar": {
              "outlinewidth": 0,
              "ticks": ""
             }
            },
            "type": "scattergl"
           }
          ],
          "scattermapbox": [
           {
            "marker": {
             "colorbar": {
              "outlinewidth": 0,
              "ticks": ""
             }
            },
            "type": "scattermapbox"
           }
          ],
          "scatterpolar": [
           {
            "marker": {
             "colorbar": {
              "outlinewidth": 0,
              "ticks": ""
             }
            },
            "type": "scatterpolar"
           }
          ],
          "scatterpolargl": [
           {
            "marker": {
             "colorbar": {
              "outlinewidth": 0,
              "ticks": ""
             }
            },
            "type": "scatterpolargl"
           }
          ],
          "scatterternary": [
           {
            "marker": {
             "colorbar": {
              "outlinewidth": 0,
              "ticks": ""
             }
            },
            "type": "scatterternary"
           }
          ],
          "surface": [
           {
            "colorbar": {
             "outlinewidth": 0,
             "ticks": ""
            },
            "colorscale": [
             [
              0,
              "#0d0887"
             ],
             [
              0.1111111111111111,
              "#46039f"
             ],
             [
              0.2222222222222222,
              "#7201a8"
             ],
             [
              0.3333333333333333,
              "#9c179e"
             ],
             [
              0.4444444444444444,
              "#bd3786"
             ],
             [
              0.5555555555555556,
              "#d8576b"
             ],
             [
              0.6666666666666666,
              "#ed7953"
             ],
             [
              0.7777777777777778,
              "#fb9f3a"
             ],
             [
              0.8888888888888888,
              "#fdca26"
             ],
             [
              1,
              "#f0f921"
             ]
            ],
            "type": "surface"
           }
          ],
          "table": [
           {
            "cells": {
             "fill": {
              "color": "#EBF0F8"
             },
             "line": {
              "color": "white"
             }
            },
            "header": {
             "fill": {
              "color": "#C8D4E3"
             },
             "line": {
              "color": "white"
             }
            },
            "type": "table"
           }
          ]
         },
         "layout": {
          "annotationdefaults": {
           "arrowcolor": "#2a3f5f",
           "arrowhead": 0,
           "arrowwidth": 1
          },
          "autotypenumbers": "strict",
          "coloraxis": {
           "colorbar": {
            "outlinewidth": 0,
            "ticks": ""
           }
          },
          "colorscale": {
           "diverging": [
            [
             0,
             "#8e0152"
            ],
            [
             0.1,
             "#c51b7d"
            ],
            [
             0.2,
             "#de77ae"
            ],
            [
             0.3,
             "#f1b6da"
            ],
            [
             0.4,
             "#fde0ef"
            ],
            [
             0.5,
             "#f7f7f7"
            ],
            [
             0.6,
             "#e6f5d0"
            ],
            [
             0.7,
             "#b8e186"
            ],
            [
             0.8,
             "#7fbc41"
            ],
            [
             0.9,
             "#4d9221"
            ],
            [
             1,
             "#276419"
            ]
           ],
           "sequential": [
            [
             0,
             "#0d0887"
            ],
            [
             0.1111111111111111,
             "#46039f"
            ],
            [
             0.2222222222222222,
             "#7201a8"
            ],
            [
             0.3333333333333333,
             "#9c179e"
            ],
            [
             0.4444444444444444,
             "#bd3786"
            ],
            [
             0.5555555555555556,
             "#d8576b"
            ],
            [
             0.6666666666666666,
             "#ed7953"
            ],
            [
             0.7777777777777778,
             "#fb9f3a"
            ],
            [
             0.8888888888888888,
             "#fdca26"
            ],
            [
             1,
             "#f0f921"
            ]
           ],
           "sequentialminus": [
            [
             0,
             "#0d0887"
            ],
            [
             0.1111111111111111,
             "#46039f"
            ],
            [
             0.2222222222222222,
             "#7201a8"
            ],
            [
             0.3333333333333333,
             "#9c179e"
            ],
            [
             0.4444444444444444,
             "#bd3786"
            ],
            [
             0.5555555555555556,
             "#d8576b"
            ],
            [
             0.6666666666666666,
             "#ed7953"
            ],
            [
             0.7777777777777778,
             "#fb9f3a"
            ],
            [
             0.8888888888888888,
             "#fdca26"
            ],
            [
             1,
             "#f0f921"
            ]
           ]
          },
          "colorway": [
           "#636efa",
           "#EF553B",
           "#00cc96",
           "#ab63fa",
           "#FFA15A",
           "#19d3f3",
           "#FF6692",
           "#B6E880",
           "#FF97FF",
           "#FECB52"
          ],
          "font": {
           "color": "#2a3f5f"
          },
          "geo": {
           "bgcolor": "white",
           "lakecolor": "white",
           "landcolor": "#E5ECF6",
           "showlakes": true,
           "showland": true,
           "subunitcolor": "white"
          },
          "hoverlabel": {
           "align": "left"
          },
          "hovermode": "closest",
          "mapbox": {
           "style": "light"
          },
          "paper_bgcolor": "white",
          "plot_bgcolor": "#E5ECF6",
          "polar": {
           "angularaxis": {
            "gridcolor": "white",
            "linecolor": "white",
            "ticks": ""
           },
           "bgcolor": "#E5ECF6",
           "radialaxis": {
            "gridcolor": "white",
            "linecolor": "white",
            "ticks": ""
           }
          },
          "scene": {
           "xaxis": {
            "backgroundcolor": "#E5ECF6",
            "gridcolor": "white",
            "gridwidth": 2,
            "linecolor": "white",
            "showbackground": true,
            "ticks": "",
            "zerolinecolor": "white"
           },
           "yaxis": {
            "backgroundcolor": "#E5ECF6",
            "gridcolor": "white",
            "gridwidth": 2,
            "linecolor": "white",
            "showbackground": true,
            "ticks": "",
            "zerolinecolor": "white"
           },
           "zaxis": {
            "backgroundcolor": "#E5ECF6",
            "gridcolor": "white",
            "gridwidth": 2,
            "linecolor": "white",
            "showbackground": true,
            "ticks": "",
            "zerolinecolor": "white"
           }
          },
          "shapedefaults": {
           "line": {
            "color": "#2a3f5f"
           }
          },
          "ternary": {
           "aaxis": {
            "gridcolor": "white",
            "linecolor": "white",
            "ticks": ""
           },
           "baxis": {
            "gridcolor": "white",
            "linecolor": "white",
            "ticks": ""
           },
           "bgcolor": "#E5ECF6",
           "caxis": {
            "gridcolor": "white",
            "linecolor": "white",
            "ticks": ""
           }
          },
          "title": {
           "x": 0.05
          },
          "xaxis": {
           "automargin": true,
           "gridcolor": "white",
           "linecolor": "white",
           "ticks": "",
           "title": {
            "standoff": 15
           },
           "zerolinecolor": "white",
           "zerolinewidth": 2
          },
          "yaxis": {
           "automargin": true,
           "gridcolor": "white",
           "linecolor": "white",
           "ticks": "",
           "title": {
            "standoff": 15
           },
           "zerolinecolor": "white",
           "zerolinewidth": 2
          }
         }
        },
        "title": {
         "text": "Flipper Length Distributions with Location and Scale Markers"
        },
        "xaxis": {
         "anchor": "y",
         "domain": [
          0,
          1
         ],
         "matches": "x3",
         "showticklabels": false
        },
        "xaxis2": {
         "anchor": "y2",
         "domain": [
          0,
          1
         ],
         "matches": "x3",
         "showticklabels": false
        },
        "xaxis3": {
         "anchor": "y3",
         "domain": [
          0,
          1
         ]
        },
        "yaxis": {
         "anchor": "x",
         "domain": [
          0.7777777777777778,
          1
         ]
        },
        "yaxis2": {
         "anchor": "x2",
         "domain": [
          0.3888888888888889,
          0.6111111111111112
         ]
        },
        "yaxis3": {
         "anchor": "x3",
         "domain": [
          0,
          0.22222222222222224
         ]
        }
       }
      },
      "text/html": [
       "<div>                            <div id=\"b2883d8b-796d-4b0a-808a-230472e7d1c7\" class=\"plotly-graph-div\" style=\"height:1000px; width:100%;\"></div>            <script type=\"text/javascript\">                require([\"plotly\"], function(Plotly) {                    window.PLOTLYENV=window.PLOTLYENV || {};                                    if (document.getElementById(\"b2883d8b-796d-4b0a-808a-230472e7d1c7\")) {                    Plotly.newPlot(                        \"b2883d8b-796d-4b0a-808a-230472e7d1c7\",                        [{\"name\":\"Adelie Flipper Lengths\",\"nbinsx\":20,\"x\":[181.0,186.0,195.0,193.0,190.0,181.0,195.0,193.0,190.0,186.0,180.0,182.0,191.0,198.0,185.0,195.0,197.0,184.0,194.0,174.0,180.0,189.0,185.0,180.0,187.0,183.0,187.0,172.0,180.0,178.0,178.0,188.0,184.0,195.0,196.0,190.0,180.0,181.0,184.0,182.0,195.0,186.0,196.0,185.0,190.0,182.0,179.0,190.0,191.0,186.0,188.0,190.0,200.0,187.0,191.0,186.0,193.0,181.0,194.0,185.0,195.0,185.0,192.0,184.0,192.0,195.0,188.0,190.0,198.0,190.0,190.0,196.0,197.0,190.0,195.0,191.0,184.0,187.0,195.0,189.0,196.0,187.0,193.0,191.0,194.0,190.0,189.0,189.0,190.0,202.0,205.0,185.0,186.0,187.0,208.0,190.0,196.0,178.0,192.0,192.0,203.0,183.0,190.0,193.0,184.0,199.0,190.0,181.0,197.0,198.0,191.0,193.0,197.0,191.0,196.0,188.0,199.0,189.0,189.0,187.0,198.0,176.0,202.0,186.0,199.0,191.0,195.0,191.0,210.0,190.0,197.0,193.0,199.0,187.0,190.0,191.0,200.0,185.0,193.0,193.0,187.0,188.0,190.0,192.0,185.0,190.0,184.0,195.0,193.0,187.0,201.0],\"type\":\"histogram\",\"xaxis\":\"x\",\"yaxis\":\"y\"},{\"name\":\"Chinstrap Flipper Lengths\",\"nbinsx\":20,\"x\":[192.0,196.0,193.0,188.0,197.0,198.0,178.0,197.0,195.0,198.0,193.0,194.0,185.0,201.0,190.0,201.0,197.0,181.0,190.0,195.0,181.0,191.0,187.0,193.0,195.0,197.0,200.0,200.0,191.0,205.0,187.0,201.0,187.0,203.0,195.0,199.0,195.0,210.0,192.0,205.0,210.0,187.0,196.0,196.0,196.0,201.0,190.0,212.0,187.0,198.0,199.0,201.0,193.0,203.0,187.0,197.0,191.0,203.0,202.0,194.0,206.0,189.0,195.0,207.0,202.0,193.0,210.0,198.0],\"type\":\"histogram\",\"xaxis\":\"x2\",\"yaxis\":\"y2\"},{\"name\":\"Gentoo Flipper Lengths\",\"nbinsx\":20,\"x\":[211.0,230.0,210.0,218.0,215.0,210.0,211.0,219.0,209.0,215.0,214.0,216.0,214.0,213.0,210.0,217.0,210.0,221.0,209.0,222.0,218.0,215.0,213.0,215.0,215.0,215.0,216.0,215.0,210.0,220.0,222.0,209.0,207.0,230.0,220.0,220.0,213.0,219.0,208.0,208.0,208.0,225.0,210.0,216.0,222.0,217.0,210.0,225.0,213.0,215.0,210.0,220.0,210.0,225.0,217.0,220.0,208.0,220.0,208.0,224.0,208.0,221.0,214.0,231.0,219.0,230.0,214.0,229.0,220.0,223.0,216.0,221.0,221.0,217.0,216.0,230.0,209.0,220.0,215.0,223.0,212.0,221.0,212.0,224.0,212.0,228.0,218.0,218.0,212.0,230.0,218.0,228.0,212.0,224.0,214.0,226.0,216.0,222.0,203.0,225.0,219.0,228.0,215.0,228.0,216.0,215.0,210.0,219.0,208.0,209.0,216.0,229.0,213.0,230.0,217.0,230.0,217.0,222.0,214.0,215.0,222.0,212.0,213.0],\"type\":\"histogram\",\"xaxis\":\"x3\",\"yaxis\":\"y3\"}],                        {\"template\":{\"data\":{\"histogram2dcontour\":[{\"type\":\"histogram2dcontour\",\"colorbar\":{\"outlinewidth\":0,\"ticks\":\"\"},\"colorscale\":[[0.0,\"#0d0887\"],[0.1111111111111111,\"#46039f\"],[0.2222222222222222,\"#7201a8\"],[0.3333333333333333,\"#9c179e\"],[0.4444444444444444,\"#bd3786\"],[0.5555555555555556,\"#d8576b\"],[0.6666666666666666,\"#ed7953\"],[0.7777777777777778,\"#fb9f3a\"],[0.8888888888888888,\"#fdca26\"],[1.0,\"#f0f921\"]]}],\"choropleth\":[{\"type\":\"choropleth\",\"colorbar\":{\"outlinewidth\":0,\"ticks\":\"\"}}],\"histogram2d\":[{\"type\":\"histogram2d\",\"colorbar\":{\"outlinewidth\":0,\"ticks\":\"\"},\"colorscale\":[[0.0,\"#0d0887\"],[0.1111111111111111,\"#46039f\"],[0.2222222222222222,\"#7201a8\"],[0.3333333333333333,\"#9c179e\"],[0.4444444444444444,\"#bd3786\"],[0.5555555555555556,\"#d8576b\"],[0.6666666666666666,\"#ed7953\"],[0.7777777777777778,\"#fb9f3a\"],[0.8888888888888888,\"#fdca26\"],[1.0,\"#f0f921\"]]}],\"heatmap\":[{\"type\":\"heatmap\",\"colorbar\":{\"outlinewidth\":0,\"ticks\":\"\"},\"colorscale\":[[0.0,\"#0d0887\"],[0.1111111111111111,\"#46039f\"],[0.2222222222222222,\"#7201a8\"],[0.3333333333333333,\"#9c179e\"],[0.4444444444444444,\"#bd3786\"],[0.5555555555555556,\"#d8576b\"],[0.6666666666666666,\"#ed7953\"],[0.7777777777777778,\"#fb9f3a\"],[0.8888888888888888,\"#fdca26\"],[1.0,\"#f0f921\"]]}],\"heatmapgl\":[{\"type\":\"heatmapgl\",\"colorbar\":{\"outlinewidth\":0,\"ticks\":\"\"},\"colorscale\":[[0.0,\"#0d0887\"],[0.1111111111111111,\"#46039f\"],[0.2222222222222222,\"#7201a8\"],[0.3333333333333333,\"#9c179e\"],[0.4444444444444444,\"#bd3786\"],[0.5555555555555556,\"#d8576b\"],[0.6666666666666666,\"#ed7953\"],[0.7777777777777778,\"#fb9f3a\"],[0.8888888888888888,\"#fdca26\"],[1.0,\"#f0f921\"]]}],\"contourcarpet\":[{\"type\":\"contourcarpet\",\"colorbar\":{\"outlinewidth\":0,\"ticks\":\"\"}}],\"contour\":[{\"type\":\"contour\",\"colorbar\":{\"outlinewidth\":0,\"ticks\":\"\"},\"colorscale\":[[0.0,\"#0d0887\"],[0.1111111111111111,\"#46039f\"],[0.2222222222222222,\"#7201a8\"],[0.3333333333333333,\"#9c179e\"],[0.4444444444444444,\"#bd3786\"],[0.5555555555555556,\"#d8576b\"],[0.6666666666666666,\"#ed7953\"],[0.7777777777777778,\"#fb9f3a\"],[0.8888888888888888,\"#fdca26\"],[1.0,\"#f0f921\"]]}],\"surface\":[{\"type\":\"surface\",\"colorbar\":{\"outlinewidth\":0,\"ticks\":\"\"},\"colorscale\":[[0.0,\"#0d0887\"],[0.1111111111111111,\"#46039f\"],[0.2222222222222222,\"#7201a8\"],[0.3333333333333333,\"#9c179e\"],[0.4444444444444444,\"#bd3786\"],[0.5555555555555556,\"#d8576b\"],[0.6666666666666666,\"#ed7953\"],[0.7777777777777778,\"#fb9f3a\"],[0.8888888888888888,\"#fdca26\"],[1.0,\"#f0f921\"]]}],\"mesh3d\":[{\"type\":\"mesh3d\",\"colorbar\":{\"outlinewidth\":0,\"ticks\":\"\"}}],\"scatter\":[{\"fillpattern\":{\"fillmode\":\"overlay\",\"size\":10,\"solidity\":0.2},\"type\":\"scatter\"}],\"parcoords\":[{\"type\":\"parcoords\",\"line\":{\"colorbar\":{\"outlinewidth\":0,\"ticks\":\"\"}}}],\"scatterpolargl\":[{\"type\":\"scatterpolargl\",\"marker\":{\"colorbar\":{\"outlinewidth\":0,\"ticks\":\"\"}}}],\"bar\":[{\"error_x\":{\"color\":\"#2a3f5f\"},\"error_y\":{\"color\":\"#2a3f5f\"},\"marker\":{\"line\":{\"color\":\"#E5ECF6\",\"width\":0.5},\"pattern\":{\"fillmode\":\"overlay\",\"size\":10,\"solidity\":0.2}},\"type\":\"bar\"}],\"scattergeo\":[{\"type\":\"scattergeo\",\"marker\":{\"colorbar\":{\"outlinewidth\":0,\"ticks\":\"\"}}}],\"scatterpolar\":[{\"type\":\"scatterpolar\",\"marker\":{\"colorbar\":{\"outlinewidth\":0,\"ticks\":\"\"}}}],\"histogram\":[{\"marker\":{\"pattern\":{\"fillmode\":\"overlay\",\"size\":10,\"solidity\":0.2}},\"type\":\"histogram\"}],\"scattergl\":[{\"type\":\"scattergl\",\"marker\":{\"colorbar\":{\"outlinewidth\":0,\"ticks\":\"\"}}}],\"scatter3d\":[{\"type\":\"scatter3d\",\"line\":{\"colorbar\":{\"outlinewidth\":0,\"ticks\":\"\"}},\"marker\":{\"colorbar\":{\"outlinewidth\":0,\"ticks\":\"\"}}}],\"scattermapbox\":[{\"type\":\"scattermapbox\",\"marker\":{\"colorbar\":{\"outlinewidth\":0,\"ticks\":\"\"}}}],\"scatterternary\":[{\"type\":\"scatterternary\",\"marker\":{\"colorbar\":{\"outlinewidth\":0,\"ticks\":\"\"}}}],\"scattercarpet\":[{\"type\":\"scattercarpet\",\"marker\":{\"colorbar\":{\"outlinewidth\":0,\"ticks\":\"\"}}}],\"carpet\":[{\"aaxis\":{\"endlinecolor\":\"#2a3f5f\",\"gridcolor\":\"white\",\"linecolor\":\"white\",\"minorgridcolor\":\"white\",\"startlinecolor\":\"#2a3f5f\"},\"baxis\":{\"endlinecolor\":\"#2a3f5f\",\"gridcolor\":\"white\",\"linecolor\":\"white\",\"minorgridcolor\":\"white\",\"startlinecolor\":\"#2a3f5f\"},\"type\":\"carpet\"}],\"table\":[{\"cells\":{\"fill\":{\"color\":\"#EBF0F8\"},\"line\":{\"color\":\"white\"}},\"header\":{\"fill\":{\"color\":\"#C8D4E3\"},\"line\":{\"color\":\"white\"}},\"type\":\"table\"}],\"barpolar\":[{\"marker\":{\"line\":{\"color\":\"#E5ECF6\",\"width\":0.5},\"pattern\":{\"fillmode\":\"overlay\",\"size\":10,\"solidity\":0.2}},\"type\":\"barpolar\"}],\"pie\":[{\"automargin\":true,\"type\":\"pie\"}]},\"layout\":{\"autotypenumbers\":\"strict\",\"colorway\":[\"#636efa\",\"#EF553B\",\"#00cc96\",\"#ab63fa\",\"#FFA15A\",\"#19d3f3\",\"#FF6692\",\"#B6E880\",\"#FF97FF\",\"#FECB52\"],\"font\":{\"color\":\"#2a3f5f\"},\"hovermode\":\"closest\",\"hoverlabel\":{\"align\":\"left\"},\"paper_bgcolor\":\"white\",\"plot_bgcolor\":\"#E5ECF6\",\"polar\":{\"bgcolor\":\"#E5ECF6\",\"angularaxis\":{\"gridcolor\":\"white\",\"linecolor\":\"white\",\"ticks\":\"\"},\"radialaxis\":{\"gridcolor\":\"white\",\"linecolor\":\"white\",\"ticks\":\"\"}},\"ternary\":{\"bgcolor\":\"#E5ECF6\",\"aaxis\":{\"gridcolor\":\"white\",\"linecolor\":\"white\",\"ticks\":\"\"},\"baxis\":{\"gridcolor\":\"white\",\"linecolor\":\"white\",\"ticks\":\"\"},\"caxis\":{\"gridcolor\":\"white\",\"linecolor\":\"white\",\"ticks\":\"\"}},\"coloraxis\":{\"colorbar\":{\"outlinewidth\":0,\"ticks\":\"\"}},\"colorscale\":{\"sequential\":[[0.0,\"#0d0887\"],[0.1111111111111111,\"#46039f\"],[0.2222222222222222,\"#7201a8\"],[0.3333333333333333,\"#9c179e\"],[0.4444444444444444,\"#bd3786\"],[0.5555555555555556,\"#d8576b\"],[0.6666666666666666,\"#ed7953\"],[0.7777777777777778,\"#fb9f3a\"],[0.8888888888888888,\"#fdca26\"],[1.0,\"#f0f921\"]],\"sequentialminus\":[[0.0,\"#0d0887\"],[0.1111111111111111,\"#46039f\"],[0.2222222222222222,\"#7201a8\"],[0.3333333333333333,\"#9c179e\"],[0.4444444444444444,\"#bd3786\"],[0.5555555555555556,\"#d8576b\"],[0.6666666666666666,\"#ed7953\"],[0.7777777777777778,\"#fb9f3a\"],[0.8888888888888888,\"#fdca26\"],[1.0,\"#f0f921\"]],\"diverging\":[[0,\"#8e0152\"],[0.1,\"#c51b7d\"],[0.2,\"#de77ae\"],[0.3,\"#f1b6da\"],[0.4,\"#fde0ef\"],[0.5,\"#f7f7f7\"],[0.6,\"#e6f5d0\"],[0.7,\"#b8e186\"],[0.8,\"#7fbc41\"],[0.9,\"#4d9221\"],[1,\"#276419\"]]},\"xaxis\":{\"gridcolor\":\"white\",\"linecolor\":\"white\",\"ticks\":\"\",\"title\":{\"standoff\":15},\"zerolinecolor\":\"white\",\"automargin\":true,\"zerolinewidth\":2},\"yaxis\":{\"gridcolor\":\"white\",\"linecolor\":\"white\",\"ticks\":\"\",\"title\":{\"standoff\":15},\"zerolinecolor\":\"white\",\"automargin\":true,\"zerolinewidth\":2},\"scene\":{\"xaxis\":{\"backgroundcolor\":\"#E5ECF6\",\"gridcolor\":\"white\",\"linecolor\":\"white\",\"showbackground\":true,\"ticks\":\"\",\"zerolinecolor\":\"white\",\"gridwidth\":2},\"yaxis\":{\"backgroundcolor\":\"#E5ECF6\",\"gridcolor\":\"white\",\"linecolor\":\"white\",\"showbackground\":true,\"ticks\":\"\",\"zerolinecolor\":\"white\",\"gridwidth\":2},\"zaxis\":{\"backgroundcolor\":\"#E5ECF6\",\"gridcolor\":\"white\",\"linecolor\":\"white\",\"showbackground\":true,\"ticks\":\"\",\"zerolinecolor\":\"white\",\"gridwidth\":2}},\"shapedefaults\":{\"line\":{\"color\":\"#2a3f5f\"}},\"annotationdefaults\":{\"arrowcolor\":\"#2a3f5f\",\"arrowhead\":0,\"arrowwidth\":1},\"geo\":{\"bgcolor\":\"white\",\"landcolor\":\"#E5ECF6\",\"subunitcolor\":\"white\",\"showland\":true,\"showlakes\":true,\"lakecolor\":\"white\"},\"title\":{\"x\":0.05},\"mapbox\":{\"style\":\"light\"}}},\"xaxis\":{\"anchor\":\"y\",\"domain\":[0.0,1.0],\"matches\":\"x3\",\"showticklabels\":false},\"yaxis\":{\"anchor\":\"x\",\"domain\":[0.7777777777777778,1.0]},\"xaxis2\":{\"anchor\":\"y2\",\"domain\":[0.0,1.0],\"matches\":\"x3\",\"showticklabels\":false},\"yaxis2\":{\"anchor\":\"x2\",\"domain\":[0.3888888888888889,0.6111111111111112]},\"xaxis3\":{\"anchor\":\"y3\",\"domain\":[0.0,1.0]},\"yaxis3\":{\"anchor\":\"x3\",\"domain\":[0.0,0.22222222222222224]},\"annotations\":[{\"font\":{\"size\":16},\"showarrow\":false,\"text\":\"Adelie\",\"x\":0.5,\"xanchor\":\"center\",\"xref\":\"paper\",\"y\":1.0,\"yanchor\":\"bottom\",\"yref\":\"paper\"},{\"font\":{\"size\":16},\"showarrow\":false,\"text\":\"Chinstrap\",\"x\":0.5,\"xanchor\":\"center\",\"xref\":\"paper\",\"y\":0.6111111111111112,\"yanchor\":\"bottom\",\"yref\":\"paper\"},{\"font\":{\"size\":16},\"showarrow\":false,\"text\":\"Gentoo\",\"x\":0.5,\"xanchor\":\"center\",\"xref\":\"paper\",\"y\":0.22222222222222224,\"yanchor\":\"bottom\",\"yref\":\"paper\"},{\"showarrow\":false,\"text\":\"Mean\",\"x\":189.95364238410596,\"xanchor\":\"center\",\"xref\":\"x\",\"y\":1,\"yanchor\":\"bottom\",\"yref\":\"y domain\"},{\"showarrow\":false,\"text\":\"Median\",\"x\":190.0,\"xanchor\":\"center\",\"xref\":\"x\",\"y\":1,\"yanchor\":\"bottom\",\"yref\":\"y domain\"},{\"showarrow\":false,\"text\":\"Range\",\"x\":210.0,\"xanchor\":\"right\",\"xref\":\"x\",\"y\":1,\"yanchor\":\"top\",\"yref\":\"y domain\"},{\"showarrow\":false,\"text\":\"IQR\",\"x\":195.0,\"xanchor\":\"right\",\"xref\":\"x\",\"y\":1,\"yanchor\":\"top\",\"yref\":\"y domain\"},{\"showarrow\":false,\"text\":\"2*Std Dev\",\"x\":203.03255721848856,\"xanchor\":\"right\",\"xref\":\"x\",\"y\":1,\"yanchor\":\"top\",\"yref\":\"y domain\"},{\"showarrow\":false,\"text\":\"Mean\",\"x\":195.8235294117647,\"xanchor\":\"center\",\"xref\":\"x2\",\"y\":1,\"yanchor\":\"bottom\",\"yref\":\"y2 domain\"},{\"showarrow\":false,\"text\":\"Median\",\"x\":196.0,\"xanchor\":\"center\",\"xref\":\"x2\",\"y\":1,\"yanchor\":\"bottom\",\"yref\":\"y2 domain\"},{\"showarrow\":false,\"text\":\"Range\",\"x\":212.0,\"xanchor\":\"right\",\"xref\":\"x2\",\"y\":1,\"yanchor\":\"top\",\"yref\":\"y2 domain\"},{\"showarrow\":false,\"text\":\"IQR\",\"x\":201.0,\"xanchor\":\"right\",\"xref\":\"x2\",\"y\":1,\"yanchor\":\"top\",\"yref\":\"y2 domain\"},{\"showarrow\":false,\"text\":\"2*Std Dev\",\"x\":210.08731792892098,\"xanchor\":\"right\",\"xref\":\"x2\",\"y\":1,\"yanchor\":\"top\",\"yref\":\"y2 domain\"},{\"showarrow\":false,\"text\":\"Mean\",\"x\":217.1869918699187,\"xanchor\":\"center\",\"xref\":\"x3\",\"y\":1,\"yanchor\":\"bottom\",\"yref\":\"y3 domain\"},{\"showarrow\":false,\"text\":\"Median\",\"x\":216.0,\"xanchor\":\"center\",\"xref\":\"x3\",\"y\":1,\"yanchor\":\"bottom\",\"yref\":\"y3 domain\"},{\"showarrow\":false,\"text\":\"Range\",\"x\":231.0,\"xanchor\":\"right\",\"xref\":\"x3\",\"y\":1,\"yanchor\":\"top\",\"yref\":\"y3 domain\"},{\"showarrow\":false,\"text\":\"IQR\",\"x\":221.0,\"xanchor\":\"right\",\"xref\":\"x3\",\"y\":1,\"yanchor\":\"top\",\"yref\":\"y3 domain\"},{\"showarrow\":false,\"text\":\"2*Std Dev\",\"x\":230.1569435072666,\"xanchor\":\"right\",\"xref\":\"x3\",\"y\":1,\"yanchor\":\"top\",\"yref\":\"y3 domain\"}],\"shapes\":[{\"line\":{\"color\":\"blue\",\"dash\":\"dash\"},\"type\":\"line\",\"x0\":189.95364238410596,\"x1\":189.95364238410596,\"xref\":\"x\",\"y0\":0,\"y1\":1,\"yref\":\"y domain\"},{\"line\":{\"color\":\"green\",\"dash\":\"dot\"},\"type\":\"line\",\"x0\":190.0,\"x1\":190.0,\"xref\":\"x\",\"y0\":0,\"y1\":1,\"yref\":\"y domain\"},{\"fillcolor\":\"LightSalmon\",\"line\":{\"width\":0},\"opacity\":0.3,\"type\":\"rect\",\"x0\":172.0,\"x1\":210.0,\"xref\":\"x\",\"y0\":0,\"y1\":1,\"yref\":\"y domain\"},{\"fillcolor\":\"LightGreen\",\"line\":{\"width\":0},\"opacity\":0.3,\"type\":\"rect\",\"x0\":186.0,\"x1\":195.0,\"xref\":\"x\",\"y0\":0,\"y1\":1,\"yref\":\"y domain\"},{\"fillcolor\":\"LightBlue\",\"line\":{\"width\":0},\"opacity\":0.3,\"type\":\"rect\",\"x0\":176.87472754972336,\"x1\":203.03255721848856,\"xref\":\"x\",\"y0\":0,\"y1\":1,\"yref\":\"y domain\"},{\"line\":{\"color\":\"blue\",\"dash\":\"dash\"},\"type\":\"line\",\"x0\":195.8235294117647,\"x1\":195.8235294117647,\"xref\":\"x2\",\"y0\":0,\"y1\":1,\"yref\":\"y2 domain\"},{\"line\":{\"color\":\"green\",\"dash\":\"dot\"},\"type\":\"line\",\"x0\":196.0,\"x1\":196.0,\"xref\":\"x2\",\"y0\":0,\"y1\":1,\"yref\":\"y2 domain\"},{\"fillcolor\":\"LightSalmon\",\"line\":{\"width\":0},\"opacity\":0.3,\"type\":\"rect\",\"x0\":178.0,\"x1\":212.0,\"xref\":\"x2\",\"y0\":0,\"y1\":1,\"yref\":\"y2 domain\"},{\"fillcolor\":\"LightGreen\",\"line\":{\"width\":0},\"opacity\":0.3,\"type\":\"rect\",\"x0\":191.0,\"x1\":201.0,\"xref\":\"x2\",\"y0\":0,\"y1\":1,\"yref\":\"y2 domain\"},{\"fillcolor\":\"LightBlue\",\"line\":{\"width\":0},\"opacity\":0.3,\"type\":\"rect\",\"x0\":181.5597408946084,\"x1\":210.08731792892098,\"xref\":\"x2\",\"y0\":0,\"y1\":1,\"yref\":\"y2 domain\"},{\"line\":{\"color\":\"blue\",\"dash\":\"dash\"},\"type\":\"line\",\"x0\":217.1869918699187,\"x1\":217.1869918699187,\"xref\":\"x3\",\"y0\":0,\"y1\":1,\"yref\":\"y3 domain\"},{\"line\":{\"color\":\"green\",\"dash\":\"dot\"},\"type\":\"line\",\"x0\":216.0,\"x1\":216.0,\"xref\":\"x3\",\"y0\":0,\"y1\":1,\"yref\":\"y3 domain\"},{\"fillcolor\":\"LightSalmon\",\"line\":{\"width\":0},\"opacity\":0.3,\"type\":\"rect\",\"x0\":203.0,\"x1\":231.0,\"xref\":\"x3\",\"y0\":0,\"y1\":1,\"yref\":\"y3 domain\"},{\"fillcolor\":\"LightGreen\",\"line\":{\"width\":0},\"opacity\":0.3,\"type\":\"rect\",\"x0\":212.0,\"x1\":221.0,\"xref\":\"x3\",\"y0\":0,\"y1\":1,\"yref\":\"y3 domain\"},{\"fillcolor\":\"LightBlue\",\"line\":{\"width\":0},\"opacity\":0.3,\"type\":\"rect\",\"x0\":204.2170402325708,\"x1\":230.1569435072666,\"xref\":\"x3\",\"y0\":0,\"y1\":1,\"yref\":\"y3 domain\"}],\"title\":{\"text\":\"Flipper Length Distributions with Location and Scale Markers\"},\"height\":1000,\"showlegend\":false},                        {\"responsive\": true}                    ).then(function(){\n",
       "                            \n",
       "var gd = document.getElementById('b2883d8b-796d-4b0a-808a-230472e7d1c7');\n",
       "var x = new MutationObserver(function (mutations, observer) {{\n",
       "        var display = window.getComputedStyle(gd).display;\n",
       "        if (!display || display === 'none') {{\n",
       "            console.log([gd, 'removed!']);\n",
       "            Plotly.purge(gd);\n",
       "            observer.disconnect();\n",
       "        }}\n",
       "}});\n",
       "\n",
       "// Listen for the removal of the full notebook cells\n",
       "var notebookContainer = gd.closest('#notebook-container');\n",
       "if (notebookContainer) {{\n",
       "    x.observe(notebookContainer, {childList: true});\n",
       "}}\n",
       "\n",
       "// Listen for the clearing of the current output cell\n",
       "var outputEl = gd.closest('.output');\n",
       "if (outputEl) {{\n",
       "    x.observe(outputEl, {childList: true});\n",
       "}}\n",
       "\n",
       "                        })                };                });            </script>        </div>"
      ]
     },
     "metadata": {},
     "output_type": "display_data"
    }
   ],
   "source": [
    "import plotly.express as px\n",
    "import plotly.graph_objects as go\n",
    "import pandas as pd\n",
    "import numpy as np\n",
    "from plotly.subplots import make_subplots\n",
    "\n",
    "# Load the Palmer Penguins dataset using pandas\n",
    "url = 'https://raw.githubusercontent.com/mwaskom/seaborn-data/master/penguins.csv'\n",
    "df = pd.read_csv(url)\n",
    "\n",
    "# Create a figure with subplots for each species\n",
    "species_list = df['species'].dropna().unique()\n",
    "fig = make_subplots(rows=len(species_list), cols=1, shared_xaxes=True, subplot_titles=species_list)\n",
    "\n",
    "# Loop through each species\n",
    "for i, species in enumerate(species_list):\n",
    "    species_data = df[df['species'] == species].dropna(subset=['flipper_length_mm'])\n",
    "\n",
    "    # Calculate metrics for flipper_length_mm\n",
    "    flipper_lengths = species_data['flipper_length_mm']\n",
    "    mean = flipper_lengths.mean()\n",
    "    median = flipper_lengths.median()\n",
    "    flipper_min = flipper_lengths.min()\n",
    "    flipper_max = flipper_lengths.max()\n",
    "    q1 = np.percentile(flipper_lengths, 25)\n",
    "    q3 = np.percentile(flipper_lengths, 75)\n",
    "    std_dev = flipper_lengths.std()\n",
    "    \n",
    "    # Calculate standard deviation range\n",
    "    lower_std_range = mean - 2 * std_dev\n",
    "    upper_std_range = mean + 2 * std_dev\n",
    "    \n",
    "    # Add histogram trace for flipper_length_mm\n",
    "    fig.add_trace(\n",
    "        go.Histogram(x=flipper_lengths, nbinsx=20, name=f'{species} Flipper Lengths'),\n",
    "        row=i+1, col=1\n",
    "    )\n",
    "    \n",
    "    # Add vertical lines for mean and median\n",
    "    fig.add_vline(x=mean, line=dict(color='blue', dash='dash'), row=i+1, col=1, annotation_text=\"Mean\", annotation_position=\"top\")\n",
    "    fig.add_vline(x=median, line=dict(color='green', dash='dot'), row=i+1, col=1, annotation_text=\"Median\", annotation_position=\"top\")\n",
    "    \n",
    "    # Add rectangles for ranges (min-max, IQR, and 2*std)\n",
    "    fig.add_vrect(x0=flipper_min, x1=flipper_max, fillcolor=\"LightSalmon\", opacity=0.3, line_width=0, row=i+1, col=1, annotation_text=\"Range\")\n",
    "    fig.add_vrect(x0=q1, x1=q3, fillcolor=\"LightGreen\", opacity=0.3, line_width=0, row=i+1, col=1, annotation_text=\"IQR\")\n",
    "    fig.add_vrect(x0=lower_std_range, x1=upper_std_range, fillcolor=\"LightBlue\", opacity=0.3, line_width=0, row=i+1, col=1, annotation_text=\"2*Std Dev\")\n",
    "    \n",
    "# Update layout\n",
    "fig.update_layout(height=1000, title_text=\"Flipper Length Distributions with Location and Scale Markers\", showlegend=False)\n",
    "\n",
    "# Show plot\n",
    "fig.show()\n"
   ]
  },
  {
   "cell_type": "code",
   "execution_count": null,
   "id": "facff726",
   "metadata": {},
   "outputs": [],
   "source": [
    "#2"
   ]
  },
  {
   "cell_type": "code",
   "execution_count": 4,
   "id": "5e831e3f",
   "metadata": {},
   "outputs": [
    {
     "data": {
      "image/png": "[encoded data removed]",
      "text/plain": [
       "<Figure size 1800x1200 with 3 Axes>"
      ]
     },
     "metadata": {},
     "output_type": "display_data"
    }
   ],
   "source": [
    "import seaborn as sns\n",
    "import matplotlib.pyplot as plt\n",
    "import pandas as pd\n",
    "import numpy as np\n",
    "\n",
    "# Load the Palmer Penguins dataset\n",
    "url = 'https://raw.githubusercontent.com/mwaskom/seaborn-data/master/penguins.csv'\n",
    "df = pd.read_csv(url)\n",
    "\n",
    "# List of species\n",
    "species_list = df['species'].dropna().unique()\n",
    "\n",
    "# Create a figure with subplots (3 plots per row)\n",
    "fig, axes = plt.subplots(nrows=len(species_list) // 3 + 1, ncols=3, figsize=(18, 12))\n",
    "axes = axes.flatten()\n",
    "\n",
    "# Loop through each species to create KDE plots\n",
    "for i, species in enumerate(species_list):\n",
    "    ax = axes[i]\n",
    "    species_data = df[df['species'] == species].dropna(subset=['flipper_length_mm'])\n",
    "    \n",
    "    # Calculate metrics for flipper_length_mm\n",
    "    flipper_lengths = species_data['flipper_length_mm']\n",
    "    mean = flipper_lengths.mean()\n",
    "    median = flipper_lengths.median()\n",
    "    flipper_min = flipper_lengths.min()\n",
    "    flipper_max = flipper_lengths.max()\n",
    "    q1 = np.percentile(flipper_lengths, 25)\n",
    "    q3 = np.percentile(flipper_lengths, 75)\n",
    "    std_dev = flipper_lengths.std()\n",
    "    \n",
    "    lower_std_range = mean - 2 * std_dev\n",
    "    upper_std_range = mean + 2 * std_dev\n",
    "    \n",
    "    # Plot the KDE for flipper_length_mm\n",
    "    sns.kdeplot(flipper_lengths, ax=ax, fill=True, color='skyblue', label=f'{species} KDE')\n",
    "    \n",
    "    # Add vertical lines for mean and median\n",
    "    ax.axvline(mean, color='blue', linestyle='--', label='Mean')\n",
    "    ax.axvline(median, color='green', linestyle='-.', label='Median')\n",
    "    \n",
    "    # Add shaded areas for ranges (min-max, IQR, and 2*std)\n",
    "    ax.axvspan(flipper_min, flipper_max, color='lightcoral', alpha=0.3, label='Range')\n",
    "    ax.axvspan(q1, q3, color='lightgreen', alpha=0.3, label='IQR')\n",
    "    ax.axvspan(lower_std_range, upper_std_range, color='lightblue', alpha=0.3, label='2*Std Dev')\n",
    "    \n",
    "    ax.set_title(f'{species} Flipper Length KDE')\n",
    "    ax.legend()\n",
    "\n",
    "# Remove any empty subplots\n",
    "for j in range(i+1, len(axes)):\n",
    "    fig.delaxes(axes[j])\n",
    "\n",
    "# Adjust layout\n",
    "plt.tight_layout()\n",
    "plt.show()\n"
   ]
  },
  {
   "cell_type": "markdown",
   "id": "fa27fd13",
   "metadata": {},
   "source": [
    "#3\n",
    "'''\n",
    "I perfer histogram more than others. \n",
    "Box plot is good for displaying key statistical values (min, max, quartiles, median, and outliers) but Does not show the detailed distribution or shape of the data.\n",
    "KDE is good for smoothing the distribution and helping estimate the probability density function, but it is more complex and may be harder for general audiences.\n",
    "'''"
   ]
  },
  {
   "cell_type": "markdown",
   "id": "b385c491",
   "metadata": {},
   "source": [
    "summary\n",
    "link: https://chatgpt.com/share/66f61db1-7bf8-8012-b77a-db3cc21a0c6e\n",
    "\n",
    "Initial Request:\n",
    "\n",
    "You asked for guidance on marking location (mean and median) and scale (range, interquartile range, and standard deviation) of flipper_length_mm for each species in the Palmer Penguins dataset onto histograms. You provided a link to the dataset and requested the use of Plotly histograms with annotations for the statistics.\n",
    "Solution for Plotly Histograms:\n",
    "\n",
    "I helped generate code using Plotly, which included histograms for flipper_length_mm for each species. The code added vertical lines for the mean and median, as well as shaded regions to represent the range, interquartile range (IQR), and a region representing two standard deviations from the mean.\n",
    "Adjustment to Plot:\n",
    "\n",
    "There was a minor issue with a connection while generating the plot. I provided you with code you could run locally to achieve the desired output.\n",
    "Switch to Seaborn KDE:\n",
    "\n",
    "You then requested the same visualizations but using Seaborn’s Kernel Density Estimation (KDE) plots, organized in rows of three.\n",
    "I provided a Python code using Seaborn to create KDE plots for flipper_length_mm, including vertical lines for the mean and median, and shaded areas for the range, IQR, and two standard deviations.\n",
    "Pros and Cons of Visualizations:\n",
    "\n",
    "After you described the basics of box plots, histograms, and kernel density estimators, I agreed with your descriptions and expanded them into a detailed pros and cons list. This list highlighted the strengths and weaknesses of each visualization:\n",
    "Box plots: Good for summarizing key statistics and identifying outliers but lack detail on distribution shape.\n",
    "Histograms: Simple and effective for showing distribution patterns but dependent on bin size.\n",
    "KDE: Provides smooth and continuous distribution visualization but requires careful bandwidth selection and may be less intuitive for general audiences.\n",
    "This summary captures the key points from our interaction. If you need more specific details or formatting, feel free to ask!"
   ]
  },
  {
   "cell_type": "code",
   "execution_count": 21,
   "id": "05d62a0b",
   "metadata": {},
   "outputs": [
    {
     "data": {
      "image/png": "[encoded data removed]"
     },
     "metadata": {},
     "output_type": "display_data"
    }
   ],
   "source": [
    "#4\n",
    "from scipy import stats\n",
    "import plotly.graph_objects as go\n",
    "from plotly.subplots import make_subplots\n",
    "import numpy as np\n",
    "\n",
    "n = 1500\n",
    "data1 = stats.uniform.rvs(0, 10, size=n)\n",
    "data2 = stats.norm.rvs(5, 1.5, size=n)\n",
    "data3 = np.r_[stats.norm.rvs(2, 0.25, size=int(n/2)), stats.norm.rvs(8, 0.5, size=int(n/2))]\n",
    "data4 = stats.norm.rvs(6, 0.5, size=n)\n",
    "\n",
    "fig = make_subplots(rows=1, cols=4)\n",
    "\n",
    "fig.add_trace(go.Histogram(x=data1, name='A', nbinsx=30, marker=dict(line=dict(color='black', width=1))), row=1, col=1)\n",
    "fig.add_trace(go.Histogram(x=data2, name='B', nbinsx=15, marker=dict(line=dict(color='black', width=1))), row=1, col=2)\n",
    "fig.add_trace(go.Histogram(x=data3, name='C', nbinsx=45, marker=dict(line=dict(color='black', width=1))), row=1, col=3)\n",
    "fig.add_trace(go.Histogram(x=data4, name='D', nbinsx=15, marker=dict(line=dict(color='black', width=1))), row=1, col=4)\n",
    "\n",
    "fig.update_layout(height=300, width=750, title_text=\"Row of Histograms\")\n",
    "fig.update_xaxes(title_text=\"A\", row=1, col=1)\n",
    "fig.update_xaxes(title_text=\"B\", row=1, col=2)\n",
    "fig.update_xaxes(title_text=\"C\", row=1, col=3)\n",
    "fig.update_xaxes(title_text=\"D\", row=1, col=4)\n",
    "fig.update_xaxes(range=[-0.5, 10.5])\n",
    "\n",
    "for trace in fig.data:\n",
    "    trace.xbins = dict(start=0, end=10)\n",
    "    \n",
    "# This code was produced by just making requests to Microsoft Copilot\n",
    "# https://github.com/pointOfive/stat130chat130/blob/main/CHATLOG/wk3/COP/SLS/0001_concise_makeAplotV1.md\n",
    "\n",
    "fig.show(renderer=\"png\") # USE `fig.show(renderer=\"png\")` FOR ALL GitHub and MarkUs SUBMISSIONS"
   ]
  },
  {
   "cell_type": "markdown",
   "id": "a6acc1b4",
   "metadata": {},
   "source": [
    "Which datasets have similar means and similar variances:\n",
    "B and D\n",
    "Which datasets have similar means but quite different variances:\n",
    "B and C\n",
    "Which datasets have similar variances but quite different means:\n",
    "A and C\n",
    "Which datasets have quite different means and quite different variances:\n",
    "C and D"
   ]
  },
  {
   "cell_type": "code",
   "execution_count": 30,
   "id": "5e13810c",
   "metadata": {},
   "outputs": [
    {
     "data": {
      "image/png": "[encoded data removed]"
     },
     "metadata": {},
     "output_type": "display_data"
    },
    {
     "data": {
      "image/png": "[encoded data removed]"
     },
     "metadata": {},
     "output_type": "display_data"
    }
   ],
   "source": [
    "#5\n",
    "from scipy import stats\n",
    "import pandas as pd\n",
    "import numpy as np\n",
    "  \n",
    "sample1 = stats.gamma(a=2,scale=2).rvs(size=1000)\n",
    "fig1 = px.histogram(pd.DataFrame({'data': sample1}), x=\"data\")\n",
    "# USE `fig1.show(renderer=\"png\")` FOR ALL GitHub and MarkUs SUBMISSIONS\n",
    "fig1.show(renderer=\"png\")\n",
    "\n",
    "sample1.mean()\n",
    "np.quantile(sample1, [0.5]) # median\n",
    "\n",
    "sample2 = -stats.gamma(a=2,scale=2).rvs(size=1000)\n",
    "fig2 = px.histogram(pd.DataFrame({'data': sample2}), x=\"data\")\n",
    "fig2.show(renderer=\"png\")"
   ]
  },
  {
   "cell_type": "markdown",
   "id": "f10e8c7f",
   "metadata": {},
   "source": [
    "Mean is the average of all the datas and median is the data that is at the middle of the data points.\n",
    "Left skewed means the data points are more on the right and less on the left and right skewed is opposite.\n",
    "For left skewed mean is amaller than Median and for right skewed, mean is larger than median"
   ]
  },
  {
   "cell_type": "code",
   "execution_count": null,
   "id": "29c12fe9",
   "metadata": {},
   "outputs": [],
   "source": [
    "#sample1 = stats.gamma(a=2, scale=2).rvs(size=1000)\n",
    "'''\n",
    "This generates 1000 random variables from the gamma distribution, a continuous probability distribution.\n",
    "'''"
   ]
  },
  {
   "cell_type": "code",
   "execution_count": null,
   "id": "0873a539",
   "metadata": {},
   "outputs": [],
   "source": [
    "#fig1 = px.histogram(pd.DataFrame({'data': sample1}), x=\"data\")\n",
    "'''\n",
    "create a histogram of sample1\n",
    "'''"
   ]
  },
  {
   "cell_type": "code",
   "execution_count": null,
   "id": "811bb5f5",
   "metadata": {},
   "outputs": [],
   "source": [
    "#fig1.show(renderer=\"png\")\n",
    "'''\n",
    "display histogram in png\n",
    "'''"
   ]
  },
  {
   "cell_type": "code",
   "execution_count": null,
   "id": "f8f343f7",
   "metadata": {},
   "outputs": [],
   "source": [
    "#sample1.mean()\n",
    "'''\n",
    "calculates the mean of sample1\n",
    "'''\n",
    "#np.quantile(sample1, [0.5])\n",
    "'''\n",
    "This computes the median of sample1. The 0.5 quantile is equivalent to the median.\n",
    "'''"
   ]
  },
  {
   "cell_type": "code",
   "execution_count": null,
   "id": "69802746",
   "metadata": {},
   "outputs": [],
   "source": [
    "#sample2 = -stats.gamma(a=2, scale=2).rvs(size=1000)\n",
    "'''\n",
    "create another sample\n",
    "'''"
   ]
  },
  {
   "cell_type": "code",
   "execution_count": 31,
   "id": "813974ec",
   "metadata": {},
   "outputs": [
    {
     "data": {
      "application/vnd.plotly.v1+json": {
       "config": {
        "plotlyServerURL": "https://plot.ly"
       },
       "data": [
        {
         "alignmentgroup": "True",
         "bingroup": "x",
         "hovertemplate": "calories=%{x}<br>count=%{y}<extra></extra>",
         "legendgroup": "",
         "marker": {
          "color": "#636efa",
          "pattern": {
           "shape": ""
          }
         },
         "name": "",
         "nbinsx": 50,
         "offsetgroup": "",
         "orientation": "v",
         "showlegend": false,
         "type": "histogram",
         "x": [
          300,
          250,
          370,
          450,
          400,
          430,
          460,
          520,
          410,
          470,
          430,
          480,
          510,
          570,
          460,
          520,
          410,
          470,
          540,
          460,
          400,
          420,
          550,
          500,
          620,
          570,
          670,
          740,
          800,
          640,
          690,
          1090,
          1150,
          990,
          1050,
          350,
          520,
          300,
          150,
          460,
          290,
          260,
          530,
          520,
          600,
          610,
          540,
          750,
          240,
          290,
          430,
          720,
          380,
          440,
          430,
          430,
          500,
          510,
          350,
          670,
          510,
          610,
          450,
          750,
          590,
          430,
          360,
          480,
          430,
          360,
          630,
          480,
          610,
          450,
          670,
          520,
          540,
          380,
          190,
          280,
          470,
          940,
          1880,
          390,
          140,
          380,
          220,
          140,
          450,
          290,
          340,
          260,
          330,
          250,
          360,
          280,
          230,
          340,
          510,
          110,
          20,
          15,
          150,
          250,
          160,
          150,
          45,
          330,
          340,
          280,
          140,
          200,
          280,
          100,
          0,
          0,
          0,
          0,
          140,
          190,
          270,
          100,
          0,
          0,
          0,
          0,
          140,
          200,
          280,
          100,
          100,
          130,
          80,
          150,
          190,
          280,
          0,
          0,
          0,
          0,
          0,
          150,
          180,
          220,
          110,
          0,
          0,
          0,
          170,
          210,
          280,
          270,
          340,
          430,
          270,
          330,
          430,
          260,
          330,
          420,
          210,
          260,
          330,
          100,
          130,
          170,
          200,
          250,
          310,
          200,
          250,
          310,
          190,
          240,
          300,
          140,
          170,
          220,
          340,
          410,
          500,
          270,
          330,
          390,
          320,
          390,
          480,
          250,
          310,
          370,
          360,
          440,
          540,
          280,
          340,
          400,
          140,
          190,
          270,
          130,
          180,
          260,
          130,
          180,
          250,
          120,
          170,
          240,
          80,
          120,
          160,
          290,
          350,
          480,
          240,
          290,
          390,
          280,
          340,
          460,
          230,
          270,
          370,
          450,
          550,
          670,
          450,
          550,
          670,
          530,
          630,
          760,
          220,
          260,
          340,
          210,
          250,
          330,
          210,
          260,
          340,
          530,
          660,
          820,
          550,
          690,
          850,
          560,
          700,
          850,
          660,
          820,
          650,
          930,
          430,
          510,
          690,
          340,
          810,
          410,
          580,
          260,
          530,
          330,
          290,
          340,
          450,
          320,
          430,
          380,
          420,
          150,
          230,
          170,
          200,
          550,
          490,
          600,
          260,
          570,
          280,
          310,
          450,
          340,
          280,
          320,
          780,
          250,
          720,
          730,
          190,
          440,
          120,
          460,
          180,
          240,
          290,
          120,
          140,
          170,
          780,
          300,
          200,
          480,
          140,
          210,
          310,
          110,
          50,
          450,
          410,
          380,
          440,
          70,
          210,
          210,
          210,
          210,
          200,
          210,
          200,
          80,
          200,
          230,
          230,
          220,
          1080,
          440,
          1590,
          710,
          560,
          820,
          680,
          770,
          790,
          460,
          490,
          550,
          680,
          820,
          490,
          540,
          820,
          430,
          760,
          330,
          210,
          190,
          180,
          220,
          210,
          180,
          220,
          220,
          120,
          130,
          220,
          190,
          220,
          290,
          290,
          40,
          60,
          50,
          50,
          50,
          40,
          50,
          70,
          60,
          80,
          60,
          20,
          50,
          45,
          70,
          0,
          100,
          80,
          15,
          35,
          30,
          10,
          0,
          0,
          0,
          0,
          0,
          0,
          0,
          0,
          0,
          5,
          70,
          5,
          3,
          4,
          5,
          5,
          70,
          100,
          70,
          100,
          150,
          110,
          130,
          190,
          150,
          170,
          240,
          190,
          110,
          130,
          110,
          170,
          200,
          180,
          220,
          260,
          230,
          280,
          340,
          290,
          100,
          130,
          110,
          150,
          200,
          160,
          200,
          250,
          210,
          250,
          320,
          270,
          5,
          10,
          15,
          25,
          50,
          80,
          50,
          60,
          90,
          70,
          80,
          120,
          100,
          110,
          150,
          120,
          5,
          10,
          60,
          100,
          120,
          160,
          100,
          120,
          100,
          140,
          180,
          150,
          190,
          240,
          200,
          240,
          300,
          250,
          180,
          200,
          180,
          270,
          310,
          280,
          350,
          400,
          370,
          450,
          510,
          460,
          130,
          150,
          130,
          190,
          230,
          200,
          240,
          290,
          250,
          320,
          380,
          330,
          140,
          210,
          280,
          360,
          0,
          0,
          0,
          0,
          100,
          120,
          110,
          160,
          190,
          160,
          210,
          240,
          220,
          260,
          310,
          280,
          130,
          170,
          140,
          210,
          260,
          230,
          290,
          350,
          310,
          370,
          450,
          390,
          80,
          90,
          80,
          120,
          140,
          130,
          150,
          190,
          170,
          190,
          230,
          210,
          80,
          90,
          80,
          120,
          140,
          130,
          150,
          190,
          170,
          190,
          230,
          210,
          60,
          90,
          130,
          80,
          90,
          80,
          110,
          120,
          110,
          160,
          180,
          170,
          60,
          80,
          120,
          100,
          130,
          190,
          280,
          300,
          290,
          260,
          270,
          270,
          290,
          290,
          290,
          160,
          180,
          160,
          220,
          240,
          220,
          310,
          350,
          310,
          180,
          200,
          180,
          260,
          290,
          260,
          340,
          390,
          350,
          180,
          200,
          180,
          280,
          280,
          260,
          330,
          370,
          340,
          220,
          240,
          220,
          310,
          340,
          310,
          420,
          460,
          430,
          90,
          120,
          160,
          110,
          150,
          210,
          100,
          150,
          200,
          150,
          220,
          290,
          170,
          190,
          170,
          230,
          260,
          240,
          310,
          350,
          320,
          170,
          200,
          180,
          240,
          300,
          380,
          410,
          460,
          420,
          380,
          420,
          240,
          350,
          320,
          170,
          310,
          440,
          330,
          390,
          490,
          390,
          270,
          390,
          360,
          420,
          430,
          410,
          490,
          440,
          100,
          290,
          90,
          200,
          240,
          250,
          470,
          310,
          350,
          290,
          330,
          480,
          360,
          330,
          120,
          280,
          410,
          420,
          360,
          370,
          330,
          330,
          330,
          180,
          200,
          300,
          360,
          390,
          270,
          600,
          300,
          360,
          130,
          430,
          470,
          170,
          620,
          300,
          360,
          440,
          600,
          530,
          350,
          500,
          560,
          570,
          420,
          450,
          460,
          460,
          520,
          360,
          170,
          160,
          180,
          180,
          370,
          280,
          160,
          490,
          320,
          220,
          230,
          500,
          410,
          450,
          310,
          170,
          500,
          290,
          500,
          420,
          510,
          470,
          480,
          480,
          480,
          650,
          420,
          460,
          560,
          240,
          240,
          180,
          190,
          340,
          90,
          90
         ],
         "xaxis": "x",
         "yaxis": "y"
        }
       ],
       "layout": {
        "barmode": "relative",
        "legend": {
         "tracegroupgap": 0
        },
        "template": {
         "data": {
          "bar": [
           {
            "error_x": {
             "color": "#2a3f5f"
            },
            "error_y": {
             "color": "#2a3f5f"
            },
            "marker": {
             "line": {
              "color": "#E5ECF6",
              "width": 0.5
             },
             "pattern": {
              "fillmode": "overlay",
              "size": 10,
              "solidity": 0.2
             }
            },
            "type": "bar"
           }
          ],
          "barpolar": [
           {
            "marker": {
             "line": {
              "color": "#E5ECF6",
              "width": 0.5
             },
             "pattern": {
              "fillmode": "overlay",
              "size": 10,
              "solidity": 0.2
             }
            },
            "type": "barpolar"
           }
          ],
          "carpet": [
           {
            "aaxis": {
             "endlinecolor": "#2a3f5f",
             "gridcolor": "white",
             "linecolor": "white",
             "minorgridcolor": "white",
             "startlinecolor": "#2a3f5f"
            },
            "baxis": {
             "endlinecolor": "#2a3f5f",
             "gridcolor": "white",
             "linecolor": "white",
             "minorgridcolor": "white",
             "startlinecolor": "#2a3f5f"
            },
            "type": "carpet"
           }
          ],
          "choropleth": [
           {
            "colorbar": {
             "outlinewidth": 0,
             "ticks": ""
            },
            "type": "choropleth"
           }
          ],
          "contour": [
           {
            "colorbar": {
             "outlinewidth": 0,
             "ticks": ""
            },
            "colorscale": [
             [
              0,
              "#0d0887"
             ],
             [
              0.1111111111111111,
              "#46039f"
             ],
             [
              0.2222222222222222,
              "#7201a8"
             ],
             [
              0.3333333333333333,
              "#9c179e"
             ],
             [
              0.4444444444444444,
              "#bd3786"
             ],
             [
              0.5555555555555556,
              "#d8576b"
             ],
             [
              0.6666666666666666,
              "#ed7953"
             ],
             [
              0.7777777777777778,
              "#fb9f3a"
             ],
             [
              0.8888888888888888,
              "#fdca26"
             ],
             [
              1,
              "#f0f921"
             ]
            ],
            "type": "contour"
           }
          ],
          "contourcarpet": [
           {
            "colorbar": {
             "outlinewidth": 0,
             "ticks": ""
            },
            "type": "contourcarpet"
           }
          ],
          "heatmap": [
           {
            "colorbar": {
             "outlinewidth": 0,
             "ticks": ""
            },
            "colorscale": [
             [
              0,
              "#0d0887"
             ],
             [
              0.1111111111111111,
              "#46039f"
             ],
             [
              0.2222222222222222,
              "#7201a8"
             ],
             [
              0.3333333333333333,
              "#9c179e"
             ],
             [
              0.4444444444444444,
              "#bd3786"
             ],
             [
              0.5555555555555556,
              "#d8576b"
             ],
             [
              0.6666666666666666,
              "#ed7953"
             ],
             [
              0.7777777777777778,
              "#fb9f3a"
             ],
             [
              0.8888888888888888,
              "#fdca26"
             ],
             [
              1,
              "#f0f921"
             ]
            ],
            "type": "heatmap"
           }
          ],
          "heatmapgl": [
           {
            "colorbar": {
             "outlinewidth": 0,
             "ticks": ""
            },
            "colorscale": [
             [
              0,
              "#0d0887"
             ],
             [
              0.1111111111111111,
              "#46039f"
             ],
             [
              0.2222222222222222,
              "#7201a8"
             ],
             [
              0.3333333333333333,
              "#9c179e"
             ],
             [
              0.4444444444444444,
              "#bd3786"
             ],
             [
              0.5555555555555556,
              "#d8576b"
             ],
             [
              0.6666666666666666,
              "#ed7953"
             ],
             [
              0.7777777777777778,
              "#fb9f3a"
             ],
             [
              0.8888888888888888,
              "#fdca26"
             ],
             [
              1,
              "#f0f921"
             ]
            ],
            "type": "heatmapgl"
           }
          ],
          "histogram": [
           {
            "marker": {
             "pattern": {
              "fillmode": "overlay",
              "size": 10,
              "solidity": 0.2
             }
            },
            "type": "histogram"
           }
          ],
          "histogram2d": [
           {
            "colorbar": {
             "outlinewidth": 0,
             "ticks": ""
            },
            "colorscale": [
             [
              0,
              "#0d0887"
             ],
             [
              0.1111111111111111,
              "#46039f"
             ],
             [
              0.2222222222222222,
              "#7201a8"
             ],
             [
              0.3333333333333333,
              "#9c179e"
             ],
             [
              0.4444444444444444,
              "#bd3786"
             ],
             [
              0.5555555555555556,
              "#d8576b"
             ],
             [
              0.6666666666666666,
              "#ed7953"
             ],
             [
              0.7777777777777778,
              "#fb9f3a"
             ],
             [
              0.8888888888888888,
              "#fdca26"
             ],
             [
              1,
              "#f0f921"
             ]
            ],
            "type": "histogram2d"
           }
          ],
          "histogram2dcontour": [
           {
            "colorbar": {
             "outlinewidth": 0,
             "ticks": ""
            },
            "colorscale": [
             [
              0,
              "#0d0887"
             ],
             [
              0.1111111111111111,
              "#46039f"
             ],
             [
              0.2222222222222222,
              "#7201a8"
             ],
             [
              0.3333333333333333,
              "#9c179e"
             ],
             [
              0.4444444444444444,
              "#bd3786"
             ],
             [
              0.5555555555555556,
              "#d8576b"
             ],
             [
              0.6666666666666666,
              "#ed7953"
             ],
             [
              0.7777777777777778,
              "#fb9f3a"
             ],
             [
              0.8888888888888888,
              "#fdca26"
             ],
             [
              1,
              "#f0f921"
             ]
            ],
            "type": "histogram2dcontour"
           }
          ],
          "mesh3d": [
           {
            "colorbar": {
             "outlinewidth": 0,
             "ticks": ""
            },
            "type": "mesh3d"
           }
          ],
          "parcoords": [
           {
            "line": {
             "colorbar": {
              "outlinewidth": 0,
              "ticks": ""
             }
            },
            "type": "parcoords"
           }
          ],
          "pie": [
           {
            "automargin": true,
            "type": "pie"
           }
          ],
          "scatter": [
           {
            "fillpattern": {
             "fillmode": "overlay",
             "size": 10,
             "solidity": 0.2
            },
            "type": "scatter"
           }
          ],
          "scatter3d": [
           {
            "line": {
             "colorbar": {
              "outlinewidth": 0,
              "ticks": ""
             }
            },
            "marker": {
             "colorbar": {
              "outlinewidth": 0,
              "ticks": ""
             }
            },
            "type": "scatter3d"
           }
          ],
          "scattercarpet": [
           {
            "marker": {
             "colorbar": {
              "outlinewidth": 0,
              "ticks": ""
             }
            },
            "type": "scattercarpet"
           }
          ],
          "scattergeo": [
           {
            "marker": {
             "colorbar": {
              "outlinewidth": 0,
              "ticks": ""
             }
            },
            "type": "scattergeo"
           }
          ],
          "scattergl": [
           {
            "marker": {
             "colorbar": {
              "outlinewidth": 0,
              "ticks": ""
             }
            },
            "type": "scattergl"
           }
          ],
          "scattermapbox": [
           {
            "marker": {
             "colorbar": {
              "outlinewidth": 0,
              "ticks": ""
             }
            },
            "type": "scattermapbox"
           }
          ],
          "scatterpolar": [
           {
            "marker": {
             "colorbar": {
              "outlinewidth": 0,
              "ticks": ""
             }
            },
            "type": "scatterpolar"
           }
          ],
          "scatterpolargl": [
           {
            "marker": {
             "colorbar": {
              "outlinewidth": 0,
              "ticks": ""
             }
            },
            "type": "scatterpolargl"
           }
          ],
          "scatterternary": [
           {
            "marker": {
             "colorbar": {
              "outlinewidth": 0,
              "ticks": ""
             }
            },
            "type": "scatterternary"
           }
          ],
          "surface": [
           {
            "colorbar": {
             "outlinewidth": 0,
             "ticks": ""
            },
            "colorscale": [
             [
              0,
              "#0d0887"
             ],
             [
              0.1111111111111111,
              "#46039f"
             ],
             [
              0.2222222222222222,
              "#7201a8"
             ],
             [
              0.3333333333333333,
              "#9c179e"
             ],
             [
              0.4444444444444444,
              "#bd3786"
             ],
             [
              0.5555555555555556,
              "#d8576b"
             ],
             [
              0.6666666666666666,
              "#ed7953"
             ],
             [
              0.7777777777777778,
              "#fb9f3a"
             ],
             [
              0.8888888888888888,
              "#fdca26"
             ],
             [
              1,
              "#f0f921"
             ]
            ],
            "type": "surface"
           }
          ],
          "table": [
           {
            "cells": {
             "fill": {
              "color": "#EBF0F8"
             },
             "line": {
              "color": "white"
             }
            },
            "header": {
             "fill": {
              "color": "#C8D4E3"
             },
             "line": {
              "color": "white"
             }
            },
            "type": "table"
           }
          ]
         },
         "layout": {
          "annotationdefaults": {
           "arrowcolor": "#2a3f5f",
           "arrowhead": 0,
           "arrowwidth": 1
          },
          "autotypenumbers": "strict",
          "coloraxis": {
           "colorbar": {
            "outlinewidth": 0,
            "ticks": ""
           }
          },
          "colorscale": {
           "diverging": [
            [
             0,
             "#8e0152"
            ],
            [
             0.1,
             "#c51b7d"
            ],
            [
             0.2,
             "#de77ae"
            ],
            [
             0.3,
             "#f1b6da"
            ],
            [
             0.4,
             "#fde0ef"
            ],
            [
             0.5,
             "#f7f7f7"
            ],
            [
             0.6,
             "#e6f5d0"
            ],
            [
             0.7,
             "#b8e186"
            ],
            [
             0.8,
             "#7fbc41"
            ],
            [
             0.9,
             "#4d9221"
            ],
            [
             1,
             "#276419"
            ]
           ],
           "sequential": [
            [
             0,
             "#0d0887"
            ],
            [
             0.1111111111111111,
             "#46039f"
            ],
            [
             0.2222222222222222,
             "#7201a8"
            ],
            [
             0.3333333333333333,
             "#9c179e"
            ],
            [
             0.4444444444444444,
             "#bd3786"
            ],
            [
             0.5555555555555556,
             "#d8576b"
            ],
            [
             0.6666666666666666,
             "#ed7953"
            ],
            [
             0.7777777777777778,
             "#fb9f3a"
            ],
            [
             0.8888888888888888,
             "#fdca26"
            ],
            [
             1,
             "#f0f921"
            ]
           ],
           "sequentialminus": [
            [
             0,
             "#0d0887"
            ],
            [
             0.1111111111111111,
             "#46039f"
            ],
            [
             0.2222222222222222,
             "#7201a8"
            ],
            [
             0.3333333333333333,
             "#9c179e"
            ],
            [
             0.4444444444444444,
             "#bd3786"
            ],
            [
             0.5555555555555556,
             "#d8576b"
            ],
            [
             0.6666666666666666,
             "#ed7953"
            ],
            [
             0.7777777777777778,
             "#fb9f3a"
            ],
            [
             0.8888888888888888,
             "#fdca26"
            ],
            [
             1,
             "#f0f921"
            ]
           ]
          },
          "colorway": [
           "#636efa",
           "#EF553B",
           "#00cc96",
           "#ab63fa",
           "#FFA15A",
           "#19d3f3",
           "#FF6692",
           "#B6E880",
           "#FF97FF",
           "#FECB52"
          ],
          "font": {
           "color": "#2a3f5f"
          },
          "geo": {
           "bgcolor": "white",
           "lakecolor": "white",
           "landcolor": "#E5ECF6",
           "showlakes": true,
           "showland": true,
           "subunitcolor": "white"
          },
          "hoverlabel": {
           "align": "left"
          },
          "hovermode": "closest",
          "mapbox": {
           "style": "light"
          },
          "paper_bgcolor": "white",
          "plot_bgcolor": "#E5ECF6",
          "polar": {
           "angularaxis": {
            "gridcolor": "white",
            "linecolor": "white",
            "ticks": ""
           },
           "bgcolor": "#E5ECF6",
           "radialaxis": {
            "gridcolor": "white",
            "linecolor": "white",
            "ticks": ""
           }
          },
          "scene": {
           "xaxis": {
            "backgroundcolor": "#E5ECF6",
            "gridcolor": "white",
            "gridwidth": 2,
            "linecolor": "white",
            "showbackground": true,
            "ticks": "",
            "zerolinecolor": "white"
           },
           "yaxis": {
            "backgroundcolor": "#E5ECF6",
            "gridcolor": "white",
            "gridwidth": 2,
            "linecolor": "white",
            "showbackground": true,
            "ticks": "",
            "zerolinecolor": "white"
           },
           "zaxis": {
            "backgroundcolor": "#E5ECF6",
            "gridcolor": "white",
            "gridwidth": 2,
            "linecolor": "white",
            "showbackground": true,
            "ticks": "",
            "zerolinecolor": "white"
           }
          },
          "shapedefaults": {
           "line": {
            "color": "#2a3f5f"
           }
          },
          "ternary": {
           "aaxis": {
            "gridcolor": "white",
            "linecolor": "white",
            "ticks": ""
           },
           "baxis": {
            "gridcolor": "white",
            "linecolor": "white",
            "ticks": ""
           },
           "bgcolor": "#E5ECF6",
           "caxis": {
            "gridcolor": "white",
            "linecolor": "white",
            "ticks": ""
           }
          },
          "title": {
           "x": 0.05
          },
          "xaxis": {
           "automargin": true,
           "gridcolor": "white",
           "linecolor": "white",
           "ticks": "",
           "title": {
            "standoff": 15
           },
           "zerolinecolor": "white",
           "zerolinewidth": 2
          },
          "yaxis": {
           "automargin": true,
           "gridcolor": "white",
           "linecolor": "white",
           "ticks": "",
           "title": {
            "standoff": 15
           },
           "zerolinecolor": "white",
           "zerolinewidth": 2
          }
         }
        },
        "title": {
         "text": "Distribution of Calories"
        },
        "xaxis": {
         "anchor": "y",
         "domain": [
          0,
          1
         ],
         "title": {
          "text": "calories"
         }
        },
        "yaxis": {
         "anchor": "x",
         "domain": [
          0,
          1
         ],
         "title": {
          "text": "count"
         }
        }
       }
      },
      "text/html": [
       "<div>                            <div id=\"821ed60a-2fce-4bdb-9687-9ef5bc1c4bcf\" class=\"plotly-graph-div\" style=\"height:525px; width:100%;\"></div>            <script type=\"text/javascript\">                require([\"plotly\"], function(Plotly) {                    window.PLOTLYENV=window.PLOTLYENV || {};                                    if (document.getElementById(\"821ed60a-2fce-4bdb-9687-9ef5bc1c4bcf\")) {                    Plotly.newPlot(                        \"821ed60a-2fce-4bdb-9687-9ef5bc1c4bcf\",                        [{\"alignmentgroup\":\"True\",\"bingroup\":\"x\",\"hovertemplate\":\"calories=%{x}\\u003cbr\\u003ecount=%{y}\\u003cextra\\u003e\\u003c\\u002fextra\\u003e\",\"legendgroup\":\"\",\"marker\":{\"color\":\"#636efa\",\"pattern\":{\"shape\":\"\"}},\"name\":\"\",\"nbinsx\":50,\"offsetgroup\":\"\",\"orientation\":\"v\",\"showlegend\":false,\"x\":[300,250,370,450,400,430,460,520,410,470,430,480,510,570,460,520,410,470,540,460,400,420,550,500,620,570,670,740,800,640,690,1090,1150,990,1050,350,520,300,150,460,290,260,530,520,600,610,540,750,240,290,430,720,380,440,430,430,500,510,350,670,510,610,450,750,590,430,360,480,430,360,630,480,610,450,670,520,540,380,190,280,470,940,1880,390,140,380,220,140,450,290,340,260,330,250,360,280,230,340,510,110,20,15,150,250,160,150,45,330,340,280,140,200,280,100,0,0,0,0,140,190,270,100,0,0,0,0,140,200,280,100,100,130,80,150,190,280,0,0,0,0,0,150,180,220,110,0,0,0,170,210,280,270,340,430,270,330,430,260,330,420,210,260,330,100,130,170,200,250,310,200,250,310,190,240,300,140,170,220,340,410,500,270,330,390,320,390,480,250,310,370,360,440,540,280,340,400,140,190,270,130,180,260,130,180,250,120,170,240,80,120,160,290,350,480,240,290,390,280,340,460,230,270,370,450,550,670,450,550,670,530,630,760,220,260,340,210,250,330,210,260,340,530,660,820,550,690,850,560,700,850,660,820,650,930,430,510,690,340,810,410,580,260,530,330,290,340,450,320,430,380,420,150,230,170,200,550,490,600,260,570,280,310,450,340,280,320,780,250,720,730,190,440,120,460,180,240,290,120,140,170,780,300,200,480,140,210,310,110,50,450,410,380,440,70,210,210,210,210,200,210,200,80,200,230,230,220,1080,440,1590,710,560,820,680,770,790,460,490,550,680,820,490,540,820,430,760,330,210,190,180,220,210,180,220,220,120,130,220,190,220,290,290,40,60,50,50,50,40,50,70,60,80,60,20,50,45,70,0,100,80,15,35,30,10,0,0,0,0,0,0,0,0,0,5,70,5,3,4,5,5,70,100,70,100,150,110,130,190,150,170,240,190,110,130,110,170,200,180,220,260,230,280,340,290,100,130,110,150,200,160,200,250,210,250,320,270,5,10,15,25,50,80,50,60,90,70,80,120,100,110,150,120,5,10,60,100,120,160,100,120,100,140,180,150,190,240,200,240,300,250,180,200,180,270,310,280,350,400,370,450,510,460,130,150,130,190,230,200,240,290,250,320,380,330,140,210,280,360,0,0,0,0,100,120,110,160,190,160,210,240,220,260,310,280,130,170,140,210,260,230,290,350,310,370,450,390,80,90,80,120,140,130,150,190,170,190,230,210,80,90,80,120,140,130,150,190,170,190,230,210,60,90,130,80,90,80,110,120,110,160,180,170,60,80,120,100,130,190,280,300,290,260,270,270,290,290,290,160,180,160,220,240,220,310,350,310,180,200,180,260,290,260,340,390,350,180,200,180,280,280,260,330,370,340,220,240,220,310,340,310,420,460,430,90,120,160,110,150,210,100,150,200,150,220,290,170,190,170,230,260,240,310,350,320,170,200,180,240,300,380,410,460,420,380,420,240,350,320,170,310,440,330,390,490,390,270,390,360,420,430,410,490,440,100,290,90,200,240,250,470,310,350,290,330,480,360,330,120,280,410,420,360,370,330,330,330,180,200,300,360,390,270,600,300,360,130,430,470,170,620,300,360,440,600,530,350,500,560,570,420,450,460,460,520,360,170,160,180,180,370,280,160,490,320,220,230,500,410,450,310,170,500,290,500,420,510,470,480,480,480,650,420,460,560,240,240,180,190,340,90,90],\"xaxis\":\"x\",\"yaxis\":\"y\",\"type\":\"histogram\"}],                        {\"template\":{\"data\":{\"histogram2dcontour\":[{\"type\":\"histogram2dcontour\",\"colorbar\":{\"outlinewidth\":0,\"ticks\":\"\"},\"colorscale\":[[0.0,\"#0d0887\"],[0.1111111111111111,\"#46039f\"],[0.2222222222222222,\"#7201a8\"],[0.3333333333333333,\"#9c179e\"],[0.4444444444444444,\"#bd3786\"],[0.5555555555555556,\"#d8576b\"],[0.6666666666666666,\"#ed7953\"],[0.7777777777777778,\"#fb9f3a\"],[0.8888888888888888,\"#fdca26\"],[1.0,\"#f0f921\"]]}],\"choropleth\":[{\"type\":\"choropleth\",\"colorbar\":{\"outlinewidth\":0,\"ticks\":\"\"}}],\"histogram2d\":[{\"type\":\"histogram2d\",\"colorbar\":{\"outlinewidth\":0,\"ticks\":\"\"},\"colorscale\":[[0.0,\"#0d0887\"],[0.1111111111111111,\"#46039f\"],[0.2222222222222222,\"#7201a8\"],[0.3333333333333333,\"#9c179e\"],[0.4444444444444444,\"#bd3786\"],[0.5555555555555556,\"#d8576b\"],[0.6666666666666666,\"#ed7953\"],[0.7777777777777778,\"#fb9f3a\"],[0.8888888888888888,\"#fdca26\"],[1.0,\"#f0f921\"]]}],\"heatmap\":[{\"type\":\"heatmap\",\"colorbar\":{\"outlinewidth\":0,\"ticks\":\"\"},\"colorscale\":[[0.0,\"#0d0887\"],[0.1111111111111111,\"#46039f\"],[0.2222222222222222,\"#7201a8\"],[0.3333333333333333,\"#9c179e\"],[0.4444444444444444,\"#bd3786\"],[0.5555555555555556,\"#d8576b\"],[0.6666666666666666,\"#ed7953\"],[0.7777777777777778,\"#fb9f3a\"],[0.8888888888888888,\"#fdca26\"],[1.0,\"#f0f921\"]]}],\"heatmapgl\":[{\"type\":\"heatmapgl\",\"colorbar\":{\"outlinewidth\":0,\"ticks\":\"\"},\"colorscale\":[[0.0,\"#0d0887\"],[0.1111111111111111,\"#46039f\"],[0.2222222222222222,\"#7201a8\"],[0.3333333333333333,\"#9c179e\"],[0.4444444444444444,\"#bd3786\"],[0.5555555555555556,\"#d8576b\"],[0.6666666666666666,\"#ed7953\"],[0.7777777777777778,\"#fb9f3a\"],[0.8888888888888888,\"#fdca26\"],[1.0,\"#f0f921\"]]}],\"contourcarpet\":[{\"type\":\"contourcarpet\",\"colorbar\":{\"outlinewidth\":0,\"ticks\":\"\"}}],\"contour\":[{\"type\":\"contour\",\"colorbar\":{\"outlinewidth\":0,\"ticks\":\"\"},\"colorscale\":[[0.0,\"#0d0887\"],[0.1111111111111111,\"#46039f\"],[0.2222222222222222,\"#7201a8\"],[0.3333333333333333,\"#9c179e\"],[0.4444444444444444,\"#bd3786\"],[0.5555555555555556,\"#d8576b\"],[0.6666666666666666,\"#ed7953\"],[0.7777777777777778,\"#fb9f3a\"],[0.8888888888888888,\"#fdca26\"],[1.0,\"#f0f921\"]]}],\"surface\":[{\"type\":\"surface\",\"colorbar\":{\"outlinewidth\":0,\"ticks\":\"\"},\"colorscale\":[[0.0,\"#0d0887\"],[0.1111111111111111,\"#46039f\"],[0.2222222222222222,\"#7201a8\"],[0.3333333333333333,\"#9c179e\"],[0.4444444444444444,\"#bd3786\"],[0.5555555555555556,\"#d8576b\"],[0.6666666666666666,\"#ed7953\"],[0.7777777777777778,\"#fb9f3a\"],[0.8888888888888888,\"#fdca26\"],[1.0,\"#f0f921\"]]}],\"mesh3d\":[{\"type\":\"mesh3d\",\"colorbar\":{\"outlinewidth\":0,\"ticks\":\"\"}}],\"scatter\":[{\"fillpattern\":{\"fillmode\":\"overlay\",\"size\":10,\"solidity\":0.2},\"type\":\"scatter\"}],\"parcoords\":[{\"type\":\"parcoords\",\"line\":{\"colorbar\":{\"outlinewidth\":0,\"ticks\":\"\"}}}],\"scatterpolargl\":[{\"type\":\"scatterpolargl\",\"marker\":{\"colorbar\":{\"outlinewidth\":0,\"ticks\":\"\"}}}],\"bar\":[{\"error_x\":{\"color\":\"#2a3f5f\"},\"error_y\":{\"color\":\"#2a3f5f\"},\"marker\":{\"line\":{\"color\":\"#E5ECF6\",\"width\":0.5},\"pattern\":{\"fillmode\":\"overlay\",\"size\":10,\"solidity\":0.2}},\"type\":\"bar\"}],\"scattergeo\":[{\"type\":\"scattergeo\",\"marker\":{\"colorbar\":{\"outlinewidth\":0,\"ticks\":\"\"}}}],\"scatterpolar\":[{\"type\":\"scatterpolar\",\"marker\":{\"colorbar\":{\"outlinewidth\":0,\"ticks\":\"\"}}}],\"histogram\":[{\"marker\":{\"pattern\":{\"fillmode\":\"overlay\",\"size\":10,\"solidity\":0.2}},\"type\":\"histogram\"}],\"scattergl\":[{\"type\":\"scattergl\",\"marker\":{\"colorbar\":{\"outlinewidth\":0,\"ticks\":\"\"}}}],\"scatter3d\":[{\"type\":\"scatter3d\",\"line\":{\"colorbar\":{\"outlinewidth\":0,\"ticks\":\"\"}},\"marker\":{\"colorbar\":{\"outlinewidth\":0,\"ticks\":\"\"}}}],\"scattermapbox\":[{\"type\":\"scattermapbox\",\"marker\":{\"colorbar\":{\"outlinewidth\":0,\"ticks\":\"\"}}}],\"scatterternary\":[{\"type\":\"scatterternary\",\"marker\":{\"colorbar\":{\"outlinewidth\":0,\"ticks\":\"\"}}}],\"scattercarpet\":[{\"type\":\"scattercarpet\",\"marker\":{\"colorbar\":{\"outlinewidth\":0,\"ticks\":\"\"}}}],\"carpet\":[{\"aaxis\":{\"endlinecolor\":\"#2a3f5f\",\"gridcolor\":\"white\",\"linecolor\":\"white\",\"minorgridcolor\":\"white\",\"startlinecolor\":\"#2a3f5f\"},\"baxis\":{\"endlinecolor\":\"#2a3f5f\",\"gridcolor\":\"white\",\"linecolor\":\"white\",\"minorgridcolor\":\"white\",\"startlinecolor\":\"#2a3f5f\"},\"type\":\"carpet\"}],\"table\":[{\"cells\":{\"fill\":{\"color\":\"#EBF0F8\"},\"line\":{\"color\":\"white\"}},\"header\":{\"fill\":{\"color\":\"#C8D4E3\"},\"line\":{\"color\":\"white\"}},\"type\":\"table\"}],\"barpolar\":[{\"marker\":{\"line\":{\"color\":\"#E5ECF6\",\"width\":0.5},\"pattern\":{\"fillmode\":\"overlay\",\"size\":10,\"solidity\":0.2}},\"type\":\"barpolar\"}],\"pie\":[{\"automargin\":true,\"type\":\"pie\"}]},\"layout\":{\"autotypenumbers\":\"strict\",\"colorway\":[\"#636efa\",\"#EF553B\",\"#00cc96\",\"#ab63fa\",\"#FFA15A\",\"#19d3f3\",\"#FF6692\",\"#B6E880\",\"#FF97FF\",\"#FECB52\"],\"font\":{\"color\":\"#2a3f5f\"},\"hovermode\":\"closest\",\"hoverlabel\":{\"align\":\"left\"},\"paper_bgcolor\":\"white\",\"plot_bgcolor\":\"#E5ECF6\",\"polar\":{\"bgcolor\":\"#E5ECF6\",\"angularaxis\":{\"gridcolor\":\"white\",\"linecolor\":\"white\",\"ticks\":\"\"},\"radialaxis\":{\"gridcolor\":\"white\",\"linecolor\":\"white\",\"ticks\":\"\"}},\"ternary\":{\"bgcolor\":\"#E5ECF6\",\"aaxis\":{\"gridcolor\":\"white\",\"linecolor\":\"white\",\"ticks\":\"\"},\"baxis\":{\"gridcolor\":\"white\",\"linecolor\":\"white\",\"ticks\":\"\"},\"caxis\":{\"gridcolor\":\"white\",\"linecolor\":\"white\",\"ticks\":\"\"}},\"coloraxis\":{\"colorbar\":{\"outlinewidth\":0,\"ticks\":\"\"}},\"colorscale\":{\"sequential\":[[0.0,\"#0d0887\"],[0.1111111111111111,\"#46039f\"],[0.2222222222222222,\"#7201a8\"],[0.3333333333333333,\"#9c179e\"],[0.4444444444444444,\"#bd3786\"],[0.5555555555555556,\"#d8576b\"],[0.6666666666666666,\"#ed7953\"],[0.7777777777777778,\"#fb9f3a\"],[0.8888888888888888,\"#fdca26\"],[1.0,\"#f0f921\"]],\"sequentialminus\":[[0.0,\"#0d0887\"],[0.1111111111111111,\"#46039f\"],[0.2222222222222222,\"#7201a8\"],[0.3333333333333333,\"#9c179e\"],[0.4444444444444444,\"#bd3786\"],[0.5555555555555556,\"#d8576b\"],[0.6666666666666666,\"#ed7953\"],[0.7777777777777778,\"#fb9f3a\"],[0.8888888888888888,\"#fdca26\"],[1.0,\"#f0f921\"]],\"diverging\":[[0,\"#8e0152\"],[0.1,\"#c51b7d\"],[0.2,\"#de77ae\"],[0.3,\"#f1b6da\"],[0.4,\"#fde0ef\"],[0.5,\"#f7f7f7\"],[0.6,\"#e6f5d0\"],[0.7,\"#b8e186\"],[0.8,\"#7fbc41\"],[0.9,\"#4d9221\"],[1,\"#276419\"]]},\"xaxis\":{\"gridcolor\":\"white\",\"linecolor\":\"white\",\"ticks\":\"\",\"title\":{\"standoff\":15},\"zerolinecolor\":\"white\",\"automargin\":true,\"zerolinewidth\":2},\"yaxis\":{\"gridcolor\":\"white\",\"linecolor\":\"white\",\"ticks\":\"\",\"title\":{\"standoff\":15},\"zerolinecolor\":\"white\",\"automargin\":true,\"zerolinewidth\":2},\"scene\":{\"xaxis\":{\"backgroundcolor\":\"#E5ECF6\",\"gridcolor\":\"white\",\"linecolor\":\"white\",\"showbackground\":true,\"ticks\":\"\",\"zerolinecolor\":\"white\",\"gridwidth\":2},\"yaxis\":{\"backgroundcolor\":\"#E5ECF6\",\"gridcolor\":\"white\",\"linecolor\":\"white\",\"showbackground\":true,\"ticks\":\"\",\"zerolinecolor\":\"white\",\"gridwidth\":2},\"zaxis\":{\"backgroundcolor\":\"#E5ECF6\",\"gridcolor\":\"white\",\"linecolor\":\"white\",\"showbackground\":true,\"ticks\":\"\",\"zerolinecolor\":\"white\",\"gridwidth\":2}},\"shapedefaults\":{\"line\":{\"color\":\"#2a3f5f\"}},\"annotationdefaults\":{\"arrowcolor\":\"#2a3f5f\",\"arrowhead\":0,\"arrowwidth\":1},\"geo\":{\"bgcolor\":\"white\",\"landcolor\":\"#E5ECF6\",\"subunitcolor\":\"white\",\"showland\":true,\"showlakes\":true,\"lakecolor\":\"white\"},\"title\":{\"x\":0.05},\"mapbox\":{\"style\":\"light\"}}},\"xaxis\":{\"anchor\":\"y\",\"domain\":[0.0,1.0],\"title\":{\"text\":\"calories\"}},\"yaxis\":{\"anchor\":\"x\",\"domain\":[0.0,1.0],\"title\":{\"text\":\"count\"}},\"legend\":{\"tracegroupgap\":0},\"title\":{\"text\":\"Distribution of Calories\"},\"barmode\":\"relative\"},                        {\"responsive\": true}                    ).then(function(){\n",
       "                            \n",
       "var gd = document.getElementById('821ed60a-2fce-4bdb-9687-9ef5bc1c4bcf');\n",
       "var x = new MutationObserver(function (mutations, observer) {{\n",
       "        var display = window.getComputedStyle(gd).display;\n",
       "        if (!display || display === 'none') {{\n",
       "            console.log([gd, 'removed!']);\n",
       "            Plotly.purge(gd);\n",
       "            observer.disconnect();\n",
       "        }}\n",
       "}});\n",
       "\n",
       "// Listen for the removal of the full notebook cells\n",
       "var notebookContainer = gd.closest('#notebook-container');\n",
       "if (notebookContainer) {{\n",
       "    x.observe(notebookContainer, {childList: true});\n",
       "}}\n",
       "\n",
       "// Listen for the clearing of the current output cell\n",
       "var outputEl = gd.closest('.output');\n",
       "if (outputEl) {{\n",
       "    x.observe(outputEl, {childList: true});\n",
       "}}\n",
       "\n",
       "                        })                };                });            </script>        </div>"
      ]
     },
     "metadata": {},
     "output_type": "display_data"
    },
    {
     "data": {
      "application/vnd.plotly.v1+json": {
       "config": {
        "plotlyServerURL": "https://plot.ly"
       },
       "data": [
        {
         "alignmentgroup": "True",
         "bingroup": "x",
         "hovertemplate": "total fat (g)=%{x}<br>count=%{y}<extra></extra>",
         "legendgroup": "",
         "marker": {
          "color": "#636efa",
          "pattern": {
           "shape": ""
          }
         },
         "name": "",
         "nbinsx": 50,
         "offsetgroup": "",
         "orientation": "v",
         "showlegend": false,
         "type": "histogram",
         "x": [
          "13.0",
          "8.0",
          "23.0",
          "28.0",
          "23.0",
          "23.0",
          "26.0",
          "30.0",
          "20.0",
          "25.0",
          "27.0",
          "31.0",
          "33.0",
          "37.0",
          "27.0",
          "32.0",
          "20.0",
          "24.0",
          "32.0",
          "21.0",
          "15.0",
          "22.0",
          "31.0",
          "26.0",
          "31.0",
          "25.0",
          "35.0",
          "48.0",
          "52.0",
          "37.0",
          "41.0",
          "56.0",
          "60.0",
          "46.0",
          "50.0",
          "9.0",
          "24.0",
          "16.0",
          "9.0",
          "19.0",
          "4.0",
          "4.0",
          "27.0",
          "26.0",
          "29.0",
          "31.0",
          "27.0",
          "43.0",
          "8.0",
          "11.0",
          "21.0",
          "40.0",
          "17.0",
          "22.0",
          "22.0",
          "23.0",
          "26.0",
          "22.0",
          "9.0",
          "33.0",
          "20.0",
          "28.0",
          "15.0",
          "38.0",
          "25.0",
          "19.0",
          "16.0",
          "24.0",
          "21.0",
          "16.0",
          "32.0",
          "19.0",
          "31.0",
          "18.0",
          "33.0",
          "20.0",
          "23.0",
          "10.0",
          "12.0",
          "18.0",
          "30.0",
          "59.0",
          "118.0",
          "19.0",
          "7.0",
          "21.0",
          "8.0",
          "4.5",
          "22.0",
          "8.0",
          "15.0",
          "8.0",
          "15.0",
          "8.0",
          "20.0",
          "13.0",
          "11.0",
          "16.0",
          "24.0",
          "5.0",
          "0.0",
          "0.0",
          "2.0",
          "13.0",
          "8.0",
          "6.0",
          "1.5",
          "9.0",
          "8.0",
          "6.0",
          "0.0",
          "0.0",
          "0.0",
          "0.0",
          "0.0",
          "0.0",
          "0.0",
          "0.0",
          "0.0",
          "0.0",
          "0.0",
          "0.0",
          "0.0",
          "0.0",
          "0.0",
          "0.0",
          "0.0",
          "0.0",
          "0.0",
          "0.0",
          "2.5",
          "0.0",
          "0.0",
          "0.0",
          "0.0",
          "0.0",
          "0.0",
          "0.0",
          "0.0",
          "0.0",
          "0.0",
          "0.0",
          "0.0",
          "0.0",
          "0.0",
          "0.0",
          "0.0",
          "0.0",
          "9.0",
          "10.0",
          "14.0",
          "9.0",
          "10.0",
          "14.0",
          "9.0",
          "10.0",
          "14.0",
          "9.0",
          "10.0",
          "14.0",
          "9.0",
          "10.0",
          "14.0",
          "0.0",
          "0.0",
          "0.5",
          "0.0",
          "0.0",
          "0.5",
          "0.0",
          "0.0",
          "0.5",
          "0.0",
          "0.0",
          "0.5",
          "0.0",
          "0.0",
          "0.5",
          "11.0",
          "14.0",
          "17.0",
          "3.5",
          "3.5",
          "4.0",
          "11.0",
          "14.0",
          "17.0",
          "3.5",
          "3.5",
          "3.5",
          "13.0",
          "16.0",
          "20.0",
          "3.5",
          "3.5",
          "3.5",
          "4.5",
          "7.0",
          "9.0",
          "4.5",
          "7.0",
          "9.0",
          "4.5",
          "7.0",
          "9.0",
          "4.5",
          "7.0",
          "9.0",
          "4.5",
          "7.0",
          "9.0",
          "11.0",
          "13.0",
          "16.0",
          "5.0",
          "5.0",
          "6.0",
          "11.0",
          "13.0",
          "16.0",
          "5.0",
          "5.0",
          "6.0",
          "18.0",
          "22.0",
          "26.0",
          "19.0",
          "23.0",
          "27.0",
          "23.0",
          "26.0",
          "31.0",
          "0.5",
          "1.0",
          "1.0",
          "0.5",
          "1.0",
          "1.0",
          "0.5",
          "1.0",
          "1.0",
          "15.0",
          "19.0",
          "23.0",
          "16.0",
          "20.0",
          "24.0",
          "16.0",
          "20.0",
          "23.0",
          "19.0",
          "23.0",
          "23.0",
          "33.0",
          "15.0",
          "17.0",
          "23.0",
          "11.0",
          "32.0",
          "16.0",
          "31.0",
          "4.0",
          "26.0",
          "7.0",
          "5.0",
          "9.0",
          "25.0",
          "12.0",
          "23.0",
          "17.0",
          "18.0",
          "4.5",
          "14.0",
          "7.0",
          "10.0",
          "27.0",
          "25.0",
          "35.0",
          "3.5",
          "30.0",
          "4.5",
          "6.0",
          "24.0",
          "10.0",
          "4.0",
          "4.0",
          "27.0",
          "3.0",
          "45.0",
          "52.0",
          "2.0",
          "30.0",
          "3.0",
          "33.0",
          "11.0",
          "15.0",
          "16.0",
          "2.5",
          "3.5",
          "5.0",
          "53.0",
          "23.0",
          "9.0",
          "26.0",
          "3.0",
          "3.0",
          "24.0",
          "2.0",
          "1.0",
          "20.0",
          "16.0",
          "15.0",
          "18.0",
          "6.0",
          "6.0",
          "10.0",
          "10.0",
          "10.0",
          "8.0",
          "9.0",
          "8.0",
          "7.0",
          "9.0",
          "11.0",
          "12.0",
          "11.0",
          "65.0",
          "12.0",
          "78.0",
          "33.0",
          "27.0",
          "35.0",
          "37.0",
          "39.0",
          "31.0",
          "11.0",
          "13.0",
          "16.0",
          "30.0",
          "52.0",
          "12.0",
          "12.0",
          "54.0",
          "10.0",
          "37.0",
          "8.0",
          "2.5",
          "2.0",
          "1.5",
          "4.0",
          "2.5",
          "2.0",
          "4.5",
          "5.0",
          "1.0",
          "1.5",
          "5.0",
          "2.5",
          "3.0",
          "8.0",
          "8.0",
          "3.5",
          "4.5",
          "4.5",
          "4.0",
          "4.0",
          "3.0",
          "4.5",
          "6.0",
          "5.0",
          "7.0",
          "7.0",
          "0.0",
          "5.0",
          "5.0",
          "8.0",
          "0.0",
          "11.0",
          "9.0",
          "1.0",
          "3.5",
          "0.0",
          "0.5",
          "0.0",
          "0.0",
          "0.0",
          "0.0",
          "0.0",
          "0.0",
          "0.0",
          "0.0",
          "0.0",
          "0.0",
          "6.0",
          "0.0",
          "0.1",
          "0.1",
          "0.1",
          "0.1",
          "0.1",
          "3.5",
          "2.5",
          "0.2",
          "6",
          "4.5",
          "0.3",
          "7",
          "5",
          "0.4",
          "9",
          "7",
          "1.5",
          "4",
          "3.5",
          "2",
          "6",
          "5",
          "2.5",
          "8",
          "7",
          "3",
          "11",
          "9",
          "0.1",
          "3.5",
          "2.5",
          "0.2",
          "5",
          "4",
          "0.3",
          "6",
          "5",
          "0.3",
          "9",
          "7",
          "0",
          "0",
          "0",
          "0",
          "0.1",
          "3",
          "1.5",
          "0.1",
          "3.5",
          "3",
          "0.2",
          "4",
          "3.5",
          "0.2",
          "6",
          "4.5",
          "0",
          "0",
          "0.1",
          "0.2",
          "0.3",
          "0.3",
          "1",
          "4",
          "3",
          "1",
          "5",
          "4.5",
          "1",
          "7",
          "5",
          "1",
          "8",
          "7",
          "3",
          "6",
          "5",
          "4.5",
          "9",
          "8",
          "6",
          "11",
          "10",
          "7",
          "15",
          "13",
          "1.5",
          "4.5",
          "3.5",
          "2",
          "7",
          "6",
          "2.5",
          "9",
          "7",
          "3",
          "11",
          "9",
          "0",
          "0",
          "0",
          "0",
          "0",
          "0",
          "0",
          "0",
          "0.1",
          "2",
          "1.5",
          "0.2",
          "3.5",
          "2.5",
          "0.2",
          "4.5",
          "3.5",
          "0.3",
          "6",
          "4.5",
          "0.2",
          "4",
          "3",
          "0.4",
          "6",
          "4.5",
          "0.5",
          "8",
          "6",
          "0.5",
          "10",
          "8",
          "0.1",
          "2",
          "1.5",
          "0.1",
          "3",
          "2.5",
          "0.2",
          "4",
          "3.5",
          "0.2",
          "5",
          "4",
          "0.1",
          "2",
          "1.5",
          "0.1",
          "3",
          "2.5",
          "0.2",
          "4",
          "3.5",
          "0.2",
          "5",
          "4",
          "0",
          "0.1",
          "0.1",
          "0.1",
          "1",
          "1",
          "0.1",
          "1.5",
          "1",
          "0.1",
          "2",
          "1.5",
          "0",
          "0",
          "0",
          "0",
          "0",
          "0",
          "2.5",
          "5",
          "4.5",
          "1",
          "1.5",
          "1.5",
          "1",
          "2",
          "2",
          "0.1",
          "2.5",
          "1.5",
          "0.1",
          "3",
          "1.5",
          "0.1",
          "5",
          "2.5",
          "0.5",
          "3",
          "2",
          "1",
          "4",
          "2.5",
          "1",
          "6",
          "3",
          "0.1",
          "2.5",
          "1.5",
          "0.1",
          "3.5",
          "1.5",
          "0.1",
          "5",
          "2.5",
          "3",
          "5",
          "4",
          "4",
          "7",
          "6",
          "5",
          "10",
          "8",
          "0.1",
          "0.1",
          "0.1",
          "0.5",
          "1",
          "1",
          "0.1",
          "0.1",
          "0.1",
          "3",
          "4",
          "5",
          "0.1",
          "3",
          "1.5",
          "0.2",
          "4",
          "2",
          "0.2",
          "6",
          "3 2",
          "0.1",
          "3.5",
          "1.5",
          "0.1",
          "5.0",
          "6.0",
          "22.0",
          "23.0",
          "22.0",
          "16.0",
          "17.0",
          "12.0",
          "22.0",
          "16.0",
          "5.0",
          "15.0",
          "21.0",
          "18.0",
          "22.0",
          "24.0",
          "15.0",
          "1.0",
          "16.0",
          "23.0",
          "15.0",
          "23.0",
          "24.0",
          "28.0",
          "23.0",
          "3.5",
          "3.5",
          "3.0",
          "8.0",
          "5.0",
          "14.0",
          "20.0",
          "10.0",
          "4.0",
          "12.0",
          "18.0",
          "27.0",
          "21.0",
          "18.0",
          "4.5",
          "1.5",
          "15.0",
          "17.0",
          "18.0",
          "9.0",
          "17.0",
          "17.0",
          "6.0",
          "9.0",
          "8.0",
          "13.0",
          "18.0",
          "21.0",
          "14.0",
          "25.0",
          "14.0",
          "18.0",
          "12.0",
          "23.0",
          "29.0",
          "13.0",
          "37.0",
          "8.0",
          "7.0",
          "26.0",
          "32.0",
          "29.0",
          "18.0",
          "28.0",
          "29.0",
          "23.0",
          "16.0",
          "27.0",
          "22.0",
          "24.0",
          "26.0",
          "12.0",
          "9.0",
          "8.0",
          "9.0",
          "9.0",
          "19.0",
          "13.0",
          "2.5",
          "27.0",
          "17.0",
          "2.5",
          "6.0",
          "28.0",
          "18.0",
          "23.0",
          "22.0",
          "7.0",
          "30.0",
          "10.0",
          "19.0",
          "17.0",
          "27.0",
          "25.0",
          "27.0",
          "17.0",
          "20.0",
          "29.0",
          "18.0",
          "21.0",
          "23.0",
          "2.5",
          "2.5",
          "14.0",
          "18.0",
          "13.0",
          "8.0",
          "0.0"
         ],
         "xaxis": "x",
         "yaxis": "y"
        }
       ],
       "layout": {
        "barmode": "relative",
        "legend": {
         "tracegroupgap": 0
        },
        "template": {
         "data": {
          "bar": [
           {
            "error_x": {
             "color": "#2a3f5f"
            },
            "error_y": {
             "color": "#2a3f5f"
            },
            "marker": {
             "line": {
              "color": "#E5ECF6",
              "width": 0.5
             },
             "pattern": {
              "fillmode": "overlay",
              "size": 10,
              "solidity": 0.2
             }
            },
            "type": "bar"
           }
          ],
          "barpolar": [
           {
            "marker": {
             "line": {
              "color": "#E5ECF6",
              "width": 0.5
             },
             "pattern": {
              "fillmode": "overlay",
              "size": 10,
              "solidity": 0.2
             }
            },
            "type": "barpolar"
           }
          ],
          "carpet": [
           {
            "aaxis": {
             "endlinecolor": "#2a3f5f",
             "gridcolor": "white",
             "linecolor": "white",
             "minorgridcolor": "white",
             "startlinecolor": "#2a3f5f"
            },
            "baxis": {
             "endlinecolor": "#2a3f5f",
             "gridcolor": "white",
             "linecolor": "white",
             "minorgridcolor": "white",
             "startlinecolor": "#2a3f5f"
            },
            "type": "carpet"
           }
          ],
          "choropleth": [
           {
            "colorbar": {
             "outlinewidth": 0,
             "ticks": ""
            },
            "type": "choropleth"
           }
          ],
          "contour": [
           {
            "colorbar": {
             "outlinewidth": 0,
             "ticks": ""
            },
            "colorscale": [
             [
              0,
              "#0d0887"
             ],
             [
              0.1111111111111111,
              "#46039f"
             ],
             [
              0.2222222222222222,
              "#7201a8"
             ],
             [
              0.3333333333333333,
              "#9c179e"
             ],
             [
              0.4444444444444444,
              "#bd3786"
             ],
             [
              0.5555555555555556,
              "#d8576b"
             ],
             [
              0.6666666666666666,
              "#ed7953"
             ],
             [
              0.7777777777777778,
              "#fb9f3a"
             ],
             [
              0.8888888888888888,
              "#fdca26"
             ],
             [
              1,
              "#f0f921"
             ]
            ],
            "type": "contour"
           }
          ],
          "contourcarpet": [
           {
            "colorbar": {
             "outlinewidth": 0,
             "ticks": ""
            },
            "type": "contourcarpet"
           }
          ],
          "heatmap": [
           {
            "colorbar": {
             "outlinewidth": 0,
             "ticks": ""
            },
            "colorscale": [
             [
              0,
              "#0d0887"
             ],
             [
              0.1111111111111111,
              "#46039f"
             ],
             [
              0.2222222222222222,
              "#7201a8"
             ],
             [
              0.3333333333333333,
              "#9c179e"
             ],
             [
              0.4444444444444444,
              "#bd3786"
             ],
             [
              0.5555555555555556,
              "#d8576b"
             ],
             [
              0.6666666666666666,
              "#ed7953"
             ],
             [
              0.7777777777777778,
              "#fb9f3a"
             ],
             [
              0.8888888888888888,
              "#fdca26"
             ],
             [
              1,
              "#f0f921"
             ]
            ],
            "type": "heatmap"
           }
          ],
          "heatmapgl": [
           {
            "colorbar": {
             "outlinewidth": 0,
             "ticks": ""
            },
            "colorscale": [
             [
              0,
              "#0d0887"
             ],
             [
              0.1111111111111111,
              "#46039f"
             ],
             [
              0.2222222222222222,
              "#7201a8"
             ],
             [
              0.3333333333333333,
              "#9c179e"
             ],
             [
              0.4444444444444444,
              "#bd3786"
             ],
             [
              0.5555555555555556,
              "#d8576b"
             ],
             [
              0.6666666666666666,
              "#ed7953"
             ],
             [
              0.7777777777777778,
              "#fb9f3a"
             ],
             [
              0.8888888888888888,
              "#fdca26"
             ],
             [
              1,
              "#f0f921"
             ]
            ],
            "type": "heatmapgl"
           }
          ],
          "histogram": [
           {
            "marker": {
             "pattern": {
              "fillmode": "overlay",
              "size": 10,
              "solidity": 0.2
             }
            },
            "type": "histogram"
           }
          ],
          "histogram2d": [
           {
            "colorbar": {
             "outlinewidth": 0,
             "ticks": ""
            },
            "colorscale": [
             [
              0,
              "#0d0887"
             ],
             [
              0.1111111111111111,
              "#46039f"
             ],
             [
              0.2222222222222222,
              "#7201a8"
             ],
             [
              0.3333333333333333,
              "#9c179e"
             ],
             [
              0.4444444444444444,
              "#bd3786"
             ],
             [
              0.5555555555555556,
              "#d8576b"
             ],
             [
              0.6666666666666666,
              "#ed7953"
             ],
             [
              0.7777777777777778,
              "#fb9f3a"
             ],
             [
              0.8888888888888888,
              "#fdca26"
             ],
             [
              1,
              "#f0f921"
             ]
            ],
            "type": "histogram2d"
           }
          ],
          "histogram2dcontour": [
           {
            "colorbar": {
             "outlinewidth": 0,
             "ticks": ""
            },
            "colorscale": [
             [
              0,
              "#0d0887"
             ],
             [
              0.1111111111111111,
              "#46039f"
             ],
             [
              0.2222222222222222,
              "#7201a8"
             ],
             [
              0.3333333333333333,
              "#9c179e"
             ],
             [
              0.4444444444444444,
              "#bd3786"
             ],
             [
              0.5555555555555556,
              "#d8576b"
             ],
             [
              0.6666666666666666,
              "#ed7953"
             ],
             [
              0.7777777777777778,
              "#fb9f3a"
             ],
             [
              0.8888888888888888,
              "#fdca26"
             ],
             [
              1,
              "#f0f921"
             ]
            ],
            "type": "histogram2dcontour"
           }
          ],
          "mesh3d": [
           {
            "colorbar": {
             "outlinewidth": 0,
             "ticks": ""
            },
            "type": "mesh3d"
           }
          ],
          "parcoords": [
           {
            "line": {
             "colorbar": {
              "outlinewidth": 0,
              "ticks": ""
             }
            },
            "type": "parcoords"
           }
          ],
          "pie": [
           {
            "automargin": true,
            "type": "pie"
           }
          ],
          "scatter": [
           {
            "fillpattern": {
             "fillmode": "overlay",
             "size": 10,
             "solidity": 0.2
            },
            "type": "scatter"
           }
          ],
          "scatter3d": [
           {
            "line": {
             "colorbar": {
              "outlinewidth": 0,
              "ticks": ""
             }
            },
            "marker": {
             "colorbar": {
              "outlinewidth": 0,
              "ticks": ""
             }
            },
            "type": "scatter3d"
           }
          ],
          "scattercarpet": [
           {
            "marker": {
             "colorbar": {
              "outlinewidth": 0,
              "ticks": ""
             }
            },
            "type": "scattercarpet"
           }
          ],
          "scattergeo": [
           {
            "marker": {
             "colorbar": {
              "outlinewidth": 0,
              "ticks": ""
             }
            },
            "type": "scattergeo"
           }
          ],
          "scattergl": [
           {
            "marker": {
             "colorbar": {
              "outlinewidth": 0,
              "ticks": ""
             }
            },
            "type": "scattergl"
           }
          ],
          "scattermapbox": [
           {
            "marker": {
             "colorbar": {
              "outlinewidth": 0,
              "ticks": ""
             }
            },
            "type": "scattermapbox"
           }
          ],
          "scatterpolar": [
           {
            "marker": {
             "colorbar": {
              "outlinewidth": 0,
              "ticks": ""
             }
            },
            "type": "scatterpolar"
           }
          ],
          "scatterpolargl": [
           {
            "marker": {
             "colorbar": {
              "outlinewidth": 0,
              "ticks": ""
             }
            },
            "type": "scatterpolargl"
           }
          ],
          "scatterternary": [
           {
            "marker": {
             "colorbar": {
              "outlinewidth": 0,
              "ticks": ""
             }
            },
            "type": "scatterternary"
           }
          ],
          "surface": [
           {
            "colorbar": {
             "outlinewidth": 0,
             "ticks": ""
            },
            "colorscale": [
             [
              0,
              "#0d0887"
             ],
             [
              0.1111111111111111,
              "#46039f"
             ],
             [
              0.2222222222222222,
              "#7201a8"
             ],
             [
              0.3333333333333333,
              "#9c179e"
             ],
             [
              0.4444444444444444,
              "#bd3786"
             ],
             [
              0.5555555555555556,
              "#d8576b"
             ],
             [
              0.6666666666666666,
              "#ed7953"
             ],
             [
              0.7777777777777778,
              "#fb9f3a"
             ],
             [
              0.8888888888888888,
              "#fdca26"
             ],
             [
              1,
              "#f0f921"
             ]
            ],
            "type": "surface"
           }
          ],
          "table": [
           {
            "cells": {
             "fill": {
              "color": "#EBF0F8"
             },
             "line": {
              "color": "white"
             }
            },
            "header": {
             "fill": {
              "color": "#C8D4E3"
             },
             "line": {
              "color": "white"
             }
            },
            "type": "table"
           }
          ]
         },
         "layout": {
          "annotationdefaults": {
           "arrowcolor": "#2a3f5f",
           "arrowhead": 0,
           "arrowwidth": 1
          },
          "autotypenumbers": "strict",
          "coloraxis": {
           "colorbar": {
            "outlinewidth": 0,
            "ticks": ""
           }
          },
          "colorscale": {
           "diverging": [
            [
             0,
             "#8e0152"
            ],
            [
             0.1,
             "#c51b7d"
            ],
            [
             0.2,
             "#de77ae"
            ],
            [
             0.3,
             "#f1b6da"
            ],
            [
             0.4,
             "#fde0ef"
            ],
            [
             0.5,
             "#f7f7f7"
            ],
            [
             0.6,
             "#e6f5d0"
            ],
            [
             0.7,
             "#b8e186"
            ],
            [
             0.8,
             "#7fbc41"
            ],
            [
             0.9,
             "#4d9221"
            ],
            [
             1,
             "#276419"
            ]
           ],
           "sequential": [
            [
             0,
             "#0d0887"
            ],
            [
             0.1111111111111111,
             "#46039f"
            ],
            [
             0.2222222222222222,
             "#7201a8"
            ],
            [
             0.3333333333333333,
             "#9c179e"
            ],
            [
             0.4444444444444444,
             "#bd3786"
            ],
            [
             0.5555555555555556,
             "#d8576b"
            ],
            [
             0.6666666666666666,
             "#ed7953"
            ],
            [
             0.7777777777777778,
             "#fb9f3a"
            ],
            [
             0.8888888888888888,
             "#fdca26"
            ],
            [
             1,
             "#f0f921"
            ]
           ],
           "sequentialminus": [
            [
             0,
             "#0d0887"
            ],
            [
             0.1111111111111111,
             "#46039f"
            ],
            [
             0.2222222222222222,
             "#7201a8"
            ],
            [
             0.3333333333333333,
             "#9c179e"
            ],
            [
             0.4444444444444444,
             "#bd3786"
            ],
            [
             0.5555555555555556,
             "#d8576b"
            ],
            [
             0.6666666666666666,
             "#ed7953"
            ],
            [
             0.7777777777777778,
             "#fb9f3a"
            ],
            [
             0.8888888888888888,
             "#fdca26"
            ],
            [
             1,
             "#f0f921"
            ]
           ]
          },
          "colorway": [
           "#636efa",
           "#EF553B",
           "#00cc96",
           "#ab63fa",
           "#FFA15A",
           "#19d3f3",
           "#FF6692",
           "#B6E880",
           "#FF97FF",
           "#FECB52"
          ],
          "font": {
           "color": "#2a3f5f"
          },
          "geo": {
           "bgcolor": "white",
           "lakecolor": "white",
           "landcolor": "#E5ECF6",
           "showlakes": true,
           "showland": true,
           "subunitcolor": "white"
          },
          "hoverlabel": {
           "align": "left"
          },
          "hovermode": "closest",
          "mapbox": {
           "style": "light"
          },
          "paper_bgcolor": "white",
          "plot_bgcolor": "#E5ECF6",
          "polar": {
           "angularaxis": {
            "gridcolor": "white",
            "linecolor": "white",
            "ticks": ""
           },
           "bgcolor": "#E5ECF6",
           "radialaxis": {
            "gridcolor": "white",
            "linecolor": "white",
            "ticks": ""
           }
          },
          "scene": {
           "xaxis": {
            "backgroundcolor": "#E5ECF6",
            "gridcolor": "white",
            "gridwidth": 2,
            "linecolor": "white",
            "showbackground": true,
            "ticks": "",
            "zerolinecolor": "white"
           },
           "yaxis": {
            "backgroundcolor": "#E5ECF6",
            "gridcolor": "white",
            "gridwidth": 2,
            "linecolor": "white",
            "showbackground": true,
            "ticks": "",
            "zerolinecolor": "white"
           },
           "zaxis": {
            "backgroundcolor": "#E5ECF6",
            "gridcolor": "white",
            "gridwidth": 2,
            "linecolor": "white",
            "showbackground": true,
            "ticks": "",
            "zerolinecolor": "white"
           }
          },
          "shapedefaults": {
           "line": {
            "color": "#2a3f5f"
           }
          },
          "ternary": {
           "aaxis": {
            "gridcolor": "white",
            "linecolor": "white",
            "ticks": ""
           },
           "baxis": {
            "gridcolor": "white",
            "linecolor": "white",
            "ticks": ""
           },
           "bgcolor": "#E5ECF6",
           "caxis": {
            "gridcolor": "white",
            "linecolor": "white",
            "ticks": ""
           }
          },
          "title": {
           "x": 0.05
          },
          "xaxis": {
           "automargin": true,
           "gridcolor": "white",
           "linecolor": "white",
           "ticks": "",
           "title": {
            "standoff": 15
           },
           "zerolinecolor": "white",
           "zerolinewidth": 2
          },
          "yaxis": {
           "automargin": true,
           "gridcolor": "white",
           "linecolor": "white",
           "ticks": "",
           "title": {
            "standoff": 15
           },
           "zerolinecolor": "white",
           "zerolinewidth": 2
          }
         }
        },
        "title": {
         "text": "Distribution of Total Fat (g)"
        },
        "xaxis": {
         "anchor": "y",
         "domain": [
          0,
          1
         ],
         "title": {
          "text": "total fat (g)"
         }
        },
        "yaxis": {
         "anchor": "x",
         "domain": [
          0,
          1
         ],
         "title": {
          "text": "count"
         }
        }
       }
      },
      "text/html": [
       "<div>                            <div id=\"162c7502-9b10-487d-85da-5930442dc87f\" class=\"plotly-graph-div\" style=\"height:525px; width:100%;\"></div>            <script type=\"text/javascript\">                require([\"plotly\"], function(Plotly) {                    window.PLOTLYENV=window.PLOTLYENV || {};                                    if (document.getElementById(\"162c7502-9b10-487d-85da-5930442dc87f\")) {                    Plotly.newPlot(                        \"162c7502-9b10-487d-85da-5930442dc87f\",                        [{\"alignmentgroup\":\"True\",\"bingroup\":\"x\",\"hovertemplate\":\"total fat (g)=%{x}\\u003cbr\\u003ecount=%{y}\\u003cextra\\u003e\\u003c\\u002fextra\\u003e\",\"legendgroup\":\"\",\"marker\":{\"color\":\"#636efa\",\"pattern\":{\"shape\":\"\"}},\"name\":\"\",\"nbinsx\":50,\"offsetgroup\":\"\",\"orientation\":\"v\",\"showlegend\":false,\"x\":[\"13.0\",\"8.0\",\"23.0\",\"28.0\",\"23.0\",\"23.0\",\"26.0\",\"30.0\",\"20.0\",\"25.0\",\"27.0\",\"31.0\",\"33.0\",\"37.0\",\"27.0\",\"32.0\",\"20.0\",\"24.0\",\"32.0\",\"21.0\",\"15.0\",\"22.0\",\"31.0\",\"26.0\",\"31.0\",\"25.0\",\"35.0\",\"48.0\",\"52.0\",\"37.0\",\"41.0\",\"56.0\",\"60.0\",\"46.0\",\"50.0\",\"9.0\",\"24.0\",\"16.0\",\"9.0\",\"19.0\",\"4.0\",\"4.0\",\"27.0\",\"26.0\",\"29.0\",\"31.0\",\"27.0\",\"43.0\",\"8.0\",\"11.0\",\"21.0\",\"40.0\",\"17.0\",\"22.0\",\"22.0\",\"23.0\",\"26.0\",\"22.0\",\"9.0\",\"33.0\",\"20.0\",\"28.0\",\"15.0\",\"38.0\",\"25.0\",\"19.0\",\"16.0\",\"24.0\",\"21.0\",\"16.0\",\"32.0\",\"19.0\",\"31.0\",\"18.0\",\"33.0\",\"20.0\",\"23.0\",\"10.0\",\"12.0\",\"18.0\",\"30.0\",\"59.0\",\"118.0\",\"19.0\",\"7.0\",\"21.0\",\"8.0\",\"4.5\",\"22.0\",\"8.0\",\"15.0\",\"8.0\",\"15.0\",\"8.0\",\"20.0\",\"13.0\",\"11.0\",\"16.0\",\"24.0\",\"5.0\",\"0.0\",\"0.0\",\"2.0\",\"13.0\",\"8.0\",\"6.0\",\"1.5\",\"9.0\",\"8.0\",\"6.0\",\"0.0\",\"0.0\",\"0.0\",\"0.0\",\"0.0\",\"0.0\",\"0.0\",\"0.0\",\"0.0\",\"0.0\",\"0.0\",\"0.0\",\"0.0\",\"0.0\",\"0.0\",\"0.0\",\"0.0\",\"0.0\",\"0.0\",\"0.0\",\"2.5\",\"0.0\",\"0.0\",\"0.0\",\"0.0\",\"0.0\",\"0.0\",\"0.0\",\"0.0\",\"0.0\",\"0.0\",\"0.0\",\"0.0\",\"0.0\",\"0.0\",\"0.0\",\"0.0\",\"0.0\",\"9.0\",\"10.0\",\"14.0\",\"9.0\",\"10.0\",\"14.0\",\"9.0\",\"10.0\",\"14.0\",\"9.0\",\"10.0\",\"14.0\",\"9.0\",\"10.0\",\"14.0\",\"0.0\",\"0.0\",\"0.5\",\"0.0\",\"0.0\",\"0.5\",\"0.0\",\"0.0\",\"0.5\",\"0.0\",\"0.0\",\"0.5\",\"0.0\",\"0.0\",\"0.5\",\"11.0\",\"14.0\",\"17.0\",\"3.5\",\"3.5\",\"4.0\",\"11.0\",\"14.0\",\"17.0\",\"3.5\",\"3.5\",\"3.5\",\"13.0\",\"16.0\",\"20.0\",\"3.5\",\"3.5\",\"3.5\",\"4.5\",\"7.0\",\"9.0\",\"4.5\",\"7.0\",\"9.0\",\"4.5\",\"7.0\",\"9.0\",\"4.5\",\"7.0\",\"9.0\",\"4.5\",\"7.0\",\"9.0\",\"11.0\",\"13.0\",\"16.0\",\"5.0\",\"5.0\",\"6.0\",\"11.0\",\"13.0\",\"16.0\",\"5.0\",\"5.0\",\"6.0\",\"18.0\",\"22.0\",\"26.0\",\"19.0\",\"23.0\",\"27.0\",\"23.0\",\"26.0\",\"31.0\",\"0.5\",\"1.0\",\"1.0\",\"0.5\",\"1.0\",\"1.0\",\"0.5\",\"1.0\",\"1.0\",\"15.0\",\"19.0\",\"23.0\",\"16.0\",\"20.0\",\"24.0\",\"16.0\",\"20.0\",\"23.0\",\"19.0\",\"23.0\",\"23.0\",\"33.0\",\"15.0\",\"17.0\",\"23.0\",\"11.0\",\"32.0\",\"16.0\",\"31.0\",\"4.0\",\"26.0\",\"7.0\",\"5.0\",\"9.0\",\"25.0\",\"12.0\",\"23.0\",\"17.0\",\"18.0\",\"4.5\",\"14.0\",\"7.0\",\"10.0\",\"27.0\",\"25.0\",\"35.0\",\"3.5\",\"30.0\",\"4.5\",\"6.0\",\"24.0\",\"10.0\",\"4.0\",\"4.0\",\"27.0\",\"3.0\",\"45.0\",\"52.0\",\"2.0\",\"30.0\",\"3.0\",\"33.0\",\"11.0\",\"15.0\",\"16.0\",\"2.5\",\"3.5\",\"5.0\",\"53.0\",\"23.0\",\"9.0\",\"26.0\",\"3.0\",\"3.0\",\"24.0\",\"2.0\",\"1.0\",\"20.0\",\"16.0\",\"15.0\",\"18.0\",\"6.0\",\"6.0\",\"10.0\",\"10.0\",\"10.0\",\"8.0\",\"9.0\",\"8.0\",\"7.0\",\"9.0\",\"11.0\",\"12.0\",\"11.0\",\"65.0\",\"12.0\",\"78.0\",\"33.0\",\"27.0\",\"35.0\",\"37.0\",\"39.0\",\"31.0\",\"11.0\",\"13.0\",\"16.0\",\"30.0\",\"52.0\",\"12.0\",\"12.0\",\"54.0\",\"10.0\",\"37.0\",\"8.0\",\"2.5\",\"2.0\",\"1.5\",\"4.0\",\"2.5\",\"2.0\",\"4.5\",\"5.0\",\"1.0\",\"1.5\",\"5.0\",\"2.5\",\"3.0\",\"8.0\",\"8.0\",\"3.5\",\"4.5\",\"4.5\",\"4.0\",\"4.0\",\"3.0\",\"4.5\",\"6.0\",\"5.0\",\"7.0\",\"7.0\",\"0.0\",\"5.0\",\"5.0\",\"8.0\",\"0.0\",\"11.0\",\"9.0\",\"1.0\",\"3.5\",\"0.0\",\"0.5\",\"0.0\",\"0.0\",\"0.0\",\"0.0\",\"0.0\",\"0.0\",\"0.0\",\"0.0\",\"0.0\",\"0.0\",\"6.0\",\"0.0\",\"0.1\",\"0.1\",\"0.1\",\"0.1\",\"0.1\",\"3.5\",\"2.5\",\"0.2\",\"6\",\"4.5\",\"0.3\",\"7\",\"5\",\"0.4\",\"9\",\"7\",\"1.5\",\"4\",\"3.5\",\"2\",\"6\",\"5\",\"2.5\",\"8\",\"7\",\"3\",\"11\",\"9\",\"0.1\",\"3.5\",\"2.5\",\"0.2\",\"5\",\"4\",\"0.3\",\"6\",\"5\",\"0.3\",\"9\",\"7\",\"0\",\"0\",\"0\",\"0\",\"0.1\",\"3\",\"1.5\",\"0.1\",\"3.5\",\"3\",\"0.2\",\"4\",\"3.5\",\"0.2\",\"6\",\"4.5\",\"0\",\"0\",\"0.1\",\"0.2\",\"0.3\",\"0.3\",\"1\",\"4\",\"3\",\"1\",\"5\",\"4.5\",\"1\",\"7\",\"5\",\"1\",\"8\",\"7\",\"3\",\"6\",\"5\",\"4.5\",\"9\",\"8\",\"6\",\"11\",\"10\",\"7\",\"15\",\"13\",\"1.5\",\"4.5\",\"3.5\",\"2\",\"7\",\"6\",\"2.5\",\"9\",\"7\",\"3\",\"11\",\"9\",\"0\",\"0\",\"0\",\"0\",\"0\",\"0\",\"0\",\"0\",\"0.1\",\"2\",\"1.5\",\"0.2\",\"3.5\",\"2.5\",\"0.2\",\"4.5\",\"3.5\",\"0.3\",\"6\",\"4.5\",\"0.2\",\"4\",\"3\",\"0.4\",\"6\",\"4.5\",\"0.5\",\"8\",\"6\",\"0.5\",\"10\",\"8\",\"0.1\",\"2\",\"1.5\",\"0.1\",\"3\",\"2.5\",\"0.2\",\"4\",\"3.5\",\"0.2\",\"5\",\"4\",\"0.1\",\"2\",\"1.5\",\"0.1\",\"3\",\"2.5\",\"0.2\",\"4\",\"3.5\",\"0.2\",\"5\",\"4\",\"0\",\"0.1\",\"0.1\",\"0.1\",\"1\",\"1\",\"0.1\",\"1.5\",\"1\",\"0.1\",\"2\",\"1.5\",\"0\",\"0\",\"0\",\"0\",\"0\",\"0\",\"2.5\",\"5\",\"4.5\",\"1\",\"1.5\",\"1.5\",\"1\",\"2\",\"2\",\"0.1\",\"2.5\",\"1.5\",\"0.1\",\"3\",\"1.5\",\"0.1\",\"5\",\"2.5\",\"0.5\",\"3\",\"2\",\"1\",\"4\",\"2.5\",\"1\",\"6\",\"3\",\"0.1\",\"2.5\",\"1.5\",\"0.1\",\"3.5\",\"1.5\",\"0.1\",\"5\",\"2.5\",\"3\",\"5\",\"4\",\"4\",\"7\",\"6\",\"5\",\"10\",\"8\",\"0.1\",\"0.1\",\"0.1\",\"0.5\",\"1\",\"1\",\"0.1\",\"0.1\",\"0.1\",\"3\",\"4\",\"5\",\"0.1\",\"3\",\"1.5\",\"0.2\",\"4\",\"2\",\"0.2\",\"6\",\"3 2\",\"0.1\",\"3.5\",\"1.5\",\"0.1\",\"5.0\",\"6.0\",\"22.0\",\"23.0\",\"22.0\",\"16.0\",\"17.0\",\"12.0\",\"22.0\",\"16.0\",\"5.0\",\"15.0\",\"21.0\",\"18.0\",\"22.0\",\"24.0\",\"15.0\",\"1.0\",\"16.0\",\"23.0\",\"15.0\",\"23.0\",\"24.0\",\"28.0\",\"23.0\",\"3.5\",\"3.5\",\"3.0\",\"8.0\",\"5.0\",\"14.0\",\"20.0\",\"10.0\",\"4.0\",\"12.0\",\"18.0\",\"27.0\",\"21.0\",\"18.0\",\"4.5\",\"1.5\",\"15.0\",\"17.0\",\"18.0\",\"9.0\",\"17.0\",\"17.0\",\"6.0\",\"9.0\",\"8.0\",\"13.0\",\"18.0\",\"21.0\",\"14.0\",\"25.0\",\"14.0\",\"18.0\",\"12.0\",\"23.0\",\"29.0\",\"13.0\",\"37.0\",\"8.0\",\"7.0\",\"26.0\",\"32.0\",\"29.0\",\"18.0\",\"28.0\",\"29.0\",\"23.0\",\"16.0\",\"27.0\",\"22.0\",\"24.0\",\"26.0\",\"12.0\",\"9.0\",\"8.0\",\"9.0\",\"9.0\",\"19.0\",\"13.0\",\"2.5\",\"27.0\",\"17.0\",\"2.5\",\"6.0\",\"28.0\",\"18.0\",\"23.0\",\"22.0\",\"7.0\",\"30.0\",\"10.0\",\"19.0\",\"17.0\",\"27.0\",\"25.0\",\"27.0\",\"17.0\",\"20.0\",\"29.0\",\"18.0\",\"21.0\",\"23.0\",\"2.5\",\"2.5\",\"14.0\",\"18.0\",\"13.0\",\"8.0\",\"0.0\"],\"xaxis\":\"x\",\"yaxis\":\"y\",\"type\":\"histogram\"}],                        {\"template\":{\"data\":{\"histogram2dcontour\":[{\"type\":\"histogram2dcontour\",\"colorbar\":{\"outlinewidth\":0,\"ticks\":\"\"},\"colorscale\":[[0.0,\"#0d0887\"],[0.1111111111111111,\"#46039f\"],[0.2222222222222222,\"#7201a8\"],[0.3333333333333333,\"#9c179e\"],[0.4444444444444444,\"#bd3786\"],[0.5555555555555556,\"#d8576b\"],[0.6666666666666666,\"#ed7953\"],[0.7777777777777778,\"#fb9f3a\"],[0.8888888888888888,\"#fdca26\"],[1.0,\"#f0f921\"]]}],\"choropleth\":[{\"type\":\"choropleth\",\"colorbar\":{\"outlinewidth\":0,\"ticks\":\"\"}}],\"histogram2d\":[{\"type\":\"histogram2d\",\"colorbar\":{\"outlinewidth\":0,\"ticks\":\"\"},\"colorscale\":[[0.0,\"#0d0887\"],[0.1111111111111111,\"#46039f\"],[0.2222222222222222,\"#7201a8\"],[0.3333333333333333,\"#9c179e\"],[0.4444444444444444,\"#bd3786\"],[0.5555555555555556,\"#d8576b\"],[0.6666666666666666,\"#ed7953\"],[0.7777777777777778,\"#fb9f3a\"],[0.8888888888888888,\"#fdca26\"],[1.0,\"#f0f921\"]]}],\"heatmap\":[{\"type\":\"heatmap\",\"colorbar\":{\"outlinewidth\":0,\"ticks\":\"\"},\"colorscale\":[[0.0,\"#0d0887\"],[0.1111111111111111,\"#46039f\"],[0.2222222222222222,\"#7201a8\"],[0.3333333333333333,\"#9c179e\"],[0.4444444444444444,\"#bd3786\"],[0.5555555555555556,\"#d8576b\"],[0.6666666666666666,\"#ed7953\"],[0.7777777777777778,\"#fb9f3a\"],[0.8888888888888888,\"#fdca26\"],[1.0,\"#f0f921\"]]}],\"heatmapgl\":[{\"type\":\"heatmapgl\",\"colorbar\":{\"outlinewidth\":0,\"ticks\":\"\"},\"colorscale\":[[0.0,\"#0d0887\"],[0.1111111111111111,\"#46039f\"],[0.2222222222222222,\"#7201a8\"],[0.3333333333333333,\"#9c179e\"],[0.4444444444444444,\"#bd3786\"],[0.5555555555555556,\"#d8576b\"],[0.6666666666666666,\"#ed7953\"],[0.7777777777777778,\"#fb9f3a\"],[0.8888888888888888,\"#fdca26\"],[1.0,\"#f0f921\"]]}],\"contourcarpet\":[{\"type\":\"contourcarpet\",\"colorbar\":{\"outlinewidth\":0,\"ticks\":\"\"}}],\"contour\":[{\"type\":\"contour\",\"colorbar\":{\"outlinewidth\":0,\"ticks\":\"\"},\"colorscale\":[[0.0,\"#0d0887\"],[0.1111111111111111,\"#46039f\"],[0.2222222222222222,\"#7201a8\"],[0.3333333333333333,\"#9c179e\"],[0.4444444444444444,\"#bd3786\"],[0.5555555555555556,\"#d8576b\"],[0.6666666666666666,\"#ed7953\"],[0.7777777777777778,\"#fb9f3a\"],[0.8888888888888888,\"#fdca26\"],[1.0,\"#f0f921\"]]}],\"surface\":[{\"type\":\"surface\",\"colorbar\":{\"outlinewidth\":0,\"ticks\":\"\"},\"colorscale\":[[0.0,\"#0d0887\"],[0.1111111111111111,\"#46039f\"],[0.2222222222222222,\"#7201a8\"],[0.3333333333333333,\"#9c179e\"],[0.4444444444444444,\"#bd3786\"],[0.5555555555555556,\"#d8576b\"],[0.6666666666666666,\"#ed7953\"],[0.7777777777777778,\"#fb9f3a\"],[0.8888888888888888,\"#fdca26\"],[1.0,\"#f0f921\"]]}],\"mesh3d\":[{\"type\":\"mesh3d\",\"colorbar\":{\"outlinewidth\":0,\"ticks\":\"\"}}],\"scatter\":[{\"fillpattern\":{\"fillmode\":\"overlay\",\"size\":10,\"solidity\":0.2},\"type\":\"scatter\"}],\"parcoords\":[{\"type\":\"parcoords\",\"line\":{\"colorbar\":{\"outlinewidth\":0,\"ticks\":\"\"}}}],\"scatterpolargl\":[{\"type\":\"scatterpolargl\",\"marker\":{\"colorbar\":{\"outlinewidth\":0,\"ticks\":\"\"}}}],\"bar\":[{\"error_x\":{\"color\":\"#2a3f5f\"},\"error_y\":{\"color\":\"#2a3f5f\"},\"marker\":{\"line\":{\"color\":\"#E5ECF6\",\"width\":0.5},\"pattern\":{\"fillmode\":\"overlay\",\"size\":10,\"solidity\":0.2}},\"type\":\"bar\"}],\"scattergeo\":[{\"type\":\"scattergeo\",\"marker\":{\"colorbar\":{\"outlinewidth\":0,\"ticks\":\"\"}}}],\"scatterpolar\":[{\"type\":\"scatterpolar\",\"marker\":{\"colorbar\":{\"outlinewidth\":0,\"ticks\":\"\"}}}],\"histogram\":[{\"marker\":{\"pattern\":{\"fillmode\":\"overlay\",\"size\":10,\"solidity\":0.2}},\"type\":\"histogram\"}],\"scattergl\":[{\"type\":\"scattergl\",\"marker\":{\"colorbar\":{\"outlinewidth\":0,\"ticks\":\"\"}}}],\"scatter3d\":[{\"type\":\"scatter3d\",\"line\":{\"colorbar\":{\"outlinewidth\":0,\"ticks\":\"\"}},\"marker\":{\"colorbar\":{\"outlinewidth\":0,\"ticks\":\"\"}}}],\"scattermapbox\":[{\"type\":\"scattermapbox\",\"marker\":{\"colorbar\":{\"outlinewidth\":0,\"ticks\":\"\"}}}],\"scatterternary\":[{\"type\":\"scatterternary\",\"marker\":{\"colorbar\":{\"outlinewidth\":0,\"ticks\":\"\"}}}],\"scattercarpet\":[{\"type\":\"scattercarpet\",\"marker\":{\"colorbar\":{\"outlinewidth\":0,\"ticks\":\"\"}}}],\"carpet\":[{\"aaxis\":{\"endlinecolor\":\"#2a3f5f\",\"gridcolor\":\"white\",\"linecolor\":\"white\",\"minorgridcolor\":\"white\",\"startlinecolor\":\"#2a3f5f\"},\"baxis\":{\"endlinecolor\":\"#2a3f5f\",\"gridcolor\":\"white\",\"linecolor\":\"white\",\"minorgridcolor\":\"white\",\"startlinecolor\":\"#2a3f5f\"},\"type\":\"carpet\"}],\"table\":[{\"cells\":{\"fill\":{\"color\":\"#EBF0F8\"},\"line\":{\"color\":\"white\"}},\"header\":{\"fill\":{\"color\":\"#C8D4E3\"},\"line\":{\"color\":\"white\"}},\"type\":\"table\"}],\"barpolar\":[{\"marker\":{\"line\":{\"color\":\"#E5ECF6\",\"width\":0.5},\"pattern\":{\"fillmode\":\"overlay\",\"size\":10,\"solidity\":0.2}},\"type\":\"barpolar\"}],\"pie\":[{\"automargin\":true,\"type\":\"pie\"}]},\"layout\":{\"autotypenumbers\":\"strict\",\"colorway\":[\"#636efa\",\"#EF553B\",\"#00cc96\",\"#ab63fa\",\"#FFA15A\",\"#19d3f3\",\"#FF6692\",\"#B6E880\",\"#FF97FF\",\"#FECB52\"],\"font\":{\"color\":\"#2a3f5f\"},\"hovermode\":\"closest\",\"hoverlabel\":{\"align\":\"left\"},\"paper_bgcolor\":\"white\",\"plot_bgcolor\":\"#E5ECF6\",\"polar\":{\"bgcolor\":\"#E5ECF6\",\"angularaxis\":{\"gridcolor\":\"white\",\"linecolor\":\"white\",\"ticks\":\"\"},\"radialaxis\":{\"gridcolor\":\"white\",\"linecolor\":\"white\",\"ticks\":\"\"}},\"ternary\":{\"bgcolor\":\"#E5ECF6\",\"aaxis\":{\"gridcolor\":\"white\",\"linecolor\":\"white\",\"ticks\":\"\"},\"baxis\":{\"gridcolor\":\"white\",\"linecolor\":\"white\",\"ticks\":\"\"},\"caxis\":{\"gridcolor\":\"white\",\"linecolor\":\"white\",\"ticks\":\"\"}},\"coloraxis\":{\"colorbar\":{\"outlinewidth\":0,\"ticks\":\"\"}},\"colorscale\":{\"sequential\":[[0.0,\"#0d0887\"],[0.1111111111111111,\"#46039f\"],[0.2222222222222222,\"#7201a8\"],[0.3333333333333333,\"#9c179e\"],[0.4444444444444444,\"#bd3786\"],[0.5555555555555556,\"#d8576b\"],[0.6666666666666666,\"#ed7953\"],[0.7777777777777778,\"#fb9f3a\"],[0.8888888888888888,\"#fdca26\"],[1.0,\"#f0f921\"]],\"sequentialminus\":[[0.0,\"#0d0887\"],[0.1111111111111111,\"#46039f\"],[0.2222222222222222,\"#7201a8\"],[0.3333333333333333,\"#9c179e\"],[0.4444444444444444,\"#bd3786\"],[0.5555555555555556,\"#d8576b\"],[0.6666666666666666,\"#ed7953\"],[0.7777777777777778,\"#fb9f3a\"],[0.8888888888888888,\"#fdca26\"],[1.0,\"#f0f921\"]],\"diverging\":[[0,\"#8e0152\"],[0.1,\"#c51b7d\"],[0.2,\"#de77ae\"],[0.3,\"#f1b6da\"],[0.4,\"#fde0ef\"],[0.5,\"#f7f7f7\"],[0.6,\"#e6f5d0\"],[0.7,\"#b8e186\"],[0.8,\"#7fbc41\"],[0.9,\"#4d9221\"],[1,\"#276419\"]]},\"xaxis\":{\"gridcolor\":\"white\",\"linecolor\":\"white\",\"ticks\":\"\",\"title\":{\"standoff\":15},\"zerolinecolor\":\"white\",\"automargin\":true,\"zerolinewidth\":2},\"yaxis\":{\"gridcolor\":\"white\",\"linecolor\":\"white\",\"ticks\":\"\",\"title\":{\"standoff\":15},\"zerolinecolor\":\"white\",\"automargin\":true,\"zerolinewidth\":2},\"scene\":{\"xaxis\":{\"backgroundcolor\":\"#E5ECF6\",\"gridcolor\":\"white\",\"linecolor\":\"white\",\"showbackground\":true,\"ticks\":\"\",\"zerolinecolor\":\"white\",\"gridwidth\":2},\"yaxis\":{\"backgroundcolor\":\"#E5ECF6\",\"gridcolor\":\"white\",\"linecolor\":\"white\",\"showbackground\":true,\"ticks\":\"\",\"zerolinecolor\":\"white\",\"gridwidth\":2},\"zaxis\":{\"backgroundcolor\":\"#E5ECF6\",\"gridcolor\":\"white\",\"linecolor\":\"white\",\"showbackground\":true,\"ticks\":\"\",\"zerolinecolor\":\"white\",\"gridwidth\":2}},\"shapedefaults\":{\"line\":{\"color\":\"#2a3f5f\"}},\"annotationdefaults\":{\"arrowcolor\":\"#2a3f5f\",\"arrowhead\":0,\"arrowwidth\":1},\"geo\":{\"bgcolor\":\"white\",\"landcolor\":\"#E5ECF6\",\"subunitcolor\":\"white\",\"showland\":true,\"showlakes\":true,\"lakecolor\":\"white\"},\"title\":{\"x\":0.05},\"mapbox\":{\"style\":\"light\"}}},\"xaxis\":{\"anchor\":\"y\",\"domain\":[0.0,1.0],\"title\":{\"text\":\"total fat (g)\"}},\"yaxis\":{\"anchor\":\"x\",\"domain\":[0.0,1.0],\"title\":{\"text\":\"count\"}},\"legend\":{\"tracegroupgap\":0},\"title\":{\"text\":\"Distribution of Total Fat (g)\"},\"barmode\":\"relative\"},                        {\"responsive\": true}                    ).then(function(){\n",
       "                            \n",
       "var gd = document.getElementById('162c7502-9b10-487d-85da-5930442dc87f');\n",
       "var x = new MutationObserver(function (mutations, observer) {{\n",
       "        var display = window.getComputedStyle(gd).display;\n",
       "        if (!display || display === 'none') {{\n",
       "            console.log([gd, 'removed!']);\n",
       "            Plotly.purge(gd);\n",
       "            observer.disconnect();\n",
       "        }}\n",
       "}});\n",
       "\n",
       "// Listen for the removal of the full notebook cells\n",
       "var notebookContainer = gd.closest('#notebook-container');\n",
       "if (notebookContainer) {{\n",
       "    x.observe(notebookContainer, {childList: true});\n",
       "}}\n",
       "\n",
       "// Listen for the clearing of the current output cell\n",
       "var outputEl = gd.closest('.output');\n",
       "if (outputEl) {{\n",
       "    x.observe(outputEl, {childList: true});\n",
       "}}\n",
       "\n",
       "                        })                };                });            </script>        </div>"
      ]
     },
     "metadata": {},
     "output_type": "display_data"
    },
    {
     "data": {
      "application/vnd.plotly.v1+json": {
       "config": {
        "plotlyServerURL": "https://plot.ly"
       },
       "data": [
        {
         "alignmentgroup": "True",
         "bingroup": "x",
         "hovertemplate": "sugars (g)=%{x}<br>count=%{y}<extra></extra>",
         "legendgroup": "",
         "marker": {
          "color": "#636efa",
          "pattern": {
           "shape": ""
          }
         },
         "name": "",
         "nbinsx": 50,
         "offsetgroup": "",
         "orientation": "v",
         "showlegend": false,
         "type": "histogram",
         "x": [
          3,
          3,
          2,
          2,
          2,
          3,
          3,
          4,
          3,
          4,
          2,
          3,
          2,
          3,
          3,
          3,
          3,
          4,
          3,
          15,
          16,
          15,
          15,
          15,
          7,
          8,
          7,
          3,
          3,
          3,
          4,
          17,
          17,
          17,
          18,
          14,
          14,
          2,
          0,
          32,
          32,
          18,
          9,
          10,
          12,
          10,
          9,
          10,
          6,
          7,
          7,
          14,
          7,
          7,
          7,
          6,
          11,
          10,
          8,
          11,
          9,
          11,
          9,
          16,
          14,
          7,
          5,
          6,
          6,
          5,
          7,
          6,
          8,
          6,
          12,
          10,
          14,
          12,
          0,
          0,
          0,
          0,
          1,
          5,
          4,
          5,
          4,
          6,
          12,
          10,
          8,
          7,
          3,
          2,
          3,
          2,
          0,
          0,
          0,
          0,
          2,
          3,
          23,
          13,
          15,
          13,
          6,
          48,
          43,
          45,
          39,
          55,
          76,
          28,
          0,
          0,
          0,
          0,
          35,
          51,
          70,
          26,
          0,
          0,
          0,
          0,
          37,
          54,
          74,
          27,
          12,
          22,
          19,
          30,
          39,
          58,
          0,
          0,
          0,
          0,
          0,
          36,
          45,
          54,
          27,
          0,
          0,
          0,
          12,
          15,
          20,
          38,
          48,
          59,
          38,
          47,
          58,
          36,
          45,
          56,
          12,
          15,
          20,
          13,
          16,
          21,
          39,
          48,
          59,
          38,
          48,
          59,
          37,
          46,
          56,
          13,
          16,
          21,
          42,
          53,
          63,
          43,
          53,
          64,
          40,
          50,
          60,
          41,
          51,
          61,
          45,
          56,
          68,
          46,
          57,
          69,
          22,
          30,
          45,
          21,
          28,
          42,
          20,
          28,
          41,
          19,
          26,
          39,
          1,
          2,
          2,
          34,
          43,
          62,
          35,
          43,
          62,
          33,
          41,
          59,
          33,
          41,
          59,
          57,
          71,
          88,
          57,
          71,
          88,
          67,
          81,
          99,
          44,
          54,
          70,
          44,
          54,
          70,
          46,
          56,
          72,
          63,
          81,
          101,
          79,
          100,
          123,
          77,
          97,
          120,
          93,
          115,
          89,
          128,
          59,
          64,
          85,
          43,
          103,
          51,
          18,
          8,
          6,
          9,
          6,
          7,
          5,
          5,
          5,
          5,
          7,
          1,
          2,
          2,
          1,
          7,
          6,
          6,
          7,
          7,
          7,
          7,
          5,
          5,
          7,
          16,
          11,
          6,
          8,
          3,
          6,
          20,
          6,
          7,
          5,
          5,
          9,
          5,
          5,
          5,
          11,
          5,
          7,
          9,
          5,
          21,
          5,
          5,
          5,
          4,
          4,
          3,
          4,
          1,
          26,
          18,
          18,
          17,
          24,
          20,
          16,
          0,
          16,
          20,
          14,
          17,
          32,
          5,
          11,
          7,
          4,
          5,
          4,
          10,
          4,
          4,
          4,
          3,
          3,
          3,
          4,
          14,
          3,
          3,
          4,
          5,
          4,
          5,
          5,
          3,
          3,
          3,
          3,
          3,
          2,
          2,
          3,
          3,
          3,
          1,
          1,
          0,
          0,
          0,
          0,
          0,
          0,
          0,
          1,
          0,
          0,
          1,
          4,
          0,
          0,
          1,
          0,
          0,
          0,
          0,
          1,
          7,
          0,
          0,
          0,
          0,
          0,
          0,
          0,
          0,
          0,
          0,
          1,
          1,
          0,
          0,
          0,
          0,
          0,
          9,
          9,
          4,
          14,
          14,
          6,
          18,
          17,
          8,
          23,
          22,
          11,
          17,
          17,
          13,
          27,
          26,
          20,
          34,
          34,
          26,
          44,
          43,
          33,
          18,
          17,
          13,
          27,
          27,
          20,
          35,
          35,
          26,
          45,
          44,
          33,
          0,
          0,
          0,
          0,
          7,
          7,
          3,
          8,
          8,
          4,
          10,
          10,
          5,
          14,
          14,
          7,
          0,
          0,
          8,
          13,
          16,
          21,
          15,
          15,
          11,
          24,
          23,
          17,
          32,
          32,
          24,
          41,
          40,
          31,
          29,
          29,
          25,
          45,
          44,
          39,
          58,
          58,
          51,
          74,
          74,
          64,
          23,
          22,
          18,
          32,
          32,
          25,
          41,
          41,
          32,
          55,
          54,
          44,
          33,
          49,
          65,
          83,
          0,
          0,
          0,
          0,
          21,
          21,
          18,
          32,
          32,
          28,
          43,
          42,
          37,
          54,
          53,
          46,
          25,
          25,
          20,
          41,
          40,
          33,
          56,
          55,
          46,
          71,
          71,
          58,
          16,
          15,
          13,
          23,
          23,
          19,
          31,
          30,
          25,
          39,
          38,
          32,
          16,
          15,
          13,
          23,
          23,
          19,
          31,
          30,
          25,
          39,
          38,
          32,
          15,
          21,
          31,
          18,
          18,
          17,
          24,
          24,
          22,
          36,
          36,
          33,
          15,
          21,
          31,
          24,
          33,
          49,
          34,
          34,
          31,
          37,
          37,
          36,
          41,
          41,
          40,
          36,
          36,
          34,
          50,
          50,
          47,
          69,
          69,
          66,
          40,
          40,
          38,
          58,
          58,
          55,
          76,
          76,
          73,
          41,
          41,
          39,
          59,
          59,
          56,
          77,
          77,
          73,
          44,
          44,
          42,
          62,
          62,
          60,
          84,
          84,
          80,
          19,
          26,
          33,
          23,
          30,
          42,
          23,
          32,
          43,
          27,
          39,
          52,
          38,
          37,
          35,
          52,
          52,
          49,
          69,
          68,
          64,
          38,
          38,
          35,
          55,
          null,
          null,
          null,
          null,
          null,
          null,
          null,
          null,
          null,
          null,
          null,
          null,
          null,
          null,
          null,
          null,
          null,
          null,
          null,
          null,
          null,
          null,
          null,
          null,
          null,
          null,
          null,
          null,
          null,
          null,
          null,
          null,
          null,
          null,
          null,
          null,
          null,
          null,
          null,
          null,
          null,
          null,
          null,
          null,
          null,
          null,
          null,
          null,
          null,
          null,
          null,
          null,
          null,
          null,
          null,
          null,
          null,
          null,
          null,
          null,
          null,
          null,
          null,
          null,
          null,
          null,
          null,
          null,
          null,
          null,
          null,
          null,
          null,
          null,
          null,
          null,
          null,
          null,
          null,
          null,
          null,
          null,
          null,
          null,
          null,
          null,
          null,
          null,
          null,
          null,
          null,
          null,
          null,
          null,
          null,
          null,
          null,
          null,
          null,
          null,
          null,
          null,
          null,
          null,
          null,
          null,
          null,
          null,
          null,
          null,
          null,
          null,
          null
         ],
         "xaxis": "x",
         "yaxis": "y"
        }
       ],
       "layout": {
        "barmode": "relative",
        "legend": {
         "tracegroupgap": 0
        },
        "template": {
         "data": {
          "bar": [
           {
            "error_x": {
             "color": "#2a3f5f"
            },
            "error_y": {
             "color": "#2a3f5f"
            },
            "marker": {
             "line": {
              "color": "#E5ECF6",
              "width": 0.5
             },
             "pattern": {
              "fillmode": "overlay",
              "size": 10,
              "solidity": 0.2
             }
            },
            "type": "bar"
           }
          ],
          "barpolar": [
           {
            "marker": {
             "line": {
              "color": "#E5ECF6",
              "width": 0.5
             },
             "pattern": {
              "fillmode": "overlay",
              "size": 10,
              "solidity": 0.2
             }
            },
            "type": "barpolar"
           }
          ],
          "carpet": [
           {
            "aaxis": {
             "endlinecolor": "#2a3f5f",
             "gridcolor": "white",
             "linecolor": "white",
             "minorgridcolor": "white",
             "startlinecolor": "#2a3f5f"
            },
            "baxis": {
             "endlinecolor": "#2a3f5f",
             "gridcolor": "white",
             "linecolor": "white",
             "minorgridcolor": "white",
             "startlinecolor": "#2a3f5f"
            },
            "type": "carpet"
           }
          ],
          "choropleth": [
           {
            "colorbar": {
             "outlinewidth": 0,
             "ticks": ""
            },
            "type": "choropleth"
           }
          ],
          "contour": [
           {
            "colorbar": {
             "outlinewidth": 0,
             "ticks": ""
            },
            "colorscale": [
             [
              0,
              "#0d0887"
             ],
             [
              0.1111111111111111,
              "#46039f"
             ],
             [
              0.2222222222222222,
              "#7201a8"
             ],
             [
              0.3333333333333333,
              "#9c179e"
             ],
             [
              0.4444444444444444,
              "#bd3786"
             ],
             [
              0.5555555555555556,
              "#d8576b"
             ],
             [
              0.6666666666666666,
              "#ed7953"
             ],
             [
              0.7777777777777778,
              "#fb9f3a"
             ],
             [
              0.8888888888888888,
              "#fdca26"
             ],
             [
              1,
              "#f0f921"
             ]
            ],
            "type": "contour"
           }
          ],
          "contourcarpet": [
           {
            "colorbar": {
             "outlinewidth": 0,
             "ticks": ""
            },
            "type": "contourcarpet"
           }
          ],
          "heatmap": [
           {
            "colorbar": {
             "outlinewidth": 0,
             "ticks": ""
            },
            "colorscale": [
             [
              0,
              "#0d0887"
             ],
             [
              0.1111111111111111,
              "#46039f"
             ],
             [
              0.2222222222222222,
              "#7201a8"
             ],
             [
              0.3333333333333333,
              "#9c179e"
             ],
             [
              0.4444444444444444,
              "#bd3786"
             ],
             [
              0.5555555555555556,
              "#d8576b"
             ],
             [
              0.6666666666666666,
              "#ed7953"
             ],
             [
              0.7777777777777778,
              "#fb9f3a"
             ],
             [
              0.8888888888888888,
              "#fdca26"
             ],
             [
              1,
              "#f0f921"
             ]
            ],
            "type": "heatmap"
           }
          ],
          "heatmapgl": [
           {
            "colorbar": {
             "outlinewidth": 0,
             "ticks": ""
            },
            "colorscale": [
             [
              0,
              "#0d0887"
             ],
             [
              0.1111111111111111,
              "#46039f"
             ],
             [
              0.2222222222222222,
              "#7201a8"
             ],
             [
              0.3333333333333333,
              "#9c179e"
             ],
             [
              0.4444444444444444,
              "#bd3786"
             ],
             [
              0.5555555555555556,
              "#d8576b"
             ],
             [
              0.6666666666666666,
              "#ed7953"
             ],
             [
              0.7777777777777778,
              "#fb9f3a"
             ],
             [
              0.8888888888888888,
              "#fdca26"
             ],
             [
              1,
              "#f0f921"
             ]
            ],
            "type": "heatmapgl"
           }
          ],
          "histogram": [
           {
            "marker": {
             "pattern": {
              "fillmode": "overlay",
              "size": 10,
              "solidity": 0.2
             }
            },
            "type": "histogram"
           }
          ],
          "histogram2d": [
           {
            "colorbar": {
             "outlinewidth": 0,
             "ticks": ""
            },
            "colorscale": [
             [
              0,
              "#0d0887"
             ],
             [
              0.1111111111111111,
              "#46039f"
             ],
             [
              0.2222222222222222,
              "#7201a8"
             ],
             [
              0.3333333333333333,
              "#9c179e"
             ],
             [
              0.4444444444444444,
              "#bd3786"
             ],
             [
              0.5555555555555556,
              "#d8576b"
             ],
             [
              0.6666666666666666,
              "#ed7953"
             ],
             [
              0.7777777777777778,
              "#fb9f3a"
             ],
             [
              0.8888888888888888,
              "#fdca26"
             ],
             [
              1,
              "#f0f921"
             ]
            ],
            "type": "histogram2d"
           }
          ],
          "histogram2dcontour": [
           {
            "colorbar": {
             "outlinewidth": 0,
             "ticks": ""
            },
            "colorscale": [
             [
              0,
              "#0d0887"
             ],
             [
              0.1111111111111111,
              "#46039f"
             ],
             [
              0.2222222222222222,
              "#7201a8"
             ],
             [
              0.3333333333333333,
              "#9c179e"
             ],
             [
              0.4444444444444444,
              "#bd3786"
             ],
             [
              0.5555555555555556,
              "#d8576b"
             ],
             [
              0.6666666666666666,
              "#ed7953"
             ],
             [
              0.7777777777777778,
              "#fb9f3a"
             ],
             [
              0.8888888888888888,
              "#fdca26"
             ],
             [
              1,
              "#f0f921"
             ]
            ],
            "type": "histogram2dcontour"
           }
          ],
          "mesh3d": [
           {
            "colorbar": {
             "outlinewidth": 0,
             "ticks": ""
            },
            "type": "mesh3d"
           }
          ],
          "parcoords": [
           {
            "line": {
             "colorbar": {
              "outlinewidth": 0,
              "ticks": ""
             }
            },
            "type": "parcoords"
           }
          ],
          "pie": [
           {
            "automargin": true,
            "type": "pie"
           }
          ],
          "scatter": [
           {
            "fillpattern": {
             "fillmode": "overlay",
             "size": 10,
             "solidity": 0.2
            },
            "type": "scatter"
           }
          ],
          "scatter3d": [
           {
            "line": {
             "colorbar": {
              "outlinewidth": 0,
              "ticks": ""
             }
            },
            "marker": {
             "colorbar": {
              "outlinewidth": 0,
              "ticks": ""
             }
            },
            "type": "scatter3d"
           }
          ],
          "scattercarpet": [
           {
            "marker": {
             "colorbar": {
              "outlinewidth": 0,
              "ticks": ""
             }
            },
            "type": "scattercarpet"
           }
          ],
          "scattergeo": [
           {
            "marker": {
             "colorbar": {
              "outlinewidth": 0,
              "ticks": ""
             }
            },
            "type": "scattergeo"
           }
          ],
          "scattergl": [
           {
            "marker": {
             "colorbar": {
              "outlinewidth": 0,
              "ticks": ""
             }
            },
            "type": "scattergl"
           }
          ],
          "scattermapbox": [
           {
            "marker": {
             "colorbar": {
              "outlinewidth": 0,
              "ticks": ""
             }
            },
            "type": "scattermapbox"
           }
          ],
          "scatterpolar": [
           {
            "marker": {
             "colorbar": {
              "outlinewidth": 0,
              "ticks": ""
             }
            },
            "type": "scatterpolar"
           }
          ],
          "scatterpolargl": [
           {
            "marker": {
             "colorbar": {
              "outlinewidth": 0,
              "ticks": ""
             }
            },
            "type": "scatterpolargl"
           }
          ],
          "scatterternary": [
           {
            "marker": {
             "colorbar": {
              "outlinewidth": 0,
              "ticks": ""
             }
            },
            "type": "scatterternary"
           }
          ],
          "surface": [
           {
            "colorbar": {
             "outlinewidth": 0,
             "ticks": ""
            },
            "colorscale": [
             [
              0,
              "#0d0887"
             ],
             [
              0.1111111111111111,
              "#46039f"
             ],
             [
              0.2222222222222222,
              "#7201a8"
             ],
             [
              0.3333333333333333,
              "#9c179e"
             ],
             [
              0.4444444444444444,
              "#bd3786"
             ],
             [
              0.5555555555555556,
              "#d8576b"
             ],
             [
              0.6666666666666666,
              "#ed7953"
             ],
             [
              0.7777777777777778,
              "#fb9f3a"
             ],
             [
              0.8888888888888888,
              "#fdca26"
             ],
             [
              1,
              "#f0f921"
             ]
            ],
            "type": "surface"
           }
          ],
          "table": [
           {
            "cells": {
             "fill": {
              "color": "#EBF0F8"
             },
             "line": {
              "color": "white"
             }
            },
            "header": {
             "fill": {
              "color": "#C8D4E3"
             },
             "line": {
              "color": "white"
             }
            },
            "type": "table"
           }
          ]
         },
         "layout": {
          "annotationdefaults": {
           "arrowcolor": "#2a3f5f",
           "arrowhead": 0,
           "arrowwidth": 1
          },
          "autotypenumbers": "strict",
          "coloraxis": {
           "colorbar": {
            "outlinewidth": 0,
            "ticks": ""
           }
          },
          "colorscale": {
           "diverging": [
            [
             0,
             "#8e0152"
            ],
            [
             0.1,
             "#c51b7d"
            ],
            [
             0.2,
             "#de77ae"
            ],
            [
             0.3,
             "#f1b6da"
            ],
            [
             0.4,
             "#fde0ef"
            ],
            [
             0.5,
             "#f7f7f7"
            ],
            [
             0.6,
             "#e6f5d0"
            ],
            [
             0.7,
             "#b8e186"
            ],
            [
             0.8,
             "#7fbc41"
            ],
            [
             0.9,
             "#4d9221"
            ],
            [
             1,
             "#276419"
            ]
           ],
           "sequential": [
            [
             0,
             "#0d0887"
            ],
            [
             0.1111111111111111,
             "#46039f"
            ],
            [
             0.2222222222222222,
             "#7201a8"
            ],
            [
             0.3333333333333333,
             "#9c179e"
            ],
            [
             0.4444444444444444,
             "#bd3786"
            ],
            [
             0.5555555555555556,
             "#d8576b"
            ],
            [
             0.6666666666666666,
             "#ed7953"
            ],
            [
             0.7777777777777778,
             "#fb9f3a"
            ],
            [
             0.8888888888888888,
             "#fdca26"
            ],
            [
             1,
             "#f0f921"
            ]
           ],
           "sequentialminus": [
            [
             0,
             "#0d0887"
            ],
            [
             0.1111111111111111,
             "#46039f"
            ],
            [
             0.2222222222222222,
             "#7201a8"
            ],
            [
             0.3333333333333333,
             "#9c179e"
            ],
            [
             0.4444444444444444,
             "#bd3786"
            ],
            [
             0.5555555555555556,
             "#d8576b"
            ],
            [
             0.6666666666666666,
             "#ed7953"
            ],
            [
             0.7777777777777778,
             "#fb9f3a"
            ],
            [
             0.8888888888888888,
             "#fdca26"
            ],
            [
             1,
             "#f0f921"
            ]
           ]
          },
          "colorway": [
           "#636efa",
           "#EF553B",
           "#00cc96",
           "#ab63fa",
           "#FFA15A",
           "#19d3f3",
           "#FF6692",
           "#B6E880",
           "#FF97FF",
           "#FECB52"
          ],
          "font": {
           "color": "#2a3f5f"
          },
          "geo": {
           "bgcolor": "white",
           "lakecolor": "white",
           "landcolor": "#E5ECF6",
           "showlakes": true,
           "showland": true,
           "subunitcolor": "white"
          },
          "hoverlabel": {
           "align": "left"
          },
          "hovermode": "closest",
          "mapbox": {
           "style": "light"
          },
          "paper_bgcolor": "white",
          "plot_bgcolor": "#E5ECF6",
          "polar": {
           "angularaxis": {
            "gridcolor": "white",
            "linecolor": "white",
            "ticks": ""
           },
           "bgcolor": "#E5ECF6",
           "radialaxis": {
            "gridcolor": "white",
            "linecolor": "white",
            "ticks": ""
           }
          },
          "scene": {
           "xaxis": {
            "backgroundcolor": "#E5ECF6",
            "gridcolor": "white",
            "gridwidth": 2,
            "linecolor": "white",
            "showbackground": true,
            "ticks": "",
            "zerolinecolor": "white"
           },
           "yaxis": {
            "backgroundcolor": "#E5ECF6",
            "gridcolor": "white",
            "gridwidth": 2,
            "linecolor": "white",
            "showbackground": true,
            "ticks": "",
            "zerolinecolor": "white"
           },
           "zaxis": {
            "backgroundcolor": "#E5ECF6",
            "gridcolor": "white",
            "gridwidth": 2,
            "linecolor": "white",
            "showbackground": true,
            "ticks": "",
            "zerolinecolor": "white"
           }
          },
          "shapedefaults": {
           "line": {
            "color": "#2a3f5f"
           }
          },
          "ternary": {
           "aaxis": {
            "gridcolor": "white",
            "linecolor": "white",
            "ticks": ""
           },
           "baxis": {
            "gridcolor": "white",
            "linecolor": "white",
            "ticks": ""
           },
           "bgcolor": "#E5ECF6",
           "caxis": {
            "gridcolor": "white",
            "linecolor": "white",
            "ticks": ""
           }
          },
          "title": {
           "x": 0.05
          },
          "xaxis": {
           "automargin": true,
           "gridcolor": "white",
           "linecolor": "white",
           "ticks": "",
           "title": {
            "standoff": 15
           },
           "zerolinecolor": "white",
           "zerolinewidth": 2
          },
          "yaxis": {
           "automargin": true,
           "gridcolor": "white",
           "linecolor": "white",
           "ticks": "",
           "title": {
            "standoff": 15
           },
           "zerolinecolor": "white",
           "zerolinewidth": 2
          }
         }
        },
        "title": {
         "text": "Distribution of Sugars (g)"
        },
        "xaxis": {
         "anchor": "y",
         "domain": [
          0,
          1
         ],
         "title": {
          "text": "sugars (g)"
         }
        },
        "yaxis": {
         "anchor": "x",
         "domain": [
          0,
          1
         ],
         "title": {
          "text": "count"
         }
        }
       }
      },
      "text/html": [
       "<div>                            <div id=\"49b59844-b551-44a5-9edc-8b9be0c530e3\" class=\"plotly-graph-div\" style=\"height:525px; width:100%;\"></div>            <script type=\"text/javascript\">                require([\"plotly\"], function(Plotly) {                    window.PLOTLYENV=window.PLOTLYENV || {};                                    if (document.getElementById(\"49b59844-b551-44a5-9edc-8b9be0c530e3\")) {                    Plotly.newPlot(                        \"49b59844-b551-44a5-9edc-8b9be0c530e3\",                        [{\"alignmentgroup\":\"True\",\"bingroup\":\"x\",\"hovertemplate\":\"sugars (g)=%{x}\\u003cbr\\u003ecount=%{y}\\u003cextra\\u003e\\u003c\\u002fextra\\u003e\",\"legendgroup\":\"\",\"marker\":{\"color\":\"#636efa\",\"pattern\":{\"shape\":\"\"}},\"name\":\"\",\"nbinsx\":50,\"offsetgroup\":\"\",\"orientation\":\"v\",\"showlegend\":false,\"x\":[3.0,3.0,2.0,2.0,2.0,3.0,3.0,4.0,3.0,4.0,2.0,3.0,2.0,3.0,3.0,3.0,3.0,4.0,3.0,15.0,16.0,15.0,15.0,15.0,7.0,8.0,7.0,3.0,3.0,3.0,4.0,17.0,17.0,17.0,18.0,14.0,14.0,2.0,0.0,32.0,32.0,18.0,9.0,10.0,12.0,10.0,9.0,10.0,6.0,7.0,7.0,14.0,7.0,7.0,7.0,6.0,11.0,10.0,8.0,11.0,9.0,11.0,9.0,16.0,14.0,7.0,5.0,6.0,6.0,5.0,7.0,6.0,8.0,6.0,12.0,10.0,14.0,12.0,0.0,0.0,0.0,0.0,1.0,5.0,4.0,5.0,4.0,6.0,12.0,10.0,8.0,7.0,3.0,2.0,3.0,2.0,0.0,0.0,0.0,0.0,2.0,3.0,23.0,13.0,15.0,13.0,6.0,48.0,43.0,45.0,39.0,55.0,76.0,28.0,0.0,0.0,0.0,0.0,35.0,51.0,70.0,26.0,0.0,0.0,0.0,0.0,37.0,54.0,74.0,27.0,12.0,22.0,19.0,30.0,39.0,58.0,0.0,0.0,0.0,0.0,0.0,36.0,45.0,54.0,27.0,0.0,0.0,0.0,12.0,15.0,20.0,38.0,48.0,59.0,38.0,47.0,58.0,36.0,45.0,56.0,12.0,15.0,20.0,13.0,16.0,21.0,39.0,48.0,59.0,38.0,48.0,59.0,37.0,46.0,56.0,13.0,16.0,21.0,42.0,53.0,63.0,43.0,53.0,64.0,40.0,50.0,60.0,41.0,51.0,61.0,45.0,56.0,68.0,46.0,57.0,69.0,22.0,30.0,45.0,21.0,28.0,42.0,20.0,28.0,41.0,19.0,26.0,39.0,1.0,2.0,2.0,34.0,43.0,62.0,35.0,43.0,62.0,33.0,41.0,59.0,33.0,41.0,59.0,57.0,71.0,88.0,57.0,71.0,88.0,67.0,81.0,99.0,44.0,54.0,70.0,44.0,54.0,70.0,46.0,56.0,72.0,63.0,81.0,101.0,79.0,100.0,123.0,77.0,97.0,120.0,93.0,115.0,89.0,128.0,59.0,64.0,85.0,43.0,103.0,51.0,18.0,8.0,6.0,9.0,6.0,7.0,5.0,5.0,5.0,5.0,7.0,1.0,2.0,2.0,1.0,7.0,6.0,6.0,7.0,7.0,7.0,7.0,5.0,5.0,7.0,16.0,11.0,6.0,8.0,3.0,6.0,20.0,6.0,7.0,5.0,5.0,9.0,5.0,5.0,5.0,11.0,5.0,7.0,9.0,5.0,21.0,5.0,5.0,5.0,4.0,4.0,3.0,4.0,1.0,26.0,18.0,18.0,17.0,24.0,20.0,16.0,0.0,16.0,20.0,14.0,17.0,32.0,5.0,11.0,7.0,4.0,5.0,4.0,10.0,4.0,4.0,4.0,3.0,3.0,3.0,4.0,14.0,3.0,3.0,4.0,5.0,4.0,5.0,5.0,3.0,3.0,3.0,3.0,3.0,2.0,2.0,3.0,3.0,3.0,1.0,1.0,0.0,0.0,0.0,0.0,0.0,0.0,0.0,1.0,0.0,0.0,1.0,4.0,0.0,0.0,1.0,0.0,0.0,0.0,0.0,1.0,7.0,0.0,0.0,0.0,0.0,0.0,0.0,0.0,0.0,0.0,0.0,1.0,1.0,0.0,0.0,0.0,0.0,0.0,9.0,9.0,4.0,14.0,14.0,6.0,18.0,17.0,8.0,23.0,22.0,11.0,17.0,17.0,13.0,27.0,26.0,20.0,34.0,34.0,26.0,44.0,43.0,33.0,18.0,17.0,13.0,27.0,27.0,20.0,35.0,35.0,26.0,45.0,44.0,33.0,0.0,0.0,0.0,0.0,7.0,7.0,3.0,8.0,8.0,4.0,10.0,10.0,5.0,14.0,14.0,7.0,0.0,0.0,8.0,13.0,16.0,21.0,15.0,15.0,11.0,24.0,23.0,17.0,32.0,32.0,24.0,41.0,40.0,31.0,29.0,29.0,25.0,45.0,44.0,39.0,58.0,58.0,51.0,74.0,74.0,64.0,23.0,22.0,18.0,32.0,32.0,25.0,41.0,41.0,32.0,55.0,54.0,44.0,33.0,49.0,65.0,83.0,0.0,0.0,0.0,0.0,21.0,21.0,18.0,32.0,32.0,28.0,43.0,42.0,37.0,54.0,53.0,46.0,25.0,25.0,20.0,41.0,40.0,33.0,56.0,55.0,46.0,71.0,71.0,58.0,16.0,15.0,13.0,23.0,23.0,19.0,31.0,30.0,25.0,39.0,38.0,32.0,16.0,15.0,13.0,23.0,23.0,19.0,31.0,30.0,25.0,39.0,38.0,32.0,15.0,21.0,31.0,18.0,18.0,17.0,24.0,24.0,22.0,36.0,36.0,33.0,15.0,21.0,31.0,24.0,33.0,49.0,34.0,34.0,31.0,37.0,37.0,36.0,41.0,41.0,40.0,36.0,36.0,34.0,50.0,50.0,47.0,69.0,69.0,66.0,40.0,40.0,38.0,58.0,58.0,55.0,76.0,76.0,73.0,41.0,41.0,39.0,59.0,59.0,56.0,77.0,77.0,73.0,44.0,44.0,42.0,62.0,62.0,60.0,84.0,84.0,80.0,19.0,26.0,33.0,23.0,30.0,42.0,23.0,32.0,43.0,27.0,39.0,52.0,38.0,37.0,35.0,52.0,52.0,49.0,69.0,68.0,64.0,38.0,38.0,35.0,55.0,null,null,null,null,null,null,null,null,null,null,null,null,null,null,null,null,null,null,null,null,null,null,null,null,null,null,null,null,null,null,null,null,null,null,null,null,null,null,null,null,null,null,null,null,null,null,null,null,null,null,null,null,null,null,null,null,null,null,null,null,null,null,null,null,null,null,null,null,null,null,null,null,null,null,null,null,null,null,null,null,null,null,null,null,null,null,null,null,null,null,null,null,null,null,null,null,null,null,null,null,null,null,null,null,null,null,null,null,null,null,null,null,null],\"xaxis\":\"x\",\"yaxis\":\"y\",\"type\":\"histogram\"}],                        {\"template\":{\"data\":{\"histogram2dcontour\":[{\"type\":\"histogram2dcontour\",\"colorbar\":{\"outlinewidth\":0,\"ticks\":\"\"},\"colorscale\":[[0.0,\"#0d0887\"],[0.1111111111111111,\"#46039f\"],[0.2222222222222222,\"#7201a8\"],[0.3333333333333333,\"#9c179e\"],[0.4444444444444444,\"#bd3786\"],[0.5555555555555556,\"#d8576b\"],[0.6666666666666666,\"#ed7953\"],[0.7777777777777778,\"#fb9f3a\"],[0.8888888888888888,\"#fdca26\"],[1.0,\"#f0f921\"]]}],\"choropleth\":[{\"type\":\"choropleth\",\"colorbar\":{\"outlinewidth\":0,\"ticks\":\"\"}}],\"histogram2d\":[{\"type\":\"histogram2d\",\"colorbar\":{\"outlinewidth\":0,\"ticks\":\"\"},\"colorscale\":[[0.0,\"#0d0887\"],[0.1111111111111111,\"#46039f\"],[0.2222222222222222,\"#7201a8\"],[0.3333333333333333,\"#9c179e\"],[0.4444444444444444,\"#bd3786\"],[0.5555555555555556,\"#d8576b\"],[0.6666666666666666,\"#ed7953\"],[0.7777777777777778,\"#fb9f3a\"],[0.8888888888888888,\"#fdca26\"],[1.0,\"#f0f921\"]]}],\"heatmap\":[{\"type\":\"heatmap\",\"colorbar\":{\"outlinewidth\":0,\"ticks\":\"\"},\"colorscale\":[[0.0,\"#0d0887\"],[0.1111111111111111,\"#46039f\"],[0.2222222222222222,\"#7201a8\"],[0.3333333333333333,\"#9c179e\"],[0.4444444444444444,\"#bd3786\"],[0.5555555555555556,\"#d8576b\"],[0.6666666666666666,\"#ed7953\"],[0.7777777777777778,\"#fb9f3a\"],[0.8888888888888888,\"#fdca26\"],[1.0,\"#f0f921\"]]}],\"heatmapgl\":[{\"type\":\"heatmapgl\",\"colorbar\":{\"outlinewidth\":0,\"ticks\":\"\"},\"colorscale\":[[0.0,\"#0d0887\"],[0.1111111111111111,\"#46039f\"],[0.2222222222222222,\"#7201a8\"],[0.3333333333333333,\"#9c179e\"],[0.4444444444444444,\"#bd3786\"],[0.5555555555555556,\"#d8576b\"],[0.6666666666666666,\"#ed7953\"],[0.7777777777777778,\"#fb9f3a\"],[0.8888888888888888,\"#fdca26\"],[1.0,\"#f0f921\"]]}],\"contourcarpet\":[{\"type\":\"contourcarpet\",\"colorbar\":{\"outlinewidth\":0,\"ticks\":\"\"}}],\"contour\":[{\"type\":\"contour\",\"colorbar\":{\"outlinewidth\":0,\"ticks\":\"\"},\"colorscale\":[[0.0,\"#0d0887\"],[0.1111111111111111,\"#46039f\"],[0.2222222222222222,\"#7201a8\"],[0.3333333333333333,\"#9c179e\"],[0.4444444444444444,\"#bd3786\"],[0.5555555555555556,\"#d8576b\"],[0.6666666666666666,\"#ed7953\"],[0.7777777777777778,\"#fb9f3a\"],[0.8888888888888888,\"#fdca26\"],[1.0,\"#f0f921\"]]}],\"surface\":[{\"type\":\"surface\",\"colorbar\":{\"outlinewidth\":0,\"ticks\":\"\"},\"colorscale\":[[0.0,\"#0d0887\"],[0.1111111111111111,\"#46039f\"],[0.2222222222222222,\"#7201a8\"],[0.3333333333333333,\"#9c179e\"],[0.4444444444444444,\"#bd3786\"],[0.5555555555555556,\"#d8576b\"],[0.6666666666666666,\"#ed7953\"],[0.7777777777777778,\"#fb9f3a\"],[0.8888888888888888,\"#fdca26\"],[1.0,\"#f0f921\"]]}],\"mesh3d\":[{\"type\":\"mesh3d\",\"colorbar\":{\"outlinewidth\":0,\"ticks\":\"\"}}],\"scatter\":[{\"fillpattern\":{\"fillmode\":\"overlay\",\"size\":10,\"solidity\":0.2},\"type\":\"scatter\"}],\"parcoords\":[{\"type\":\"parcoords\",\"line\":{\"colorbar\":{\"outlinewidth\":0,\"ticks\":\"\"}}}],\"scatterpolargl\":[{\"type\":\"scatterpolargl\",\"marker\":{\"colorbar\":{\"outlinewidth\":0,\"ticks\":\"\"}}}],\"bar\":[{\"error_x\":{\"color\":\"#2a3f5f\"},\"error_y\":{\"color\":\"#2a3f5f\"},\"marker\":{\"line\":{\"color\":\"#E5ECF6\",\"width\":0.5},\"pattern\":{\"fillmode\":\"overlay\",\"size\":10,\"solidity\":0.2}},\"type\":\"bar\"}],\"scattergeo\":[{\"type\":\"scattergeo\",\"marker\":{\"colorbar\":{\"outlinewidth\":0,\"ticks\":\"\"}}}],\"scatterpolar\":[{\"type\":\"scatterpolar\",\"marker\":{\"colorbar\":{\"outlinewidth\":0,\"ticks\":\"\"}}}],\"histogram\":[{\"marker\":{\"pattern\":{\"fillmode\":\"overlay\",\"size\":10,\"solidity\":0.2}},\"type\":\"histogram\"}],\"scattergl\":[{\"type\":\"scattergl\",\"marker\":{\"colorbar\":{\"outlinewidth\":0,\"ticks\":\"\"}}}],\"scatter3d\":[{\"type\":\"scatter3d\",\"line\":{\"colorbar\":{\"outlinewidth\":0,\"ticks\":\"\"}},\"marker\":{\"colorbar\":{\"outlinewidth\":0,\"ticks\":\"\"}}}],\"scattermapbox\":[{\"type\":\"scattermapbox\",\"marker\":{\"colorbar\":{\"outlinewidth\":0,\"ticks\":\"\"}}}],\"scatterternary\":[{\"type\":\"scatterternary\",\"marker\":{\"colorbar\":{\"outlinewidth\":0,\"ticks\":\"\"}}}],\"scattercarpet\":[{\"type\":\"scattercarpet\",\"marker\":{\"colorbar\":{\"outlinewidth\":0,\"ticks\":\"\"}}}],\"carpet\":[{\"aaxis\":{\"endlinecolor\":\"#2a3f5f\",\"gridcolor\":\"white\",\"linecolor\":\"white\",\"minorgridcolor\":\"white\",\"startlinecolor\":\"#2a3f5f\"},\"baxis\":{\"endlinecolor\":\"#2a3f5f\",\"gridcolor\":\"white\",\"linecolor\":\"white\",\"minorgridcolor\":\"white\",\"startlinecolor\":\"#2a3f5f\"},\"type\":\"carpet\"}],\"table\":[{\"cells\":{\"fill\":{\"color\":\"#EBF0F8\"},\"line\":{\"color\":\"white\"}},\"header\":{\"fill\":{\"color\":\"#C8D4E3\"},\"line\":{\"color\":\"white\"}},\"type\":\"table\"}],\"barpolar\":[{\"marker\":{\"line\":{\"color\":\"#E5ECF6\",\"width\":0.5},\"pattern\":{\"fillmode\":\"overlay\",\"size\":10,\"solidity\":0.2}},\"type\":\"barpolar\"}],\"pie\":[{\"automargin\":true,\"type\":\"pie\"}]},\"layout\":{\"autotypenumbers\":\"strict\",\"colorway\":[\"#636efa\",\"#EF553B\",\"#00cc96\",\"#ab63fa\",\"#FFA15A\",\"#19d3f3\",\"#FF6692\",\"#B6E880\",\"#FF97FF\",\"#FECB52\"],\"font\":{\"color\":\"#2a3f5f\"},\"hovermode\":\"closest\",\"hoverlabel\":{\"align\":\"left\"},\"paper_bgcolor\":\"white\",\"plot_bgcolor\":\"#E5ECF6\",\"polar\":{\"bgcolor\":\"#E5ECF6\",\"angularaxis\":{\"gridcolor\":\"white\",\"linecolor\":\"white\",\"ticks\":\"\"},\"radialaxis\":{\"gridcolor\":\"white\",\"linecolor\":\"white\",\"ticks\":\"\"}},\"ternary\":{\"bgcolor\":\"#E5ECF6\",\"aaxis\":{\"gridcolor\":\"white\",\"linecolor\":\"white\",\"ticks\":\"\"},\"baxis\":{\"gridcolor\":\"white\",\"linecolor\":\"white\",\"ticks\":\"\"},\"caxis\":{\"gridcolor\":\"white\",\"linecolor\":\"white\",\"ticks\":\"\"}},\"coloraxis\":{\"colorbar\":{\"outlinewidth\":0,\"ticks\":\"\"}},\"colorscale\":{\"sequential\":[[0.0,\"#0d0887\"],[0.1111111111111111,\"#46039f\"],[0.2222222222222222,\"#7201a8\"],[0.3333333333333333,\"#9c179e\"],[0.4444444444444444,\"#bd3786\"],[0.5555555555555556,\"#d8576b\"],[0.6666666666666666,\"#ed7953\"],[0.7777777777777778,\"#fb9f3a\"],[0.8888888888888888,\"#fdca26\"],[1.0,\"#f0f921\"]],\"sequentialminus\":[[0.0,\"#0d0887\"],[0.1111111111111111,\"#46039f\"],[0.2222222222222222,\"#7201a8\"],[0.3333333333333333,\"#9c179e\"],[0.4444444444444444,\"#bd3786\"],[0.5555555555555556,\"#d8576b\"],[0.6666666666666666,\"#ed7953\"],[0.7777777777777778,\"#fb9f3a\"],[0.8888888888888888,\"#fdca26\"],[1.0,\"#f0f921\"]],\"diverging\":[[0,\"#8e0152\"],[0.1,\"#c51b7d\"],[0.2,\"#de77ae\"],[0.3,\"#f1b6da\"],[0.4,\"#fde0ef\"],[0.5,\"#f7f7f7\"],[0.6,\"#e6f5d0\"],[0.7,\"#b8e186\"],[0.8,\"#7fbc41\"],[0.9,\"#4d9221\"],[1,\"#276419\"]]},\"xaxis\":{\"gridcolor\":\"white\",\"linecolor\":\"white\",\"ticks\":\"\",\"title\":{\"standoff\":15},\"zerolinecolor\":\"white\",\"automargin\":true,\"zerolinewidth\":2},\"yaxis\":{\"gridcolor\":\"white\",\"linecolor\":\"white\",\"ticks\":\"\",\"title\":{\"standoff\":15},\"zerolinecolor\":\"white\",\"automargin\":true,\"zerolinewidth\":2},\"scene\":{\"xaxis\":{\"backgroundcolor\":\"#E5ECF6\",\"gridcolor\":\"white\",\"linecolor\":\"white\",\"showbackground\":true,\"ticks\":\"\",\"zerolinecolor\":\"white\",\"gridwidth\":2},\"yaxis\":{\"backgroundcolor\":\"#E5ECF6\",\"gridcolor\":\"white\",\"linecolor\":\"white\",\"showbackground\":true,\"ticks\":\"\",\"zerolinecolor\":\"white\",\"gridwidth\":2},\"zaxis\":{\"backgroundcolor\":\"#E5ECF6\",\"gridcolor\":\"white\",\"linecolor\":\"white\",\"showbackground\":true,\"ticks\":\"\",\"zerolinecolor\":\"white\",\"gridwidth\":2}},\"shapedefaults\":{\"line\":{\"color\":\"#2a3f5f\"}},\"annotationdefaults\":{\"arrowcolor\":\"#2a3f5f\",\"arrowhead\":0,\"arrowwidth\":1},\"geo\":{\"bgcolor\":\"white\",\"landcolor\":\"#E5ECF6\",\"subunitcolor\":\"white\",\"showland\":true,\"showlakes\":true,\"lakecolor\":\"white\"},\"title\":{\"x\":0.05},\"mapbox\":{\"style\":\"light\"}}},\"xaxis\":{\"anchor\":\"y\",\"domain\":[0.0,1.0],\"title\":{\"text\":\"sugars (g)\"}},\"yaxis\":{\"anchor\":\"x\",\"domain\":[0.0,1.0],\"title\":{\"text\":\"count\"}},\"legend\":{\"tracegroupgap\":0},\"title\":{\"text\":\"Distribution of Sugars (g)\"},\"barmode\":\"relative\"},                        {\"responsive\": true}                    ).then(function(){\n",
       "                            \n",
       "var gd = document.getElementById('49b59844-b551-44a5-9edc-8b9be0c530e3');\n",
       "var x = new MutationObserver(function (mutations, observer) {{\n",
       "        var display = window.getComputedStyle(gd).display;\n",
       "        if (!display || display === 'none') {{\n",
       "            console.log([gd, 'removed!']);\n",
       "            Plotly.purge(gd);\n",
       "            observer.disconnect();\n",
       "        }}\n",
       "}});\n",
       "\n",
       "// Listen for the removal of the full notebook cells\n",
       "var notebookContainer = gd.closest('#notebook-container');\n",
       "if (notebookContainer) {{\n",
       "    x.observe(notebookContainer, {childList: true});\n",
       "}}\n",
       "\n",
       "// Listen for the clearing of the current output cell\n",
       "var outputEl = gd.closest('.output');\n",
       "if (outputEl) {{\n",
       "    x.observe(outputEl, {childList: true});\n",
       "}}\n",
       "\n",
       "                        })                };                });            </script>        </div>"
      ]
     },
     "metadata": {},
     "output_type": "display_data"
    }
   ],
   "source": [
    "#6\n",
    "import pandas as pd\n",
    "import plotly.express as px\n",
    "\n",
    "# Load the dataset\n",
    "url = \"https://raw.githubusercontent.com/manuelamc14/fast-food-Nutritional-Database/main/Tables/nutrition.csv\"\n",
    "nutrition_data = pd.read_csv(url)\n",
    "\n",
    "# Visualize the distribution of calories\n",
    "fig_calories = px.histogram(nutrition_data, x=\"calories\", title=\"Distribution of Calories\", nbins=50)\n",
    "fig_calories.show()\n",
    "\n",
    "# Visualize the distribution of total fat\n",
    "fig_fat = px.histogram(nutrition_data, x=\"total fat (g)\", title=\"Distribution of Total Fat (g)\", nbins=50)\n",
    "fig_fat.show()\n",
    "\n",
    "# Visualize the distribution of sugars\n",
    "fig_sugars = px.histogram(nutrition_data, x=\"sugars (g)\", title=\"Distribution of Sugars (g)\", nbins=50)\n",
    "fig_sugars.show()\n"
   ]
  },
  {
   "cell_type": "code",
   "execution_count": 36,
   "id": "c70ff244",
   "metadata": {},
   "outputs": [
    {
     "data": {
      "image/png": "[encoded data removed]"
     },
     "metadata": {},
     "output_type": "display_data"
    }
   ],
   "source": [
    "#7\n",
    "import plotly.express as px\n",
    "\n",
    "# Load the built-in gapminder dataset from Plotly\n",
    "gapminder_data = px.data.gapminder()\n",
    "\n",
    "# Create the animated scatter plot\n",
    "fig = px.scatter(\n",
    "    gapminder_data,\n",
    "    x=\"gdpPercap\",  # GDP per capita\n",
    "    y=\"lifeExp\",  # Life expectancy\n",
    "    animation_frame=\"year\",  # Time component for animation\n",
    "    animation_group=\"country\",  # Animate each country\n",
    "    size=\"pop\",  # Bubble size based on population\n",
    "    color=\"continent\",  # Color by continent\n",
    "    hover_name=\"country\",  # Show country name on hover\n",
    "    log_x=True,  # Log scale for GDP per capita\n",
    "    size_max=55,  # Max size for bubble\n",
    "    range_x=[100, 100000],  # X-axis range for GDP per capita\n",
    "    range_y=[25, 90],  # Y-axis range for life expectancy\n",
    "    title=\"Gapminder World Development Over Time\",\n",
    "    labels={\"gdpPercap\": \"GDP Per Capita\", \"lifeExp\": \"Life Expectancy\"}\n",
    ")\n",
    "\n",
    "# Customize the layout (optional)\n",
    "fig.update_layout(\n",
    "    xaxis_title=\"GDP Per Capita (Log Scale)\",\n",
    "    yaxis_title=\"Life Expectancy (Years)\",\n",
    "    title_font_size=20,\n",
    "    title_x=0.5,\n",
    "    font=dict(size=14),\n",
    ")\n",
    "\n",
    "# Show the animated plot\n",
    "fig.show(renderer=\"png\")\n",
    "#!!!! fig.show() make the animation working!!! I'm using fig.show(renderer=\"png\") for the submission!!\n"
   ]
  },
  {
   "cell_type": "code",
   "execution_count": 37,
   "id": "aa6a4a81",
   "metadata": {},
   "outputs": [
    {
     "data": {
      "image/png": "[encoded data removed]"
     },
     "metadata": {},
     "output_type": "display_data"
    }
   ],
   "source": [
    "#8\n",
    "import pandas as pd\n",
    "import plotly.express as px\n",
    "\n",
    "# Load the baby names dataset\n",
    "bn = pd.read_csv('https://raw.githubusercontent.com/hadley/data-baby-names/master/baby-names.csv')\n",
    "\n",
    "# Make identical boy and girl names distinct\n",
    "bn['name'] = bn['name'] + \" \" + bn['sex']\n",
    "\n",
    "# Rank the names by percentage within each year\n",
    "bn['rank'] = bn.groupby('year')['percent'].rank(ascending=False)\n",
    "\n",
    "# Sort values by name and year\n",
    "bn = bn.sort_values(['name', 'year'])\n",
    "\n",
    "# Calculate the percent change\n",
    "bn['percent change'] = bn['percent'].diff()\n",
    "new_name = [True] + list(bn.name[:-1].values != bn.name[1:].values)\n",
    "bn.loc[new_name, 'percent change'] = bn.loc[new_name, 'percent']\n",
    "\n",
    "# Sort the DataFrame by year\n",
    "bn = bn.sort_values('year')\n",
    "\n",
    "# Restrict to \"common\" names\n",
    "bn = bn[bn.percent > 0.001]\n",
    "\n",
    "# Create the scatter plot with specified parameters\n",
    "fig = px.scatter(\n",
    "    bn,\n",
    "    x=\"percent change\",  # X-axis: Percent change\n",
    "    y=\"rank\",            # Y-axis: Rank\n",
    "    animation_frame=\"year\",  # Animation by year\n",
    "    animation_group=\"name\",   # Group by name for animation\n",
    "    size=\"percent\",      # Size by percentage\n",
    "    color=\"sex\",        # Color by sex\n",
    "    hover_name=\"name\",  # Hover name as name\n",
    "    size_max=50,        # Max size for bubbles\n",
    "    range_x=[-0.005, 0.005]  # X-axis range\n",
    ")\n",
    "\n",
    "# Update Y-axis to reverse order (rank 1 at the top)\n",
    "fig.update_yaxes(autorange='reversed')\n",
    "\n",
    "# Show the plot\n",
    "fig.show(renderer=\"png\")  # USE `fig.show(renderer=\"png\")` FOR ALL GitHub and MarkUs SUBMISSIONS\n",
    "\n",
    "#!!!! fig.show() make the animation working!!! I'm using fig.show(renderer=\"png\") for the submission!!\n"
   ]
  },
  {
   "cell_type": "markdown",
   "id": "0f3c50e9",
   "metadata": {},
   "source": [
    "Summary of Interactions\n",
    "Link: https://chatgpt.com/share/66f62b48-d420-8012-8dbe-f79f33ea0018\n",
    "\n",
    "\n",
    "Understanding Skewness:\n",
    "\n",
    "You asked about the relationship between the mean and median in relation to right and left skewness. I provided an explanation and proposed a code extension using scipy and numpy to generate right-skewed and left-skewed data and visualize the mean and median for both distributions.\n",
    "Exploring Nutritional Dataset:\n",
    "\n",
    "You provided a link to a dataset containing fast-food nutritional information. I assisted you in loading the dataset, calculating summary statistics, and visualizing distributions of key nutritional variables such as calories, total fat, and sugars using histograms.\n",
    "Recreating the Gapminder Animation:\n",
    "\n",
    "You requested guidance on recreating the classic Gapminder animation using Plotly. I provided a code example using the built-in Gapminder dataset from Plotly Express to create an animated scatter plot displaying GDP per capita versus life expectancy over time.\n",
    "Creating a Second Version of the Figure:\n",
    "\n",
    "You provided specific requirements for modifying the Gapminder figure to focus on baby names. I helped you by providing code to generate an animated scatter plot based on the Baby Names dataset, with changes to the axes, size, color, and other parameters as per your specifications.\n"
   ]
  }
 ],
 "metadata": {
  "kernelspec": {
   "display_name": "Python 3 (ipykernel)",
   "language": "python",
   "name": "python3"
  },
  "language_info": {
   "codemirror_mode": {
    "name": "ipython",
    "version": 3
   },
   "file_extension": ".py",
   "mimetype": "text/x-python",
   "name": "python",
   "nbconvert_exporter": "python",
   "pygments_lexer": "ipython3",
   "version": "3.11.6"
  }
 },
 "nbformat": 4,
 "nbformat_minor": 5
}
