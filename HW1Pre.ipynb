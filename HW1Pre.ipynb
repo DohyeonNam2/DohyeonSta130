{
 "cells": [
  {
   "cell_type": "code",
   "execution_count": 1,
   "id": "8cff0969",
   "metadata": {},
   "outputs": [
    {
     "data": {
      "text/plain": [
       "row_n           0\n",
       "id              1\n",
       "name            0\n",
       "gender          0\n",
       "species         0\n",
       "birthday        0\n",
       "personality     0\n",
       "song           11\n",
       "phrase          0\n",
       "full_id         0\n",
       "url             0\n",
       "dtype: int64"
      ]
     },
     "execution_count": 1,
     "metadata": {},
     "output_type": "execute_result"
    }
   ],
   "source": [
    "import pandas as pd\n",
    "url = \"https://raw.githubusercontent.com/rfordatascience/tidytuesday/master/data/2020/2020-05-05/villagers.csv\"\n",
    "df = pd.read_csv(url)\n",
    "df.isna().sum()"
   ]
  },
  {
   "cell_type": "code",
   "execution_count": 2,
   "id": "e7463c40",
   "metadata": {},
   "outputs": [
    {
     "name": "stdout",
     "output_type": "stream",
     "text": [
      "Columns in the dataset:\n",
      "Index(['row_n', 'id', 'name', 'gender', 'species', 'birthday', 'personality',\n",
      "       'song', 'phrase', 'full_id', 'url'],\n",
      "      dtype='object')\n",
      "\n",
      "Number of rows: 391\n"
     ]
    }
   ],
   "source": [
    "# Load the dataset\n",
    "url = \"https://raw.githubusercontent.com/rfordatascience/tidytuesday/master/data/2020/2020-05-05/villagers.csv\"\n",
    "df = pd.read_csv(url)\n",
    "\n",
    "# Display the column names\n",
    "print(\"Columns in the dataset:\")\n",
    "print(df.columns)\n",
    "\n",
    "# Display the number of rows\n",
    "print(f\"\\nNumber of rows: {len(df)}\")"
   ]
  },
  {
   "cell_type": "code",
   "execution_count": 3,
   "id": "2c1be333",
   "metadata": {},
   "outputs": [
    {
     "name": "stdout",
     "output_type": "stream",
     "text": [
      "Number of columns: 11\n",
      "Number of rows: 391\n"
     ]
    }
   ],
   "source": [
    "# Get the number of rows and columns\n",
    "num_rows, num_columns = df.shape\n",
    "\n",
    "print(f\"Number of columns: {num_columns}\")\n",
    "print(f\"Number of rows: {num_rows}\")"
   ]
  },
  {
   "cell_type": "code",
   "execution_count": 5,
   "id": "a49d6823",
   "metadata": {},
   "outputs": [],
   "source": [
    "#Observations - rows of the dataset, the individual entities that are being studied. (villager)\n",
    "\n",
    "#Variables - columns of the dataset, the different types of information collected about each Observations. (ex. name, gender, species, etc)"
   ]
  },
  {
   "cell_type": "code",
   "execution_count": 6,
   "id": "bef1fd7c",
   "metadata": {},
   "outputs": [
    {
     "name": "stdout",
     "output_type": "stream",
     "text": [
      "Dataset Info:\n",
      "<class 'pandas.core.frame.DataFrame'>\n",
      "RangeIndex: 391 entries, 0 to 390\n",
      "Data columns (total 11 columns):\n",
      " #   Column       Non-Null Count  Dtype \n",
      "---  ------       --------------  ----- \n",
      " 0   row_n        391 non-null    int64 \n",
      " 1   id           390 non-null    object\n",
      " 2   name         391 non-null    object\n",
      " 3   gender       391 non-null    object\n",
      " 4   species      391 non-null    object\n",
      " 5   birthday     391 non-null    object\n",
      " 6   personality  391 non-null    object\n",
      " 7   song         380 non-null    object\n",
      " 8   phrase       391 non-null    object\n",
      " 9   full_id      391 non-null    object\n",
      " 10  url          391 non-null    object\n",
      "dtypes: int64(1), object(10)\n",
      "memory usage: 33.7+ KB\n"
     ]
    }
   ],
   "source": [
    "print(\"Dataset Info:\")\n",
    "df.info()"
   ]
  },
  {
   "cell_type": "code",
   "execution_count": 7,
   "id": "b6887527",
   "metadata": {},
   "outputs": [
    {
     "name": "stdout",
     "output_type": "stream",
     "text": [
      "\n",
      "Summary Statistics for Numerical Columns:\n",
      "            row_n\n",
      "count  391.000000\n",
      "mean   239.902813\n",
      "std    140.702672\n",
      "min      2.000000\n",
      "25%    117.500000\n",
      "50%    240.000000\n",
      "75%    363.500000\n",
      "max    483.000000\n"
     ]
    }
   ],
   "source": [
    "#Descriptive statistics for numerical columns\n",
    "print(\"\\nSummary Statistics for Numerical Columns:\")\n",
    "print(df.describe())"
   ]
  },
  {
   "cell_type": "code",
   "execution_count": 8,
   "id": "bdb38cf2",
   "metadata": {},
   "outputs": [
    {
     "name": "stdout",
     "output_type": "stream",
     "text": [
      "\n",
      "Value Counts for 'species' Column:\n",
      "species\n",
      "cat          23\n",
      "rabbit       20\n",
      "frog         18\n",
      "squirrel     18\n",
      "duck         17\n",
      "dog          16\n",
      "cub          16\n",
      "pig          15\n",
      "bear         15\n",
      "mouse        15\n",
      "horse        15\n",
      "bird         13\n",
      "penguin      13\n",
      "sheep        13\n",
      "elephant     11\n",
      "wolf         11\n",
      "ostrich      10\n",
      "deer         10\n",
      "eagle         9\n",
      "gorilla       9\n",
      "chicken       9\n",
      "koala         9\n",
      "goat          8\n",
      "hamster       8\n",
      "kangaroo      8\n",
      "monkey        8\n",
      "anteater      7\n",
      "hippo         7\n",
      "tiger         7\n",
      "alligator     7\n",
      "lion          7\n",
      "bull          6\n",
      "rhino         6\n",
      "cow           4\n",
      "octopus       3\n",
      "Name: count, dtype: int64\n"
     ]
    }
   ],
   "source": [
    "#Value counts for a specific column, e.g., 'species'\n",
    "print(\"\\nValue Counts for 'species' Column:\")\n",
    "print(df['species'].value_counts())"
   ]
  },
  {
   "cell_type": "code",
   "execution_count": 4,
   "id": "3306547e",
   "metadata": {},
   "outputs": [
    {
     "name": "stdout",
     "output_type": "stream",
     "text": [
      "(891, 15)\n"
     ]
    }
   ],
   "source": [
    "#for 4\n",
    "import pandas as pd\n",
    "url2 = \"https://raw.githubusercontent.com/mwaskom/seaborn-data/master/titanic.csv\"\n",
    "df2 = pd.read_csv(url2)\n",
    "\n",
    "print(df2.shape)"
   ]
  },
  {
   "cell_type": "code",
   "execution_count": 5,
   "id": "06d8128b",
   "metadata": {},
   "outputs": [
    {
     "name": "stdout",
     "output_type": "stream",
     "text": [
      "         survived      pclass         age       sibsp       parch        fare\n",
      "count  891.000000  891.000000  714.000000  891.000000  891.000000  891.000000\n",
      "mean     0.383838    2.308642   29.699118    0.523008    0.381594   32.204208\n",
      "std      0.486592    0.836071   14.526497    1.102743    0.806057   49.693429\n",
      "min      0.000000    1.000000    0.420000    0.000000    0.000000    0.000000\n",
      "25%      0.000000    2.000000   20.125000    0.000000    0.000000    7.910400\n",
      "50%      0.000000    3.000000   28.000000    0.000000    0.000000   14.454200\n",
      "75%      1.000000    3.000000   38.000000    1.000000    0.000000   31.000000\n",
      "max      1.000000    3.000000   80.000000    8.000000    6.000000  512.329200\n"
     ]
    }
   ],
   "source": [
    "print(df2.describe())"
   ]
  },
  {
   "cell_type": "code",
   "execution_count": 6,
   "id": "cf57e1d3",
   "metadata": {},
   "outputs": [
    {
     "name": "stdout",
     "output_type": "stream",
     "text": [
      "Dataset Shape: (891, 15)\n",
      "\n",
      "Complete Summary Including All Columns:\n",
      "          survived      pclass   sex         age       sibsp       parch  \\\n",
      "count   891.000000  891.000000   891  714.000000  891.000000  891.000000   \n",
      "unique         NaN         NaN     2         NaN         NaN         NaN   \n",
      "top            NaN         NaN  male         NaN         NaN         NaN   \n",
      "freq           NaN         NaN   577         NaN         NaN         NaN   \n",
      "mean      0.383838    2.308642   NaN   29.699118    0.523008    0.381594   \n",
      "std       0.486592    0.836071   NaN   14.526497    1.102743    0.806057   \n",
      "min       0.000000    1.000000   NaN    0.420000    0.000000    0.000000   \n",
      "25%       0.000000    2.000000   NaN   20.125000    0.000000    0.000000   \n",
      "50%       0.000000    3.000000   NaN   28.000000    0.000000    0.000000   \n",
      "75%       1.000000    3.000000   NaN   38.000000    1.000000    0.000000   \n",
      "max       1.000000    3.000000   NaN   80.000000    8.000000    6.000000   \n",
      "\n",
      "              fare embarked  class  who adult_male deck  embark_town alive  \\\n",
      "count   891.000000      889    891  891        891  203          889   891   \n",
      "unique         NaN        3      3    3          2    7            3     2   \n",
      "top            NaN        S  Third  man       True    C  Southampton    no   \n",
      "freq           NaN      644    491  537        537   59          644   549   \n",
      "mean     32.204208      NaN    NaN  NaN        NaN  NaN          NaN   NaN   \n",
      "std      49.693429      NaN    NaN  NaN        NaN  NaN          NaN   NaN   \n",
      "min       0.000000      NaN    NaN  NaN        NaN  NaN          NaN   NaN   \n",
      "25%       7.910400      NaN    NaN  NaN        NaN  NaN          NaN   NaN   \n",
      "50%      14.454200      NaN    NaN  NaN        NaN  NaN          NaN   NaN   \n",
      "75%      31.000000      NaN    NaN  NaN        NaN  NaN          NaN   NaN   \n",
      "max     512.329200      NaN    NaN  NaN        NaN  NaN          NaN   NaN   \n",
      "\n",
      "       alone  \n",
      "count    891  \n",
      "unique     2  \n",
      "top     True  \n",
      "freq     537  \n",
      "mean     NaN  \n",
      "std      NaN  \n",
      "min      NaN  \n",
      "25%      NaN  \n",
      "50%      NaN  \n",
      "75%      NaN  \n",
      "max      NaN  \n",
      "\n",
      "Missing Values in Each Column:\n",
      "survived         0\n",
      "pclass           0\n",
      "sex              0\n",
      "age            177\n",
      "sibsp            0\n",
      "parch            0\n",
      "fare             0\n",
      "embarked         2\n",
      "class            0\n",
      "who              0\n",
      "adult_male       0\n",
      "deck           688\n",
      "embark_town      2\n",
      "alive            0\n",
      "alone            0\n",
      "dtype: int64\n"
     ]
    }
   ],
   "source": [
    "# Check the total number of rows and columns\n",
    "print(\"Dataset Shape:\", df2.shape)\n",
    "\n",
    "# Describe the dataset including all columns\n",
    "print(\"\\nComplete Summary Including All Columns:\")\n",
    "print(df2.describe(include='all'))\n",
    "\n",
    "# Check for missing values\n",
    "print(\"\\nMissing Values in Each Column:\")\n",
    "print(df2.isna().sum())"
   ]
  },
  {
   "cell_type": "code",
   "execution_count": null,
   "id": "f091901a",
   "metadata": {},
   "outputs": [],
   "source": [
    "#4\n",
    "# The size reported by df.shape represents all data, while df.describe()\n",
    "#shows statistics for numerical columns or columns of the specified data type.\n",
    "# Differences in \"count\" are due to missing values (NaN), which df.describe() does not include in the count."
   ]
  },
  {
   "cell_type": "code",
   "execution_count": null,
   "id": "29d8b44a",
   "metadata": {},
   "outputs": [],
   "source": [
    "#5.\n",
    "\n",
    "# Attribue is characteristic or property of an object. When you access an attribute, \n",
    "#you are retrieving a stored value directly without performing any additional calculations or actions.\n",
    "# Method is a function that is associated with an object.When you call a method, it can execute code,\n",
    "#perform calculations, and/or modify the object."
   ]
  },
  {
   "cell_type": "code",
   "execution_count": null,
   "id": "83f847ff",
   "metadata": {},
   "outputs": [],
   "source": [
    "'''\n",
    "Summary of Our Conversation\n",
    "1. Introduction to the Dataset:\n",
    "You started by mentioning that you had downloaded a dataset about characters from \"Animal Crossing\" from a specific URL (https://raw.githubusercontent.com/rfordatascience/tidytuesday/master/data/2020/2020-05-05/villagers.csv).\n",
    "You wanted to know what columns of information the dataset contained and how much data was present in the file.\n",
    "2. Understanding the Structure of the Dataset:\n",
    "I explained that you could get the column names and the total number of rows in the dataset using Python and the pandas library.\n",
    "I provided a Python code snippet to load the dataset and display the columns (df.columns) and the number of rows (len(df)).\n",
    "3. Difference Between Observations and Variables:\n",
    "I explained the terms \"observations\" and \"variables\" in the context of your dataset:\n",
    "Observations are individual data points or records in the dataset (rows) — in this case, each character or villager from \"Animal Crossing\".\n",
    "Variables are different types of information collected about each observation (columns), such as \"Name,\" \"Species,\" \"Gender,\" etc.\n",
    "4. Providing Simple Summaries of Columns:\n",
    "You asked how to provide simple summaries of the columns in the dataset.\n",
    "I suggested using methods like df.info(), df.describe(), and df.value_counts() in Python to get overviews of the data types, basic statistics, and the frequency of unique values in specific columns.\n",
    "5. Discrepancies Between df.shape and df.describe():\n",
    "You inquired about discrepancies between the size of the dataset given by df.shape and the number of columns analyzed by df.describe(), and the values reported in the \"count\" column.\n",
    "I explained that:\n",
    "df.shape shows the total number of rows and columns in the dataset.\n",
    "df.describe() by default only analyzes numerical columns and provides statistics for them.\n",
    "The \"count\" column in df.describe() represents the number of non-missing (non-NaN) values for each column, which may be less than the total number of rows if there are missing values.\n",
    "6. Difference Between Attributes and Methods in Python:\n",
    "You asked about the difference between an \"attribute\" (such as df.shape) and a \"method\" (such as df.describe()).\n",
    "I clarified that:\n",
    "An attribute is a characteristic or property of an object that holds a value (e.g., df.shape provides the dimensions of the DataFrame and does not require parentheses).\n",
    "A method is a function associated with an object that performs an action or computation (e.g., df.describe() calculates descriptive statistics and requires parentheses).\n",
    "'''\n",
    "\n",
    "#https://chatgpt.com/share/66e3ab2b-4d28-800b-95c8-43f97f3a5e07"
   ]
  }
 ],
 "metadata": {
  "kernelspec": {
   "display_name": "Python 3 (ipykernel)",
   "language": "python",
   "name": "python3"
  },
  "language_info": {
   "codemirror_mode": {
    "name": "ipython",
    "version": 3
   },
   "file_extension": ".py",
   "mimetype": "text/x-python",
   "name": "python",
   "nbconvert_exporter": "python",
   "pygments_lexer": "ipython3",
   "version": "3.11.6"
  }
 },
 "nbformat": 4,
 "nbformat_minor": 5
}
